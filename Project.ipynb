{
 "cells": [
  {
   "cell_type": "code",
   "execution_count": 3,
   "metadata": {
    "collapsed": true
   },
   "outputs": [
    {
     "data": {
      "text/plain": "                                 question  \\\n0                              什么是新型冠状病毒？   \n1    为什么这种疾病被称为 2019 年新型冠状病毒肺炎（COVID-19）？   \n2  为什么有人会因为 COVID-19 而指责或躲避某些个人和群体（制造污名）？   \n3                人们如何制止与 COVID-19 相关的污名化？   \n4    为何某些州的COVID-19病例数量有时与CDC网站上发布的数量有差别？   \n\n                                              answer  \\\n0  新型冠状病毒是一种此前尚未确定的新冠状病毒。导致新型冠状病毒肺炎 | 新冠肺炎2019（CO...   \n1  2020 年 2 月 11 日，世界卫生组织宣布了导致最初于中国武汉发现的 2019 年新型...   \n2  美国民众可能对住在或前往COVID-19传播地区的亲友感到担心焦虑。有些人很担心通过这些人感...   \n3  在注意到污名化正在发生的情况下，人们可以通过提供社会支持来对抗污名化。污名会影响被污名化群体...   \n4  CDC发布的总病例数量依照各辖区的确认程序得以验证。不同的地方所显示的病例数量的发现和确认程...   \n\n                                                 url language source  \\\n0  https://chinese.cdc.gov/coronavirus/2019-ncov/...  chinese    CDC   \n1  https://chinese.cdc.gov/coronavirus/2019-ncov/...  chinese    CDC   \n2  https://chinese.cdc.gov/coronavirus/2019-ncov/...  chinese    CDC   \n3  https://chinese.cdc.gov/coronavirus/2019-ncov/...  chinese    CDC   \n4  https://chinese.cdc.gov/coronavirus/2019-ncov/...  chinese    CDC   \n\n                      section  \\\n0  Frequently Asked Questions   \n1  Frequently Asked Questions   \n2  Frequently Asked Questions   \n3  Frequently Asked Questions   \n4  Frequently Asked Questions   \n\n                                        wrong_answer  \n0  使用 CDC 开发的诊断检测，结果为阴性是指在受测者样本中未发现导致 COVID-19 的病...  \n1  引发COVID-19的病毒被认为主要以人传人的方式，通过感染患者咳嗽或打喷嚏时产生的呼吸道飞...  \n2  目前，没有证据表明COVID-19病毒会从宠物的皮肤或皮毛传播给人类。\\n关于照顾宠物的最佳...  \n3  洗手是保护您与您的家人远离疾病的最佳途径之一。经常用肥皂和水洗手20秒以上，尤其是擤鼻涕、咳...  \n4  \\n\\n与孩子的学校保持联系。\\n\\n很多学校提供网络课程（虚拟学习）。查看学校布置的作业，...  ",
      "text/html": "<div>\n<style scoped>\n    .dataframe tbody tr th:only-of-type {\n        vertical-align: middle;\n    }\n\n    .dataframe tbody tr th {\n        vertical-align: top;\n    }\n\n    .dataframe thead th {\n        text-align: right;\n    }\n</style>\n<table border=\"1\" class=\"dataframe\">\n  <thead>\n    <tr style=\"text-align: right;\">\n      <th></th>\n      <th>question</th>\n      <th>answer</th>\n      <th>url</th>\n      <th>language</th>\n      <th>source</th>\n      <th>section</th>\n      <th>wrong_answer</th>\n    </tr>\n  </thead>\n  <tbody>\n    <tr>\n      <th>0</th>\n      <td>什么是新型冠状病毒？</td>\n      <td>新型冠状病毒是一种此前尚未确定的新冠状病毒。导致新型冠状病毒肺炎 | 新冠肺炎2019（CO...</td>\n      <td>https://chinese.cdc.gov/coronavirus/2019-ncov/...</td>\n      <td>chinese</td>\n      <td>CDC</td>\n      <td>Frequently Asked Questions</td>\n      <td>使用 CDC 开发的诊断检测，结果为阴性是指在受测者样本中未发现导致 COVID-19 的病...</td>\n    </tr>\n    <tr>\n      <th>1</th>\n      <td>为什么这种疾病被称为 2019 年新型冠状病毒肺炎（COVID-19）？</td>\n      <td>2020 年 2 月 11 日，世界卫生组织宣布了导致最初于中国武汉发现的 2019 年新型...</td>\n      <td>https://chinese.cdc.gov/coronavirus/2019-ncov/...</td>\n      <td>chinese</td>\n      <td>CDC</td>\n      <td>Frequently Asked Questions</td>\n      <td>引发COVID-19的病毒被认为主要以人传人的方式，通过感染患者咳嗽或打喷嚏时产生的呼吸道飞...</td>\n    </tr>\n    <tr>\n      <th>2</th>\n      <td>为什么有人会因为 COVID-19 而指责或躲避某些个人和群体（制造污名）？</td>\n      <td>美国民众可能对住在或前往COVID-19传播地区的亲友感到担心焦虑。有些人很担心通过这些人感...</td>\n      <td>https://chinese.cdc.gov/coronavirus/2019-ncov/...</td>\n      <td>chinese</td>\n      <td>CDC</td>\n      <td>Frequently Asked Questions</td>\n      <td>目前，没有证据表明COVID-19病毒会从宠物的皮肤或皮毛传播给人类。\\n关于照顾宠物的最佳...</td>\n    </tr>\n    <tr>\n      <th>3</th>\n      <td>人们如何制止与 COVID-19 相关的污名化？</td>\n      <td>在注意到污名化正在发生的情况下，人们可以通过提供社会支持来对抗污名化。污名会影响被污名化群体...</td>\n      <td>https://chinese.cdc.gov/coronavirus/2019-ncov/...</td>\n      <td>chinese</td>\n      <td>CDC</td>\n      <td>Frequently Asked Questions</td>\n      <td>洗手是保护您与您的家人远离疾病的最佳途径之一。经常用肥皂和水洗手20秒以上，尤其是擤鼻涕、咳...</td>\n    </tr>\n    <tr>\n      <th>4</th>\n      <td>为何某些州的COVID-19病例数量有时与CDC网站上发布的数量有差别？</td>\n      <td>CDC发布的总病例数量依照各辖区的确认程序得以验证。不同的地方所显示的病例数量的发现和确认程...</td>\n      <td>https://chinese.cdc.gov/coronavirus/2019-ncov/...</td>\n      <td>chinese</td>\n      <td>CDC</td>\n      <td>Frequently Asked Questions</td>\n      <td>\\n\\n与孩子的学校保持联系。\\n\\n很多学校提供网络课程（虚拟学习）。查看学校布置的作业，...</td>\n    </tr>\n  </tbody>\n</table>\n</div>"
     },
     "execution_count": 3,
     "metadata": {},
     "output_type": "execute_result"
    }
   ],
   "source": [
    "### Initial load\n",
    "# Import Packages\n",
    "import pandas as pd\n",
    "\n",
    "# Load data files\n",
    "community_df = pd.read_csv(\"data/community.csv\")\n",
    "news_df = pd.read_csv(\"data/news.csv\")\n",
    "multilingual_df = pd.read_csv(\"data/multilingual.csv\")\n",
    "\n",
    "# Test loaded files\n",
    "community_df.head(5)\n",
    "news_df.head(5)\n",
    "multilingual_df.head(5)"
   ]
  },
  {
   "cell_type": "code",
   "execution_count": null,
   "outputs": [],
   "source": [
    "### Preprocessing"
   ],
   "metadata": {
    "collapsed": false,
    "pycharm": {
     "name": "#%%\n"
    }
   }
  }
 ],
 "metadata": {
  "kernelspec": {
   "display_name": "Python 3",
   "language": "python",
   "name": "python3"
  },
  "language_info": {
   "codemirror_mode": {
    "name": "ipython",
    "version": 2
   },
   "file_extension": ".py",
   "mimetype": "text/x-python",
   "name": "python",
   "nbconvert_exporter": "python",
   "pygments_lexer": "ipython2",
   "version": "2.7.6"
  }
 },
 "nbformat": 4,
 "nbformat_minor": 0
}