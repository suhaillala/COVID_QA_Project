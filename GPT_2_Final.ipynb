{
  "nbformat": 4,
  "nbformat_minor": 0,
  "metadata": {
    "accelerator": "GPU",
    "colab": {
      "name": "GPT_21.ipynb",
      "provenance": [],
      "collapsed_sections": []
    },
    "kernelspec": {
      "display_name": "Python 3",
      "name": "python3"
    }
  },
  "cells": [
    {
      "cell_type": "code",
      "metadata": {
        "colab": {
          "base_uri": "https://localhost:8080/"
        },
        "id": "sSFFPSsuktrK",
        "outputId": "371e4bf0-f157-458d-fc75-2e3762f2e994"
      },
      "source": [
        "pip install tokenizers"
      ],
      "execution_count": 22,
      "outputs": [
        {
          "output_type": "stream",
          "text": [
            "Requirement already satisfied: tokenizers in /usr/local/lib/python3.6/dist-packages (0.9.4)\n"
          ],
          "name": "stdout"
        }
      ]
    },
    {
      "cell_type": "code",
      "metadata": {
        "id": "-ulvRlUZCcOG",
        "colab": {
          "base_uri": "https://localhost:8080/"
        },
        "outputId": "a804bc2c-0d4a-41e4-b330-14ad2fe05ac9"
      },
      "source": [
        "from pathlib import Path\n",
        "import torch\n",
        "import os\n",
        "import pandas as pd\n",
        "# the folder 'text' contains all the files\n",
        "#paths = [str(x) for x in Path(\"./data/\").glob(\"**/*.txt\")]\n",
        "\n",
        "from google.colab import drive\n",
        "drive.mount('/content/drive')\n",
        "\n",
        "# specify GPU\n",
        "device = torch.device(\"cuda\")\n",
        "\n",
        "# Import from external file\n",
        "X_train = pd.read_csv('/content/drive/My Drive/Data/output/x_train.csv')\n",
        "X_test = pd.read_csv(\"/content/drive/My Drive/Data/output/x_test.csv\")\n"
      ],
      "execution_count": 23,
      "outputs": [
        {
          "output_type": "stream",
          "text": [
            "Drive already mounted at /content/drive; to attempt to forcibly remount, call drive.mount(\"/content/drive\", force_remount=True).\n"
          ],
          "name": "stdout"
        }
      ]
    },
    {
      "cell_type": "code",
      "metadata": {
        "colab": {
          "base_uri": "https://localhost:8080/"
        },
        "id": "IlsPxXH4mK3d",
        "outputId": "0129f116-470b-4c34-b9f0-5bbc2ba06b65"
      },
      "source": [
        "pip install transformers"
      ],
      "execution_count": 24,
      "outputs": [
        {
          "output_type": "stream",
          "text": [
            "Requirement already satisfied: transformers in /usr/local/lib/python3.6/dist-packages (4.0.1)\n",
            "Requirement already satisfied: tqdm>=4.27 in /usr/local/lib/python3.6/dist-packages (from transformers) (4.41.1)\n",
            "Requirement already satisfied: tokenizers==0.9.4 in /usr/local/lib/python3.6/dist-packages (from transformers) (0.9.4)\n",
            "Requirement already satisfied: sacremoses in /usr/local/lib/python3.6/dist-packages (from transformers) (0.0.43)\n",
            "Requirement already satisfied: filelock in /usr/local/lib/python3.6/dist-packages (from transformers) (3.0.12)\n",
            "Requirement already satisfied: regex!=2019.12.17 in /usr/local/lib/python3.6/dist-packages (from transformers) (2019.12.20)\n",
            "Requirement already satisfied: requests in /usr/local/lib/python3.6/dist-packages (from transformers) (2.23.0)\n",
            "Requirement already satisfied: numpy in /usr/local/lib/python3.6/dist-packages (from transformers) (1.18.5)\n",
            "Requirement already satisfied: dataclasses; python_version < \"3.7\" in /usr/local/lib/python3.6/dist-packages (from transformers) (0.8)\n",
            "Requirement already satisfied: packaging in /usr/local/lib/python3.6/dist-packages (from transformers) (20.7)\n",
            "Requirement already satisfied: six in /usr/local/lib/python3.6/dist-packages (from sacremoses->transformers) (1.15.0)\n",
            "Requirement already satisfied: click in /usr/local/lib/python3.6/dist-packages (from sacremoses->transformers) (7.1.2)\n",
            "Requirement already satisfied: joblib in /usr/local/lib/python3.6/dist-packages (from sacremoses->transformers) (0.17.0)\n",
            "Requirement already satisfied: chardet<4,>=3.0.2 in /usr/local/lib/python3.6/dist-packages (from requests->transformers) (3.0.4)\n",
            "Requirement already satisfied: idna<3,>=2.5 in /usr/local/lib/python3.6/dist-packages (from requests->transformers) (2.10)\n",
            "Requirement already satisfied: certifi>=2017.4.17 in /usr/local/lib/python3.6/dist-packages (from requests->transformers) (2020.12.5)\n",
            "Requirement already satisfied: urllib3!=1.25.0,!=1.25.1,<1.26,>=1.21.1 in /usr/local/lib/python3.6/dist-packages (from requests->transformers) (1.24.3)\n",
            "Requirement already satisfied: pyparsing>=2.0.2 in /usr/local/lib/python3.6/dist-packages (from packaging->transformers) (2.4.7)\n"
          ],
          "name": "stdout"
        }
      ]
    },
    {
      "cell_type": "code",
      "metadata": {
        "colab": {
          "base_uri": "https://localhost:8080/"
        },
        "id": "_TdgSNT1mFUn",
        "outputId": "c2fa307e-460c-413f-c13a-8dfb6de5ded2"
      },
      "source": [
        "import tensorflow as tf\n",
        "\n",
        "from transformers import GPT2Config, TFGPT2LMHeadModel, GPT2Tokenizer\n",
        "# loading tokenizer from the saved model path\n",
        "#tokenizer = GPT2Tokenizer.from_pretrained(save_path)\n",
        "tokenizer = GPT2Tokenizer.from_pretrained('gpt2')\n",
        "'''\n",
        "tokenizer.add_special_tokens({\n",
        "  \"eos_token\": \"</s>\",\n",
        "  \"bos_token\": \"<s>\",\n",
        "  \"unk_token\": \"<unk>\",\n",
        "  \"pad_token\": \"<pad>\",\n",
        "  \"mask_token\": \"<mask>\"\n",
        "})\n",
        "'''\n",
        "# creating the configurations from which the model can be made\n",
        "config = GPT2Config(\n",
        "  vocab_size=tokenizer.vocab_size,\n",
        "  bos_token_id=tokenizer.bos_token_id,\n",
        "  eos_token_id=tokenizer.eos_token_id\n",
        ")\n",
        "# creating the model\n",
        "#model = TFGPT2LMHeadModel(config)\n",
        "model = TFGPT2LMHeadModel.from_pretrained('gpt2')"
      ],
      "execution_count": 25,
      "outputs": [
        {
          "output_type": "stream",
          "text": [
            "All model checkpoint layers were used when initializing TFGPT2LMHeadModel.\n",
            "\n",
            "All the layers of TFGPT2LMHeadModel were initialized from the model checkpoint at gpt2.\n",
            "If your task is similar to the task the model of the checkpoint was trained on, you can already use TFGPT2LMHeadModel for predictions without further training.\n"
          ],
          "name": "stderr"
        }
      ]
    },
    {
      "cell_type": "code",
      "metadata": {
        "colab": {
          "base_uri": "https://localhost:8080/"
        },
        "id": "rBMF2Jn11z2n",
        "outputId": "78111e7a-14c2-4410-941c-4204e12bd56f"
      },
      "source": [
        "single_string = ''\r\n",
        "for i in range(len(X_train)):\r\n",
        "  single_string += X_train['question'].iloc[i] + ' ' + tokenizer.bos_token + ' ' + X_train['answer'].iloc[i] + ' ' + tokenizer.eos_token + ' '\r\n",
        "string_tokenized = tokenizer.encode(single_string)"
      ],
      "execution_count": 26,
      "outputs": [
        {
          "output_type": "stream",
          "text": [
            "Token indices sequence length is longer than the specified maximum sequence length for this model (410593 > 1024). Running this sequence through the model will result in indexing errors\n"
          ],
          "name": "stderr"
        }
      ]
    },
    {
      "cell_type": "code",
      "metadata": {
        "colab": {
          "base_uri": "https://localhost:8080/",
          "height": 52
        },
        "id": "gCXmut9PmSSR",
        "outputId": "0c250502-21d7-4b74-bb64-1d8a8bd01c50"
      },
      "source": [
        "'''\n",
        "single_string = ''\n",
        "for filename in paths:\n",
        "  with open(filename, \"r\", encoding='utf-8') as f:\n",
        "   x = f.read()\n",
        "   single_string += x + tokenizer.eos_token\n",
        "string_tokenized = tokenizer.encode(single_string)\n",
        "'''"
      ],
      "execution_count": 27,
      "outputs": [
        {
          "output_type": "execute_result",
          "data": {
            "application/vnd.google.colaboratory.intrinsic+json": {
              "type": "string"
            },
            "text/plain": [
              "'\\nsingle_string = \\'\\'\\nfor filename in paths:\\n  with open(filename, \"r\", encoding=\\'utf-8\\') as f:\\n   x = f.read()\\n   single_string += x + tokenizer.eos_token\\nstring_tokenized = tokenizer.encode(single_string)\\n'"
            ]
          },
          "metadata": {
            "tags": []
          },
          "execution_count": 27
        }
      ]
    },
    {
      "cell_type": "code",
      "metadata": {
        "id": "Xrm89mHx9Old"
      },
      "source": [
        "#print(string_tokenized)"
      ],
      "execution_count": 28,
      "outputs": []
    },
    {
      "cell_type": "code",
      "metadata": {
        "id": "RRp640Rb5jVk"
      },
      "source": [
        "examples = []\n",
        "block_size = 100\n",
        "BATCH_SIZE = 12\n",
        "BUFFER_SIZE = 1000\n",
        "for i in range(0, len(string_tokenized) - block_size + 1, block_size):\n",
        "  examples.append(string_tokenized[i:i + block_size])\n",
        "#print(examples)\n",
        "inputs, labels = [], []\n",
        "for ex in examples:\n",
        "  inputs.append(ex[:-1])\n",
        "  labels.append(ex[1:])\n",
        "  #print(labels)\n",
        "dataset = tf.data.Dataset.from_tensor_slices((inputs, labels))\n",
        "dataset = dataset.shuffle(BUFFER_SIZE).batch(BATCH_SIZE, drop_remainder=True)"
      ],
      "execution_count": 29,
      "outputs": []
    },
    {
      "cell_type": "code",
      "metadata": {
        "id": "eJVdwZiQ5vJm"
      },
      "source": [
        "# defining our optimizer\n",
        "optimizer = tf.keras.optimizers.Adam(learning_rate=3e-5, epsilon=1e-08, clipnorm=1.0)\n",
        "# definining our loss function\n",
        "loss = tf.keras.losses.SparseCategoricalCrossentropy(from_logits=True)\n",
        "# defining our metric which we want to observe\n",
        "metric = tf.keras.metrics.SparseCategoricalAccuracy('accuracy')\n",
        "# compiling the model\n",
        "model.compile(optimizer=optimizer, loss=[loss, *[None] * model.config.n_layer], metrics=[metric])"
      ],
      "execution_count": 30,
      "outputs": []
    },
    {
      "cell_type": "code",
      "metadata": {
        "colab": {
          "base_uri": "https://localhost:8080/"
        },
        "id": "elZkGoTS7CB3",
        "outputId": "94e8b4e0-3c56-43de-b9d5-e858e4b36c10"
      },
      "source": [
        "dataset"
      ],
      "execution_count": 31,
      "outputs": [
        {
          "output_type": "execute_result",
          "data": {
            "text/plain": [
              "<BatchDataset shapes: ((12, 99), (12, 99)), types: (tf.int32, tf.int32)>"
            ]
          },
          "metadata": {
            "tags": []
          },
          "execution_count": 31
        }
      ]
    },
    {
      "cell_type": "code",
      "metadata": {
        "id": "ic8WrJ4YIipd"
      },
      "source": [
        "# defining our optimizer\n",
        "optimizer = tf.keras.optimizers.Adam(learning_rate=3e-5, epsilon=1e-08, clipnorm=1.0)\n",
        "# definining our loss function\n",
        "loss = tf.keras.losses.SparseCategoricalCrossentropy(from_logits=True)\n",
        "# defining our metric which we want to observe\n",
        "metric = tf.keras.metrics.SparseCategoricalAccuracy('accuracy')\n",
        "# compiling the model\n",
        "model.compile(optimizer=optimizer, loss=[loss, *[None] * model.config.n_layer], metrics=[metric])"
      ],
      "execution_count": 32,
      "outputs": []
    },
    {
      "cell_type": "code",
      "metadata": {
        "colab": {
          "base_uri": "https://localhost:8080/"
        },
        "id": "Uqaih8Ke53GV",
        "outputId": "b76420cf-39fc-4029-c2ae-6d1d6f40ca46"
      },
      "source": [
        "num_epoch = 10\n",
        "history = model.fit(dataset, epochs=num_epoch)"
      ],
      "execution_count": 33,
      "outputs": [
        {
          "output_type": "stream",
          "text": [
            "Epoch 1/10\n"
          ],
          "name": "stdout"
        },
        {
          "output_type": "stream",
          "text": [
            "/usr/local/lib/python3.6/dist-packages/tensorflow/python/framework/indexed_slices.py:432: UserWarning: Converting sparse IndexedSlices to a dense Tensor of unknown shape. This may consume a large amount of memory.\n",
            "  \"Converting sparse IndexedSlices to a dense Tensor of unknown shape. \"\n"
          ],
          "name": "stderr"
        },
        {
          "output_type": "stream",
          "text": [
            "342/342 [==============================] - 104s 305ms/step - loss: 3.5338 - logits_loss: 3.5338 - logits_accuracy: 0.3504 - past_key_values_1_accuracy: 0.0022 - past_key_values_2_accuracy: 0.0020 - past_key_values_3_accuracy: 0.0015 - past_key_values_4_accuracy: 0.0045 - past_key_values_5_accuracy: 0.0023 - past_key_values_6_accuracy: 0.0020 - past_key_values_7_accuracy: 0.0014 - past_key_values_8_accuracy: 0.0021 - past_key_values_9_accuracy: 0.0012 - past_key_values_10_accuracy: 0.0015 - past_key_values_11_accuracy: 0.0011 - past_key_values_12_accuracy: 0.0016\n",
            "Epoch 2/10\n",
            "342/342 [==============================] - 104s 305ms/step - loss: 3.2618 - logits_loss: 3.2618 - logits_accuracy: 0.3777 - past_key_values_1_accuracy: 0.0022 - past_key_values_2_accuracy: 0.0020 - past_key_values_3_accuracy: 0.0015 - past_key_values_4_accuracy: 0.0045 - past_key_values_5_accuracy: 0.0023 - past_key_values_6_accuracy: 0.0020 - past_key_values_7_accuracy: 0.0013 - past_key_values_8_accuracy: 0.0020 - past_key_values_9_accuracy: 0.0012 - past_key_values_10_accuracy: 0.0015 - past_key_values_11_accuracy: 0.0012 - past_key_values_12_accuracy: 0.0016\n",
            "Epoch 3/10\n",
            "342/342 [==============================] - 104s 305ms/step - loss: 3.1203 - logits_loss: 3.1203 - logits_accuracy: 0.3941 - past_key_values_1_accuracy: 0.0021 - past_key_values_2_accuracy: 0.0020 - past_key_values_3_accuracy: 0.0015 - past_key_values_4_accuracy: 0.0046 - past_key_values_5_accuracy: 0.0023 - past_key_values_6_accuracy: 0.0020 - past_key_values_7_accuracy: 0.0013 - past_key_values_8_accuracy: 0.0020 - past_key_values_9_accuracy: 0.0012 - past_key_values_10_accuracy: 0.0015 - past_key_values_11_accuracy: 0.0012 - past_key_values_12_accuracy: 0.0016\n",
            "Epoch 4/10\n",
            "342/342 [==============================] - 104s 305ms/step - loss: 3.0024 - logits_loss: 3.0024 - logits_accuracy: 0.4082 - past_key_values_1_accuracy: 0.0022 - past_key_values_2_accuracy: 0.0020 - past_key_values_3_accuracy: 0.0016 - past_key_values_4_accuracy: 0.0044 - past_key_values_5_accuracy: 0.0024 - past_key_values_6_accuracy: 0.0020 - past_key_values_7_accuracy: 0.0014 - past_key_values_8_accuracy: 0.0019 - past_key_values_9_accuracy: 0.0012 - past_key_values_10_accuracy: 0.0015 - past_key_values_11_accuracy: 0.0012 - past_key_values_12_accuracy: 0.0016\n",
            "Epoch 5/10\n",
            "342/342 [==============================] - 104s 305ms/step - loss: 2.8974 - logits_loss: 2.8974 - logits_accuracy: 0.4213 - past_key_values_1_accuracy: 0.0021 - past_key_values_2_accuracy: 0.0021 - past_key_values_3_accuracy: 0.0015 - past_key_values_4_accuracy: 0.0043 - past_key_values_5_accuracy: 0.0023 - past_key_values_6_accuracy: 0.0019 - past_key_values_7_accuracy: 0.0013 - past_key_values_8_accuracy: 0.0019 - past_key_values_9_accuracy: 0.0012 - past_key_values_10_accuracy: 0.0015 - past_key_values_11_accuracy: 0.0012 - past_key_values_12_accuracy: 0.0016\n",
            "Epoch 6/10\n",
            "342/342 [==============================] - 104s 305ms/step - loss: 2.7989 - logits_loss: 2.7989 - logits_accuracy: 0.4335 - past_key_values_1_accuracy: 0.0021 - past_key_values_2_accuracy: 0.0019 - past_key_values_3_accuracy: 0.0015 - past_key_values_4_accuracy: 0.0042 - past_key_values_5_accuracy: 0.0023 - past_key_values_6_accuracy: 0.0019 - past_key_values_7_accuracy: 0.0013 - past_key_values_8_accuracy: 0.0019 - past_key_values_9_accuracy: 0.0012 - past_key_values_10_accuracy: 0.0015 - past_key_values_11_accuracy: 0.0012 - past_key_values_12_accuracy: 0.0015\n",
            "Epoch 7/10\n",
            "342/342 [==============================] - 104s 305ms/step - loss: 2.7043 - logits_loss: 2.7043 - logits_accuracy: 0.4455 - past_key_values_1_accuracy: 0.0022 - past_key_values_2_accuracy: 0.0020 - past_key_values_3_accuracy: 0.0016 - past_key_values_4_accuracy: 0.0042 - past_key_values_5_accuracy: 0.0023 - past_key_values_6_accuracy: 0.0019 - past_key_values_7_accuracy: 0.0013 - past_key_values_8_accuracy: 0.0019 - past_key_values_9_accuracy: 0.0012 - past_key_values_10_accuracy: 0.0015 - past_key_values_11_accuracy: 0.0012 - past_key_values_12_accuracy: 0.0015\n",
            "Epoch 8/10\n",
            "342/342 [==============================] - 104s 305ms/step - loss: 2.6116 - logits_loss: 2.6116 - logits_accuracy: 0.4584 - past_key_values_1_accuracy: 0.0021 - past_key_values_2_accuracy: 0.0020 - past_key_values_3_accuracy: 0.0016 - past_key_values_4_accuracy: 0.0042 - past_key_values_5_accuracy: 0.0023 - past_key_values_6_accuracy: 0.0019 - past_key_values_7_accuracy: 0.0013 - past_key_values_8_accuracy: 0.0019 - past_key_values_9_accuracy: 0.0012 - past_key_values_10_accuracy: 0.0015 - past_key_values_11_accuracy: 0.0012 - past_key_values_12_accuracy: 0.0015\n",
            "Epoch 9/10\n",
            "342/342 [==============================] - 104s 305ms/step - loss: 2.5217 - logits_loss: 2.5217 - logits_accuracy: 0.4705 - past_key_values_1_accuracy: 0.0021 - past_key_values_2_accuracy: 0.0021 - past_key_values_3_accuracy: 0.0016 - past_key_values_4_accuracy: 0.0041 - past_key_values_5_accuracy: 0.0023 - past_key_values_6_accuracy: 0.0019 - past_key_values_7_accuracy: 0.0013 - past_key_values_8_accuracy: 0.0019 - past_key_values_9_accuracy: 0.0012 - past_key_values_10_accuracy: 0.0015 - past_key_values_11_accuracy: 0.0012 - past_key_values_12_accuracy: 0.0015\n",
            "Epoch 10/10\n",
            "342/342 [==============================] - 104s 305ms/step - loss: 2.4339 - logits_loss: 2.4339 - logits_accuracy: 0.4830 - past_key_values_1_accuracy: 0.0021 - past_key_values_2_accuracy: 0.0020 - past_key_values_3_accuracy: 0.0016 - past_key_values_4_accuracy: 0.0041 - past_key_values_5_accuracy: 0.0024 - past_key_values_6_accuracy: 0.0020 - past_key_values_7_accuracy: 0.0014 - past_key_values_8_accuracy: 0.0019 - past_key_values_9_accuracy: 0.0012 - past_key_values_10_accuracy: 0.0015 - past_key_values_11_accuracy: 0.0012 - past_key_values_12_accuracy: 0.0016\n"
          ],
          "name": "stdout"
        }
      ]
    },
    {
      "cell_type": "code",
      "metadata": {
        "id": "Rj5KjZRN18K4"
      },
      "source": [
        "def predict(input_text):\r\n",
        "  # encoding the input text\r\n",
        "  input_text = input_text + ' ' + tokenizer.bos_token\r\n",
        "  input_ids = tokenizer.encode(input_text, return_tensors='tf') \r\n",
        "  \r\n",
        "  # getting out output\r\n",
        "  beam_output = model.generate(\r\n",
        "  input_ids,\r\n",
        "  max_length = 1024,\r\n",
        "  num_beams = 5,\r\n",
        "  temperature = 0.7,\r\n",
        "  no_repeat_ngram_size=2,\r\n",
        "  num_return_sequences=5\r\n",
        ")\r\n",
        "  predicted_ans = tokenizer.decode(beam_output[0])\r\n",
        "  predicted_ans = predicted_ans[predicted_ans.find(tokenizer.bos_token)+len(tokenizer.bos_token):]\r\n",
        "  predicted_ans.replace(tokenizer.eos_token, '')\r\n",
        "  predicted_ans.replace('\\xa0', '')\r\n",
        "  return predicted_ans"
      ],
      "execution_count": 48,
      "outputs": []
    },
    {
      "cell_type": "code",
      "metadata": {
        "colab": {
          "base_uri": "https://localhost:8080/"
        },
        "id": "WdzZwgXC11C3",
        "outputId": "4bffdd11-b6e8-4a2e-a1d2-f85a8ed5f430"
      },
      "source": [
        "# Testing with custom test set\r\n",
        "docs_new = ['What is coronavirus?',\r\n",
        "            'What are symptoms of COVID',\r\n",
        "            'What is COVID?',\r\n",
        "            'I have a cough. Do I have corona?',\r\n",
        "            'Does my friend have COVID?',\r\n",
        "            'How many people in USA have COVID?',\r\n",
        "            'How many people in the world have covid19?']\r\n",
        "\r\n",
        "\r\n",
        "predicted_custom = []\r\n",
        "for question in docs_new:\r\n",
        "    predicted_custom.append(predict(question))"
      ],
      "execution_count": 36,
      "outputs": [
        {
          "output_type": "stream",
          "text": [
            "Setting `pad_token_id` to 50256 (first `eos_token_id`) to generate sequence\n",
            "Setting `pad_token_id` to 50256 (first `eos_token_id`) to generate sequence\n",
            "Setting `pad_token_id` to 50256 (first `eos_token_id`) to generate sequence\n",
            "Setting `pad_token_id` to 50256 (first `eos_token_id`) to generate sequence\n",
            "Setting `pad_token_id` to 50256 (first `eos_token_id`) to generate sequence\n",
            "Setting `pad_token_id` to 50256 (first `eos_token_id`) to generate sequence\n",
            "Setting `pad_token_id` to 50256 (first `eos_token_id`) to generate sequence\n"
          ],
          "name": "stderr"
        }
      ]
    },
    {
      "cell_type": "code",
      "metadata": {
        "colab": {
          "base_uri": "https://localhost:8080/",
          "height": 254
        },
        "id": "gIzk3xLM3QiA",
        "outputId": "1c1eb178-ff37-4b9d-bd41-44cf92c04384"
      },
      "source": [
        "# View results\r\n",
        "results_custom = pd.DataFrame(data = {'Question': docs_new, 'Predicted Answer': predicted_custom})\r\n",
        "results_custom"
      ],
      "execution_count": 37,
      "outputs": [
        {
          "output_type": "execute_result",
          "data": {
            "text/html": [
              "<div>\n",
              "<style scoped>\n",
              "    .dataframe tbody tr th:only-of-type {\n",
              "        vertical-align: middle;\n",
              "    }\n",
              "\n",
              "    .dataframe tbody tr th {\n",
              "        vertical-align: top;\n",
              "    }\n",
              "\n",
              "    .dataframe thead th {\n",
              "        text-align: right;\n",
              "    }\n",
              "</style>\n",
              "<table border=\"1\" class=\"dataframe\">\n",
              "  <thead>\n",
              "    <tr style=\"text-align: right;\">\n",
              "      <th></th>\n",
              "      <th>Question</th>\n",
              "      <th>Predicted Answer</th>\n",
              "    </tr>\n",
              "  </thead>\n",
              "  <tbody>\n",
              "    <tr>\n",
              "      <th>0</th>\n",
              "      <td>What is coronavirus?</td>\n",
              "      <td>ndoftext|&gt; Coronaviruses are a large family of...</td>\n",
              "    </tr>\n",
              "    <tr>\n",
              "      <th>1</th>\n",
              "      <td>What are symptoms of COVID</td>\n",
              "      <td>ndoftext|&gt; I am a PhD student in the Departmen...</td>\n",
              "    </tr>\n",
              "    <tr>\n",
              "      <th>2</th>\n",
              "      <td>What is COVID?</td>\n",
              "      <td>ndoftext|&gt; Coronavirus (COVID-19) is a new vir...</td>\n",
              "    </tr>\n",
              "    <tr>\n",
              "      <th>3</th>\n",
              "      <td>I have a cough. Do I have corona?</td>\n",
              "      <td>ndoftext|&gt; Coronaviruses are a large family of...</td>\n",
              "    </tr>\n",
              "    <tr>\n",
              "      <th>4</th>\n",
              "      <td>Does my friend have COVID?</td>\n",
              "      <td>ndoftext|&gt; Yes, she has. \\n\\nHer symptoms are ...</td>\n",
              "    </tr>\n",
              "    <tr>\n",
              "      <th>5</th>\n",
              "      <td>How many people in USA have COVID?</td>\n",
              "      <td>ndoftext|&gt; The number of confirmed cases in th...</td>\n",
              "    </tr>\n",
              "    <tr>\n",
              "      <th>6</th>\n",
              "      <td>How many people in the world have covid19?</td>\n",
              "      <td>ndoftext|&gt; There are currently no known cases ...</td>\n",
              "    </tr>\n",
              "  </tbody>\n",
              "</table>\n",
              "</div>"
            ],
            "text/plain": [
              "                                     Question                                   Predicted Answer\n",
              "0                        What is coronavirus?  ndoftext|> Coronaviruses are a large family of...\n",
              "1                  What are symptoms of COVID  ndoftext|> I am a PhD student in the Departmen...\n",
              "2                              What is COVID?  ndoftext|> Coronavirus (COVID-19) is a new vir...\n",
              "3           I have a cough. Do I have corona?  ndoftext|> Coronaviruses are a large family of...\n",
              "4                  Does my friend have COVID?  ndoftext|> Yes, she has. \\n\\nHer symptoms are ...\n",
              "5          How many people in USA have COVID?  ndoftext|> The number of confirmed cases in th...\n",
              "6  How many people in the world have covid19?  ndoftext|> There are currently no known cases ..."
            ]
          },
          "metadata": {
            "tags": []
          },
          "execution_count": 37
        }
      ]
    },
    {
      "cell_type": "code",
      "metadata": {
        "colab": {
          "base_uri": "https://localhost:8080/",
          "height": 406
        },
        "id": "fwMmPfsmQ2Mi",
        "outputId": "98608692-72b1-4c6d-edc0-260f36752850"
      },
      "source": [
        "results_custom['Predicted Answer'].iloc[0]"
      ],
      "execution_count": 39,
      "outputs": [
        {
          "output_type": "execute_result",
          "data": {
            "application/vnd.google.colaboratory.intrinsic+json": {
              "type": "string"
            },
            "text/plain": [
              "'ndoftext|> Coronaviruses are a large family of viruses that cause a range of respiratory diseases including colds, flu, and severe acute respiratory syndrome (SARS-CoV-2).  \\n\\nThe virus that causes COVID-19 is called the \"common cold\", and is caused by the common cold adenovirus.  The virus causes about 80% of the world\\'s respiratory infections, according to the World Organisation for Animal Health (OIE), and it is thought to be mainly transmitted through respiratory droplets produced when an infected person coughs or sneezes.\\n\\n\\n  In the United States, the most common form of infection is respiratory syncytial fluid (RSD), which is a fluid-like fluid that is expelled from the upper respiratory tract when a respiratory infection occurs. This fluid is then expelled into the air, where it can be inhaled by people who are nearby or have close contact with someone who has the virus. However, there is no known way to precisely measure the amount of RSD in a person’s airways, or how much is in it, in order to determine whether the person is at higher risk of developing the disease. WHO is assessing ongoing research on the ways in which people can safely and effectively use respiratory steroids, including corticosteroids and antacids, to prevent, treat and prevent the spread of this potentially life-threatening illness. The most effective ways to protect yourself and others against the infection are to regularly clean your hands, cover your cough with the bend of elbow or tissue and maintain a distance of at least 1 meter (3 feet) from people you are close to. Follow the directions of your local health authority (WHO) on how to maintain good air quality in your home, workplace and community. If you have fever, cough and difficulty breathing, seek medical attention and call in advance. You can also take\\xa0proper respiratory hygiene precautions (e.g., covering your mouth and nose with a tissue or sleeve when you cough, avoiding touching your eyes, nose or mouth with your bent elbow).\\xa0Learn more about\\xa0how to stay healthy\\xa0and\\xa0stay healthy in\\xa0everywhere\\xa0you can.\\xa0Stay connected to people and\\xa0share your health\\xa0information\\xa0through\\xa0social media,\\xa0broadcast\\xa0online and in print, as well as through\\xa0digital platforms, such as\\xa0Facebook, Twitter, Google+, MySpace, MyEbola, Quora and MyHealthYahoo. Start\\xa0learning\\xa0about\\xa0the\\xa0health\\xa0of\\xa0COVID\\xa019\\xa0from\\xa0experience\\xa0in\\xa0a\\xa0country, region or\\xa0region where you live.\\nLearn how\\xa0to\\xa0help\\xa0your health care provider\\xa0provide\\xa0quality care\\xa0for you and your loved one\\xa0when you need it most. Learn\\xa0what\\xa0measures\\xa0can\\xa0be taken to help protect you\\xa0against the\\xa0current and future\\xa0spread of\\xa0Covid‐19.Learn\\xa0things you can do to reduce your chances of catching and transmitting the new virus\\xa0by\\xa0taking\\xa0steps\\xa0that are\\xa0easier\\xa0than\\xa0traditional\\xa0medicine\\xa0or\\xa0using\\xa0natural\\xa0immune\\xa0suppression\\xa0techniques.Practice social distancing and regular hand hygiene, which can help reduce the likelihood that you will be seen as a potential risk to others.Increase your\\xa0self-isolation and isolation\\xa0during this time by\\xa0following the advice of a health professional and a local\\xa0advice\\xa0based on your own personal\\xa0situations.Stay\\xa0healthy\\xa0with\\xa0regular exercise and good physical activity.Regularly and regularly rest and drink plenty of fluids, especially water, before, during and after work, school, daycare and other important social activities.If you feel unwell, talk to your healthcare provider to find out if you should be quarantined or restricted access to essential health services.<|endoftext|><|endoftext|><|endoftext|><|endoftext|><|endoftext|><|endoftext|><|endoftext|><|endoftext|><|endoftext|><|endoftext|><|endoftext|><|endoftext|><|endoftext|><|endoftext|><|endoftext|><|endoftext|><|endoftext|><|endoftext|><|endoftext|><|endoftext|><|endoftext|><|endoftext|><|endoftext|><|endoftext|><|endoftext|><|endoftext|><|endoftext|><|endoftext|><|endoftext|><|endoftext|><|endoftext|><|endoftext|><|endoftext|>'"
            ]
          },
          "metadata": {
            "tags": []
          },
          "execution_count": 39
        }
      ]
    },
    {
      "cell_type": "code",
      "metadata": {
        "colab": {
          "base_uri": "https://localhost:8080/",
          "height": 288
        },
        "id": "ImDVZcRHRKJv",
        "outputId": "b61e6b23-ff8d-47ed-c9f5-778becde6911"
      },
      "source": [
        "results_custom['Predicted Answer'].iloc[2]"
      ],
      "execution_count": 41,
      "outputs": [
        {
          "output_type": "execute_result",
          "data": {
            "application/vnd.google.colaboratory.intrinsic+json": {
              "type": "string"
            },
            "text/plain": [
              "'ndoftext|> Coronavirus (COVID-19) is a new virus that has not been previously identified in humans. It is thought to be caused by a virus called SARS-CoV-2.\\n\\nThe virus is believed to cause the following symptoms: fever, tiredness, and shortness of breath. These symptoms are usually mild and begin gradually. They may last for several days or may be worse than usual. Some people become infected but do not develop any symptoms. \\n\\n\\n  The symptoms described by some patients are similar to those experienced by other coronaviruses, such as the common cold and the flu. However, they are different in severity and severity are not always consistent. For example, a person with a fever of 103.5°C and no symptoms for 14 days may develop a severe case of the virus. Other patients with similar symptoms may also develop pneumonia or other respiratory infections. The severity of these symptoms varies from person to person, depending on the underlying disease. In some cases, the severity may change significantly over time, leading to changes in the way the disease is transmitted. This is why it is important to regularly clean your hands, cover your cough with the bend of elbow or tissue and maintain a distance of at least 1 meter (3 feet) from people who are coughing or sneezing. Follow the directions of your local health authority and local public health authorities for any restrictions on travel, movement and gatherings. If you are travelling in a group, ensure that you follow the same rules and regulations as other people in your group. Avoid close contact with anyone who is sick or has a history of respiratory illness. Do not touch or touch your eyes, nose or mouth. Why? Hands touch the ground, surfaces or objects that are about to fall or fall into the wrong hands. Hands can pick up viruses and contaminate food, drink and other personal items. WHO is assessing ongoing research to understand the full range of potential health threats to people living with HIV and how they can protect themselves and their loved ones. To learn more, visit https://www.who.int/emergencies/diseases/2019-ncov/about-who-we-are/how-you-can-help/stay-at-home-for-your-health-and- wellbeing-during-the-outbreak/<|endoftext|><|endoftext|><|endoftext|><|endoftext|><|endoftext|><|endoftext|><|endoftext|><|endoftext|><|endoftext|><|endoftext|><|endoftext|><|endoftext|><|endoftext|><|endoftext|><|endoftext|><|endoftext|><|endoftext|><|endoftext|><|endoftext|><|endoftext|><|endoftext|><|endoftext|><|endoftext|><|endoftext|><|endoftext|><|endoftext|><|endoftext|><|endoftext|><|endoftext|><|endoftext|><|endoftext|><|endoftext|><|endoftext|><|endoftext|><|endoftext|><|endoftext|><|endoftext|><|endoftext|><|endoftext|><|endoftext|><|endoftext|><|endoftext|>'"
            ]
          },
          "metadata": {
            "tags": []
          },
          "execution_count": 41
        }
      ]
    },
    {
      "cell_type": "code",
      "metadata": {
        "colab": {
          "base_uri": "https://localhost:8080/",
          "height": 271
        },
        "id": "f9g7LvgORTp5",
        "outputId": "636adbfc-2ea8-46f8-997c-28d591621652"
      },
      "source": [
        "results_custom['Predicted Answer'].iloc[4]"
      ],
      "execution_count": 42,
      "outputs": [
        {
          "output_type": "execute_result",
          "data": {
            "application/vnd.google.colaboratory.intrinsic+json": {
              "type": "string"
            },
            "text/plain": [
              "'ndoftext|> Yes, she has. \\n\\nHer symptoms are similar to those of other coronavirus patients, including fever, cough, and shortness of breath. Her doctor recommends that you take her to the emergency room, where she is being cared for, to be tested for the virus. She should be able to walk normally and is showing no signs of illness. However, her doctor is concerned that she may be acting abnormally and that her symptoms may not be the same as that of the flu, which she described as \"very scary\".  Her family is currently in the care of a specialist in Covid-19, who is treating her with carerty.com.au. Ms. Konyndyk said she had been in contact with a number of people who had similar symptoms, but none of them were as severe as she was.\\nShe described how her mother had struggled with her anxiety and depression for years, before she developed the symptoms. \"She was very self-centred and she didn\\'t have any problems at all,\" she told CTV’s Your Morning on March 27, shortly after she started showing symptoms of coronovirus. The family has since moved into a new flat in Wuhan, a town in China\\'s Hubei province, with the aim of moving to a more remote location. But the family\\'s concerns have now been put to rest, as they are now looking for a way to continue their lives without worrying about what could happen to them if they do end up living in a house with someone who has the disease.\\n\\n\\nSo far, there is no evidence that any family member has been infected, although it is thought that at least one other person may have been. It is not yet known how long the illness will last, or whether it will lead to permanent changes to their behaviour. Dr. Jennifer Ashton, an infectious disease specialist at the Royal College of Midwives, said that people should continue to practise good respiratory hygiene, such as washing their hands with soap and water and avoiding touching their eyes, nose or mouth. They should also avoid touching objects or surfaces that are covered in dirt or debris, like tables, chairs or tables. And they should not touch any objects that have a surface on them or in their path that could pose a risk of infection. If you are worried about your child\\'s health or wellbeing, you should talk to your doctor or other health care provider. You can find more information on how to protect yourself and your family at https://www.who.int/emergencies/diseases/novel-coronaviruses/2019-ncov/about-who-may-have-come-from-the-outbreak/advice-for-people-with-high-risk-if-you-start-to-experience-severe-conditions-such-as-pneumonia-or-sickness-and-body-distress.html.<|endoftext|><|endoftext|>'"
            ]
          },
          "metadata": {
            "tags": []
          },
          "execution_count": 42
        }
      ]
    },
    {
      "cell_type": "code",
      "metadata": {
        "id": "LpMQvgCfDfer",
        "colab": {
          "base_uri": "https://localhost:8080/"
        },
        "outputId": "83953042-2771-4690-8c56-22e8ef38b430"
      },
      "source": [
        "text = \"i am interested in creating a web tool to predict the absolute risk of in-hospital death from a published risk model of covid-19 patients. is it possible to estimate the intercept from the significant, multivariable model coefficients published table 3 at http://doi.org/10.1016/s0140-6736 20 30566-3 answer \"\n",
        "predicted_ans = predict(text)"
      ],
      "execution_count": 43,
      "outputs": [
        {
          "output_type": "stream",
          "text": [
            "Setting `pad_token_id` to 50256 (first `eos_token_id`) to generate sequence\n"
          ],
          "name": "stderr"
        }
      ]
    },
    {
      "cell_type": "code",
      "metadata": {
        "colab": {
          "base_uri": "https://localhost:8080/",
          "height": 355
        },
        "id": "XfmY9KPZIqwt",
        "outputId": "e6473455-c9fc-48ff-a221-8d360e4a7bf3"
      },
      "source": [
        "predicted_ans"
      ],
      "execution_count": 44,
      "outputs": [
        {
          "output_type": "execute_result",
          "data": {
            "application/vnd.google.colaboratory.intrinsic+json": {
              "type": "string"
            },
            "text/plain": [
              "' I am a PhD student in epidemiology and bioinformatics at the University of Waterloo. \\n\\nI am looking for a way to model the spread of a novel coronavirus (2019-nCoV) in a population of patients with severe acute respiratory illness (SARS) and their family members (L-R).  The model is based on the observation that the number of confirmed cases in the population is increasing every day, and that this increase in cases is due to a combination of factors:\\n\\n\\nincreased hospitalisation,\\nincreasing numbers of hospitalisations and deaths.\\nThe model also assumes that patients are being cared for in isolation, so that they are not exposed to the virus in any way (e.g. they do not cough, sneeze, etc.).  In addition, the model assumes a constant infection rate of about 0.1%.  This means that if I were to extrapolate the exponential growth of the epidemic to all patients in my cohort, I would need to take into account the fact that there are many more patients than expected to die in this cohort (and this is assuming that we expect to have no more than 1000 new cases per day in our cohort), and this would be a significant (but not overwhelming) source of false positives (see here for an example of this in action).\\nTo my knowledge, there is no published data to support this model, but it seems to me that it is a reasonable model to use for estimating the relative risks of an epidemic in an otherwise random population, given the known risk factors associated with the disease, such as age, sex, education level, geographic location, occupation, family history, physical activity level and other factors that are known to be important predictors of mortality in such a large-scale epidemiologic outbreak. I have tried to find a model that can be used for this purpose, using the following parameters:\\nAge (in years)\\nPhysical activity (for example, for children and adolescents, or for adults and children aged 0–19 years, as well as for those with underlying medical conditions, including diabetes, hypertension, high blood pressure, chronic respiratory disease or cancer)  (or any other type of activity that is important for the prevention and control of infection) Age and sex\\nInfected by other infectious diseases (including HIV, tuberculosis, malaria, HIV-1, pneumonias, adenovirus, enteroviruses, Epstein-Barr, rabies, hepatitis, leishmaniosis, influenza, parainfluenza, respiratory syncytial virus, septic shock, acute myelitis, polymyxternal poly(A) infection, human immunodeficiency virus (HIV)](https://www.who.int/emergencies/diseases/novel-coronaviruse-2019/summary-of-infectious-conditions-in-the-world/2020.do?spm=article.view&amp;id=20.01.2020) or acquired immune-compromise (AIDS) by means of immunoglobulin-like growth factor-2 (IGF2) antibody titers (Figure 1A, B, C, D, E, F, G, H, J, K, L, M, N, O, P, Q, R, S, T, U, V, VI, X, Y, Z, AA, NP, AD, BB, CS, AE, NL, PL, PM, NR, TA, MH, SK, LF, TN, UA, BC, AF, CO, ID, AK, NE, NH, NJ, NY, NC, CT, DC, OR, ME, KR, SD, WY)\\n\\n\\n\\n  ######\\n#####\\n##\\n###  #############################################################################\\n# ###\\n  SIR &lt;- seq(0, 1, length(SIR))\\nfor (i in range(1-length(RSS))):\\ns = np.zeros((T[i],  s,  dbinom(s, i)))\\nif not s: return -gt; 0\\nset.seed(12) # plot mean\\nplot(day, ncol=10, xlab = \"day\", ylab=\"% of days since last observation\")\\naxis(ylim = c(10^5, 10^3, cex.out=1000, lwd = 0, col = 1)) # mean of observed cases\\nday = day - log(days/(N-days)/N)'"
            ]
          },
          "metadata": {
            "tags": []
          },
          "execution_count": 44
        }
      ]
    },
    {
      "cell_type": "code",
      "metadata": {
        "id": "EB2jk0cYXcqJ"
      },
      "source": [
        "test = \"no, for a few reasons. the most relevant is that, even if you could numerically determine the value of the intercept term in the model, you would not be able to tell what conditions are represented by the intercept term of the model fit by the researchers unless they provided some very specific details about their methods, e.g., did they center their predictors , etc. . the way these models are defined, you need to know what the reference point of each coefficient is. by convention the reference point for continuous variables is often zero, but the choice of reference is completely arbitrary for categorical variables though it does appear to be stated in the article . on a more conceptual note, models like this one are often limited in their ability to predict accurate class probabilities because their goal is to explain relationships between predictors, or to describe relative risk-reducing or risk-increasing relationships among the predictors in the model. often these models use only a limited number of variables to arrive at a parsimonious model, which tries to keep multicollinearity low, so that the individual effects of predictors are easier to interpret. another way of looking at it is this: the model may have been designed to address research questions such as: what is the relative importance of age with respect to the risk of an in-hospital death after controlling for other demographic factors . even if the model does this very well, it may be very bad at answering fundamentally different questions, such as what is the probability that a female will experience an in-hospital death\""
      ],
      "execution_count": 45,
      "outputs": []
    },
    {
      "cell_type": "code",
      "metadata": {
        "id": "TUC4X72YXITX",
        "colab": {
          "base_uri": "https://localhost:8080/"
        },
        "outputId": "05c3147d-4a5d-4bd6-b9ea-bdf83cf54a7f"
      },
      "source": [
        "import nltk\r\n",
        "bleu_score =[]\r\n",
        "bleu_score.append(nltk.translate.bleu_score.sentence_bleu(test, predicted_ans))"
      ],
      "execution_count": 46,
      "outputs": [
        {
          "output_type": "stream",
          "text": [
            "/usr/local/lib/python3.6/dist-packages/nltk/translate/bleu_score.py:490: UserWarning: \n",
            "Corpus/Sentence contains 0 counts of 2-gram overlaps.\n",
            "BLEU scores might be undesirable; use SmoothingFunction().\n",
            "  warnings.warn(_msg)\n"
          ],
          "name": "stderr"
        }
      ]
    },
    {
      "cell_type": "code",
      "metadata": {
        "id": "z50D9KJ9YMLS",
        "colab": {
          "base_uri": "https://localhost:8080/"
        },
        "outputId": "2363904c-eae7-4b23-e58a-438cd0f931d9"
      },
      "source": [
        "bleu_score"
      ],
      "execution_count": 47,
      "outputs": [
        {
          "output_type": "execute_result",
          "data": {
            "text/plain": [
              "[0.3053915492038505]"
            ]
          },
          "metadata": {
            "tags": []
          },
          "execution_count": 47
        }
      ]
    },
    {
      "cell_type": "code",
      "metadata": {
        "id": "TaJNJbi63oSt"
      },
      "source": [
        "predicted_answer = []\r\n",
        "for question in x_test['question'].iloc[:100]:\r\n",
        "  predicted_answer.append(predict(question))"
      ],
      "execution_count": null,
      "outputs": []
    },
    {
      "cell_type": "code",
      "metadata": {
        "id": "HxmkWiRf4pZH"
      },
      "source": [
        "Dataframe(predicted_answer).to_csv('x_test_1.csv')"
      ],
      "execution_count": null,
      "outputs": []
    }
  ]
}