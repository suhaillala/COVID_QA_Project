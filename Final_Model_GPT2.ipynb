{
  "nbformat": 4,
  "nbformat_minor": 0,
  "metadata": {
    "accelerator": "GPU",
    "colab": {
      "name": "GPT_21.ipynb",
      "provenance": [],
      "collapsed_sections": []
    },
    "kernelspec": {
      "display_name": "Python 3",
      "name": "python3"
    }
  },
  "cells": [
    {
      "cell_type": "code",
      "metadata": {
        "colab": {
          "base_uri": "https://localhost:8080/"
        },
        "id": "sSFFPSsuktrK",
        "outputId": "7c894a56-c727-4591-e1aa-a26cc9f336c3"
      },
      "source": [
        "pip install tokenizers"
      ],
      "execution_count": 86,
      "outputs": [
        {
          "output_type": "stream",
          "text": [
            "Requirement already satisfied: tokenizers in /usr/local/lib/python3.6/dist-packages (0.9.4)\n"
          ],
          "name": "stdout"
        }
      ]
    },
    {
      "cell_type": "code",
      "metadata": {
        "colab": {
          "base_uri": "https://localhost:8080/"
        },
        "id": "XYUiUMPGYECl",
        "outputId": "acac62a8-10ab-42b9-b51d-3af3f44bedc3"
      },
      "source": [
        "pip install rouge"
      ],
      "execution_count": 87,
      "outputs": [
        {
          "output_type": "stream",
          "text": [
            "Collecting rouge\n",
            "  Downloading https://files.pythonhosted.org/packages/43/cc/e18e33be20971ff73a056ebdb023476b5a545e744e3fc22acd8c758f1e0d/rouge-1.0.0-py3-none-any.whl\n",
            "Requirement already satisfied: six in /usr/local/lib/python3.6/dist-packages (from rouge) (1.15.0)\n",
            "Installing collected packages: rouge\n",
            "Successfully installed rouge-1.0.0\n"
          ],
          "name": "stdout"
        }
      ]
    },
    {
      "cell_type": "code",
      "metadata": {
        "id": "-ulvRlUZCcOG",
        "colab": {
          "base_uri": "https://localhost:8080/"
        },
        "outputId": "d4cdd0fd-4907-4548-f20f-9180e5d946ad"
      },
      "source": [
        "from pathlib import Path\n",
        "import os\n",
        "import pandas as pd\n",
        "import nltk\n",
        "from nltk.tokenize import WordPunctTokenizer \n",
        "from nltk.translate.bleu_score import sentence_bleu\n",
        "import statistics\n",
        "from rouge import Rouge\n",
        "import numpy as np\n",
        "import math\n",
        "from matplotlib import pyplot as plt\n",
        "\n",
        "# the folder 'text' contains all the files\n",
        "#paths = [str(x) for x in Path(\"./data/\").glob(\"**/*.txt\")]\n",
        "\n",
        "from google.colab import drive\n",
        "drive.mount('/content/drive')\n",
        "\n",
        "# Import from external file\n",
        "X_train = pd.read_csv('/content/drive/My Drive/Data/output/x_train.csv')\n",
        "X_test = pd.read_csv(\"/content/drive/My Drive/Data/output/x_test.csv\")\n"
      ],
      "execution_count": 146,
      "outputs": [
        {
          "output_type": "stream",
          "text": [
            "Drive already mounted at /content/drive; to attempt to forcibly remount, call drive.mount(\"/content/drive\", force_remount=True).\n"
          ],
          "name": "stdout"
        }
      ]
    },
    {
      "cell_type": "code",
      "metadata": {
        "colab": {
          "base_uri": "https://localhost:8080/"
        },
        "id": "IlsPxXH4mK3d",
        "outputId": "0129f116-470b-4c34-b9f0-5bbc2ba06b65"
      },
      "source": [
        "pip install transformers"
      ],
      "execution_count": 24,
      "outputs": [
        {
          "output_type": "stream",
          "text": [
            "Requirement already satisfied: transformers in /usr/local/lib/python3.6/dist-packages (4.0.1)\n",
            "Requirement already satisfied: tqdm>=4.27 in /usr/local/lib/python3.6/dist-packages (from transformers) (4.41.1)\n",
            "Requirement already satisfied: tokenizers==0.9.4 in /usr/local/lib/python3.6/dist-packages (from transformers) (0.9.4)\n",
            "Requirement already satisfied: sacremoses in /usr/local/lib/python3.6/dist-packages (from transformers) (0.0.43)\n",
            "Requirement already satisfied: filelock in /usr/local/lib/python3.6/dist-packages (from transformers) (3.0.12)\n",
            "Requirement already satisfied: regex!=2019.12.17 in /usr/local/lib/python3.6/dist-packages (from transformers) (2019.12.20)\n",
            "Requirement already satisfied: requests in /usr/local/lib/python3.6/dist-packages (from transformers) (2.23.0)\n",
            "Requirement already satisfied: numpy in /usr/local/lib/python3.6/dist-packages (from transformers) (1.18.5)\n",
            "Requirement already satisfied: dataclasses; python_version < \"3.7\" in /usr/local/lib/python3.6/dist-packages (from transformers) (0.8)\n",
            "Requirement already satisfied: packaging in /usr/local/lib/python3.6/dist-packages (from transformers) (20.7)\n",
            "Requirement already satisfied: six in /usr/local/lib/python3.6/dist-packages (from sacremoses->transformers) (1.15.0)\n",
            "Requirement already satisfied: click in /usr/local/lib/python3.6/dist-packages (from sacremoses->transformers) (7.1.2)\n",
            "Requirement already satisfied: joblib in /usr/local/lib/python3.6/dist-packages (from sacremoses->transformers) (0.17.0)\n",
            "Requirement already satisfied: chardet<4,>=3.0.2 in /usr/local/lib/python3.6/dist-packages (from requests->transformers) (3.0.4)\n",
            "Requirement already satisfied: idna<3,>=2.5 in /usr/local/lib/python3.6/dist-packages (from requests->transformers) (2.10)\n",
            "Requirement already satisfied: certifi>=2017.4.17 in /usr/local/lib/python3.6/dist-packages (from requests->transformers) (2020.12.5)\n",
            "Requirement already satisfied: urllib3!=1.25.0,!=1.25.1,<1.26,>=1.21.1 in /usr/local/lib/python3.6/dist-packages (from requests->transformers) (1.24.3)\n",
            "Requirement already satisfied: pyparsing>=2.0.2 in /usr/local/lib/python3.6/dist-packages (from packaging->transformers) (2.4.7)\n"
          ],
          "name": "stdout"
        }
      ]
    },
    {
      "cell_type": "code",
      "metadata": {
        "colab": {
          "base_uri": "https://localhost:8080/"
        },
        "id": "_TdgSNT1mFUn",
        "outputId": "c2fa307e-460c-413f-c13a-8dfb6de5ded2"
      },
      "source": [
        "import tensorflow as tf\n",
        "\n",
        "from transformers import GPT2Config, TFGPT2LMHeadModel, GPT2Tokenizer\n",
        "# loading tokenizer from the saved model path\n",
        "#tokenizer = GPT2Tokenizer.from_pretrained(save_path)\n",
        "tokenizer = GPT2Tokenizer.from_pretrained('gpt2')\n",
        "'''\n",
        "tokenizer.add_special_tokens({\n",
        "  \"eos_token\": \"</s>\",\n",
        "  \"bos_token\": \"<s>\",\n",
        "  \"unk_token\": \"<unk>\",\n",
        "  \"pad_token\": \"<pad>\",\n",
        "  \"mask_token\": \"<mask>\"\n",
        "})\n",
        "'''\n",
        "# creating the configurations from which the model can be made\n",
        "config = GPT2Config(\n",
        "  vocab_size=tokenizer.vocab_size,\n",
        "  bos_token_id=tokenizer.bos_token_id,\n",
        "  eos_token_id=tokenizer.eos_token_id\n",
        ")\n",
        "# creating the model\n",
        "#model = TFGPT2LMHeadModel(config)\n",
        "model = TFGPT2LMHeadModel.from_pretrained('gpt2')"
      ],
      "execution_count": 25,
      "outputs": [
        {
          "output_type": "stream",
          "text": [
            "All model checkpoint layers were used when initializing TFGPT2LMHeadModel.\n",
            "\n",
            "All the layers of TFGPT2LMHeadModel were initialized from the model checkpoint at gpt2.\n",
            "If your task is similar to the task the model of the checkpoint was trained on, you can already use TFGPT2LMHeadModel for predictions without further training.\n"
          ],
          "name": "stderr"
        }
      ]
    },
    {
      "cell_type": "code",
      "metadata": {
        "colab": {
          "base_uri": "https://localhost:8080/"
        },
        "id": "rBMF2Jn11z2n",
        "outputId": "78111e7a-14c2-4410-941c-4204e12bd56f"
      },
      "source": [
        "single_string = ''\r\n",
        "for i in range(len(X_train)):\r\n",
        "  single_string += X_train['question'].iloc[i] + ' ' + tokenizer.bos_token + ' ' + X_train['answer'].iloc[i] + ' ' + tokenizer.eos_token + ' '\r\n",
        "string_tokenized = tokenizer.encode(single_string)"
      ],
      "execution_count": 26,
      "outputs": [
        {
          "output_type": "stream",
          "text": [
            "Token indices sequence length is longer than the specified maximum sequence length for this model (410593 > 1024). Running this sequence through the model will result in indexing errors\n"
          ],
          "name": "stderr"
        }
      ]
    },
    {
      "cell_type": "code",
      "metadata": {
        "colab": {
          "base_uri": "https://localhost:8080/",
          "height": 52
        },
        "id": "gCXmut9PmSSR",
        "outputId": "0c250502-21d7-4b74-bb64-1d8a8bd01c50"
      },
      "source": [
        "'''\n",
        "single_string = ''\n",
        "for filename in paths:\n",
        "  with open(filename, \"r\", encoding='utf-8') as f:\n",
        "   x = f.read()\n",
        "   single_string += x + tokenizer.eos_token\n",
        "string_tokenized = tokenizer.encode(single_string)\n",
        "'''"
      ],
      "execution_count": 27,
      "outputs": [
        {
          "output_type": "execute_result",
          "data": {
            "application/vnd.google.colaboratory.intrinsic+json": {
              "type": "string"
            },
            "text/plain": [
              "'\\nsingle_string = \\'\\'\\nfor filename in paths:\\n  with open(filename, \"r\", encoding=\\'utf-8\\') as f:\\n   x = f.read()\\n   single_string += x + tokenizer.eos_token\\nstring_tokenized = tokenizer.encode(single_string)\\n'"
            ]
          },
          "metadata": {
            "tags": []
          },
          "execution_count": 27
        }
      ]
    },
    {
      "cell_type": "code",
      "metadata": {
        "id": "Xrm89mHx9Old"
      },
      "source": [
        "#print(string_tokenized)"
      ],
      "execution_count": 28,
      "outputs": []
    },
    {
      "cell_type": "code",
      "metadata": {
        "id": "RRp640Rb5jVk"
      },
      "source": [
        "examples = []\n",
        "block_size = 100\n",
        "BATCH_SIZE = 12\n",
        "BUFFER_SIZE = 1000\n",
        "for i in range(0, len(string_tokenized) - block_size + 1, block_size):\n",
        "  examples.append(string_tokenized[i:i + block_size])\n",
        "#print(examples)\n",
        "inputs, labels = [], []\n",
        "for ex in examples:\n",
        "  inputs.append(ex[:-1])\n",
        "  labels.append(ex[1:])\n",
        "  #print(labels)\n",
        "dataset = tf.data.Dataset.from_tensor_slices((inputs, labels))\n",
        "dataset = dataset.shuffle(BUFFER_SIZE).batch(BATCH_SIZE, drop_remainder=True)"
      ],
      "execution_count": 29,
      "outputs": []
    },
    {
      "cell_type": "code",
      "metadata": {
        "id": "ic8WrJ4YIipd"
      },
      "source": [
        "# defining our optimizer\n",
        "optimizer = tf.keras.optimizers.Adam(learning_rate=3e-5, epsilon=1e-08, clipnorm=1.0)\n",
        "# definining our loss function\n",
        "loss = tf.keras.losses.SparseCategoricalCrossentropy(from_logits=True)\n",
        "# defining our metric which we want to observe\n",
        "metric = tf.keras.metrics.SparseCategoricalAccuracy('accuracy')\n",
        "# compiling the model\n",
        "model.compile(optimizer=optimizer, loss=[loss, *[None] * model.config.n_layer], metrics=[metric])"
      ],
      "execution_count": 32,
      "outputs": []
    },
    {
      "cell_type": "code",
      "metadata": {
        "colab": {
          "base_uri": "https://localhost:8080/"
        },
        "id": "Uqaih8Ke53GV",
        "outputId": "b76420cf-39fc-4029-c2ae-6d1d6f40ca46"
      },
      "source": [
        "num_epoch = 10\n",
        "history = model.fit(dataset, epochs=num_epoch)"
      ],
      "execution_count": 33,
      "outputs": [
        {
          "output_type": "stream",
          "text": [
            "Epoch 1/10\n"
          ],
          "name": "stdout"
        },
        {
          "output_type": "stream",
          "text": [
            "/usr/local/lib/python3.6/dist-packages/tensorflow/python/framework/indexed_slices.py:432: UserWarning: Converting sparse IndexedSlices to a dense Tensor of unknown shape. This may consume a large amount of memory.\n",
            "  \"Converting sparse IndexedSlices to a dense Tensor of unknown shape. \"\n"
          ],
          "name": "stderr"
        },
        {
          "output_type": "stream",
          "text": [
            "342/342 [==============================] - 104s 305ms/step - loss: 3.5338 - logits_loss: 3.5338 - logits_accuracy: 0.3504 - past_key_values_1_accuracy: 0.0022 - past_key_values_2_accuracy: 0.0020 - past_key_values_3_accuracy: 0.0015 - past_key_values_4_accuracy: 0.0045 - past_key_values_5_accuracy: 0.0023 - past_key_values_6_accuracy: 0.0020 - past_key_values_7_accuracy: 0.0014 - past_key_values_8_accuracy: 0.0021 - past_key_values_9_accuracy: 0.0012 - past_key_values_10_accuracy: 0.0015 - past_key_values_11_accuracy: 0.0011 - past_key_values_12_accuracy: 0.0016\n",
            "Epoch 2/10\n",
            "342/342 [==============================] - 104s 305ms/step - loss: 3.2618 - logits_loss: 3.2618 - logits_accuracy: 0.3777 - past_key_values_1_accuracy: 0.0022 - past_key_values_2_accuracy: 0.0020 - past_key_values_3_accuracy: 0.0015 - past_key_values_4_accuracy: 0.0045 - past_key_values_5_accuracy: 0.0023 - past_key_values_6_accuracy: 0.0020 - past_key_values_7_accuracy: 0.0013 - past_key_values_8_accuracy: 0.0020 - past_key_values_9_accuracy: 0.0012 - past_key_values_10_accuracy: 0.0015 - past_key_values_11_accuracy: 0.0012 - past_key_values_12_accuracy: 0.0016\n",
            "Epoch 3/10\n",
            "342/342 [==============================] - 104s 305ms/step - loss: 3.1203 - logits_loss: 3.1203 - logits_accuracy: 0.3941 - past_key_values_1_accuracy: 0.0021 - past_key_values_2_accuracy: 0.0020 - past_key_values_3_accuracy: 0.0015 - past_key_values_4_accuracy: 0.0046 - past_key_values_5_accuracy: 0.0023 - past_key_values_6_accuracy: 0.0020 - past_key_values_7_accuracy: 0.0013 - past_key_values_8_accuracy: 0.0020 - past_key_values_9_accuracy: 0.0012 - past_key_values_10_accuracy: 0.0015 - past_key_values_11_accuracy: 0.0012 - past_key_values_12_accuracy: 0.0016\n",
            "Epoch 4/10\n",
            "342/342 [==============================] - 104s 305ms/step - loss: 3.0024 - logits_loss: 3.0024 - logits_accuracy: 0.4082 - past_key_values_1_accuracy: 0.0022 - past_key_values_2_accuracy: 0.0020 - past_key_values_3_accuracy: 0.0016 - past_key_values_4_accuracy: 0.0044 - past_key_values_5_accuracy: 0.0024 - past_key_values_6_accuracy: 0.0020 - past_key_values_7_accuracy: 0.0014 - past_key_values_8_accuracy: 0.0019 - past_key_values_9_accuracy: 0.0012 - past_key_values_10_accuracy: 0.0015 - past_key_values_11_accuracy: 0.0012 - past_key_values_12_accuracy: 0.0016\n",
            "Epoch 5/10\n",
            "342/342 [==============================] - 104s 305ms/step - loss: 2.8974 - logits_loss: 2.8974 - logits_accuracy: 0.4213 - past_key_values_1_accuracy: 0.0021 - past_key_values_2_accuracy: 0.0021 - past_key_values_3_accuracy: 0.0015 - past_key_values_4_accuracy: 0.0043 - past_key_values_5_accuracy: 0.0023 - past_key_values_6_accuracy: 0.0019 - past_key_values_7_accuracy: 0.0013 - past_key_values_8_accuracy: 0.0019 - past_key_values_9_accuracy: 0.0012 - past_key_values_10_accuracy: 0.0015 - past_key_values_11_accuracy: 0.0012 - past_key_values_12_accuracy: 0.0016\n",
            "Epoch 6/10\n",
            "342/342 [==============================] - 104s 305ms/step - loss: 2.7989 - logits_loss: 2.7989 - logits_accuracy: 0.4335 - past_key_values_1_accuracy: 0.0021 - past_key_values_2_accuracy: 0.0019 - past_key_values_3_accuracy: 0.0015 - past_key_values_4_accuracy: 0.0042 - past_key_values_5_accuracy: 0.0023 - past_key_values_6_accuracy: 0.0019 - past_key_values_7_accuracy: 0.0013 - past_key_values_8_accuracy: 0.0019 - past_key_values_9_accuracy: 0.0012 - past_key_values_10_accuracy: 0.0015 - past_key_values_11_accuracy: 0.0012 - past_key_values_12_accuracy: 0.0015\n",
            "Epoch 7/10\n",
            "342/342 [==============================] - 104s 305ms/step - loss: 2.7043 - logits_loss: 2.7043 - logits_accuracy: 0.4455 - past_key_values_1_accuracy: 0.0022 - past_key_values_2_accuracy: 0.0020 - past_key_values_3_accuracy: 0.0016 - past_key_values_4_accuracy: 0.0042 - past_key_values_5_accuracy: 0.0023 - past_key_values_6_accuracy: 0.0019 - past_key_values_7_accuracy: 0.0013 - past_key_values_8_accuracy: 0.0019 - past_key_values_9_accuracy: 0.0012 - past_key_values_10_accuracy: 0.0015 - past_key_values_11_accuracy: 0.0012 - past_key_values_12_accuracy: 0.0015\n",
            "Epoch 8/10\n",
            "342/342 [==============================] - 104s 305ms/step - loss: 2.6116 - logits_loss: 2.6116 - logits_accuracy: 0.4584 - past_key_values_1_accuracy: 0.0021 - past_key_values_2_accuracy: 0.0020 - past_key_values_3_accuracy: 0.0016 - past_key_values_4_accuracy: 0.0042 - past_key_values_5_accuracy: 0.0023 - past_key_values_6_accuracy: 0.0019 - past_key_values_7_accuracy: 0.0013 - past_key_values_8_accuracy: 0.0019 - past_key_values_9_accuracy: 0.0012 - past_key_values_10_accuracy: 0.0015 - past_key_values_11_accuracy: 0.0012 - past_key_values_12_accuracy: 0.0015\n",
            "Epoch 9/10\n",
            "342/342 [==============================] - 104s 305ms/step - loss: 2.5217 - logits_loss: 2.5217 - logits_accuracy: 0.4705 - past_key_values_1_accuracy: 0.0021 - past_key_values_2_accuracy: 0.0021 - past_key_values_3_accuracy: 0.0016 - past_key_values_4_accuracy: 0.0041 - past_key_values_5_accuracy: 0.0023 - past_key_values_6_accuracy: 0.0019 - past_key_values_7_accuracy: 0.0013 - past_key_values_8_accuracy: 0.0019 - past_key_values_9_accuracy: 0.0012 - past_key_values_10_accuracy: 0.0015 - past_key_values_11_accuracy: 0.0012 - past_key_values_12_accuracy: 0.0015\n",
            "Epoch 10/10\n",
            "342/342 [==============================] - 104s 305ms/step - loss: 2.4339 - logits_loss: 2.4339 - logits_accuracy: 0.4830 - past_key_values_1_accuracy: 0.0021 - past_key_values_2_accuracy: 0.0020 - past_key_values_3_accuracy: 0.0016 - past_key_values_4_accuracy: 0.0041 - past_key_values_5_accuracy: 0.0024 - past_key_values_6_accuracy: 0.0020 - past_key_values_7_accuracy: 0.0014 - past_key_values_8_accuracy: 0.0019 - past_key_values_9_accuracy: 0.0012 - past_key_values_10_accuracy: 0.0015 - past_key_values_11_accuracy: 0.0012 - past_key_values_12_accuracy: 0.0016\n"
          ],
          "name": "stdout"
        }
      ]
    },
    {
      "cell_type": "code",
      "metadata": {
        "id": "Rj5KjZRN18K4"
      },
      "source": [
        "def predict(input_text):\r\n",
        "  # encoding the input text\r\n",
        "  input_text = input_text + ' ' + tokenizer.bos_token\r\n",
        "  input_ids = tokenizer.encode(input_text, return_tensors='tf') \r\n",
        "  \r\n",
        "  # getting out output\r\n",
        "  beam_output = model.generate(\r\n",
        "  input_ids,\r\n",
        "  max_length = 1024,\r\n",
        "  num_beams = 5,\r\n",
        "  temperature = 0.7,\r\n",
        "  no_repeat_ngram_size=2,\r\n",
        "  num_return_sequences=5\r\n",
        ")\r\n",
        "  predicted_ans = tokenizer.decode(beam_output[0])\r\n",
        "  predicted_ans = predicted_ans[predicted_ans.find(tokenizer.bos_token)+len(tokenizer.bos_token):]\r\n",
        "  predicted_ans.replace(tokenizer.eos_token, '')\r\n",
        "  return predicted_ans"
      ],
      "execution_count": 71,
      "outputs": []
    },
    {
      "cell_type": "code",
      "metadata": {
        "colab": {
          "base_uri": "https://localhost:8080/"
        },
        "id": "WdzZwgXC11C3",
        "outputId": "d93c57a2-1d67-42df-c45f-e9c919d0cc12"
      },
      "source": [
        "# Testing with custom test set\r\n",
        "docs_new = ['What is coronavirus?',\r\n",
        "            'What are symptoms of COVID',\r\n",
        "            'What is COVID?',\r\n",
        "            'I have a cough. Do I have corona?',\r\n",
        "            'Does my friend have COVID?',\r\n",
        "            'How many people in USA have COVID?',\r\n",
        "            'How many people in the world have covid19?']\r\n",
        "\r\n",
        "\r\n",
        "predicted_custom = []\r\n",
        "for question in docs_new:\r\n",
        "    predicted_custom.append(predict(question))"
      ],
      "execution_count": 72,
      "outputs": [
        {
          "output_type": "stream",
          "text": [
            "Setting `pad_token_id` to 50256 (first `eos_token_id`) to generate sequence\n",
            "Setting `pad_token_id` to 50256 (first `eos_token_id`) to generate sequence\n",
            "Setting `pad_token_id` to 50256 (first `eos_token_id`) to generate sequence\n",
            "Setting `pad_token_id` to 50256 (first `eos_token_id`) to generate sequence\n",
            "Setting `pad_token_id` to 50256 (first `eos_token_id`) to generate sequence\n",
            "Setting `pad_token_id` to 50256 (first `eos_token_id`) to generate sequence\n",
            "Setting `pad_token_id` to 50256 (first `eos_token_id`) to generate sequence\n"
          ],
          "name": "stderr"
        }
      ]
    },
    {
      "cell_type": "code",
      "metadata": {
        "colab": {
          "base_uri": "https://localhost:8080/",
          "height": 254
        },
        "id": "gIzk3xLM3QiA",
        "outputId": "dcad9546-d35c-45ef-ae2f-991cee1e6449"
      },
      "source": [
        "# View results\r\n",
        "results_custom = pd.DataFrame(data = {'Question': docs_new, 'Predicted Answer': predicted_custom})\r\n",
        "results_custom"
      ],
      "execution_count": 73,
      "outputs": [
        {
          "output_type": "execute_result",
          "data": {
            "text/html": [
              "<div>\n",
              "<style scoped>\n",
              "    .dataframe tbody tr th:only-of-type {\n",
              "        vertical-align: middle;\n",
              "    }\n",
              "\n",
              "    .dataframe tbody tr th {\n",
              "        vertical-align: top;\n",
              "    }\n",
              "\n",
              "    .dataframe thead th {\n",
              "        text-align: right;\n",
              "    }\n",
              "</style>\n",
              "<table border=\"1\" class=\"dataframe\">\n",
              "  <thead>\n",
              "    <tr style=\"text-align: right;\">\n",
              "      <th></th>\n",
              "      <th>Question</th>\n",
              "      <th>Predicted Answer</th>\n",
              "    </tr>\n",
              "  </thead>\n",
              "  <tbody>\n",
              "    <tr>\n",
              "      <th>0</th>\n",
              "      <td>What is coronavirus?</td>\n",
              "      <td>Coronaviruses are a large family of viruses t...</td>\n",
              "    </tr>\n",
              "    <tr>\n",
              "      <th>1</th>\n",
              "      <td>What are symptoms of COVID</td>\n",
              "      <td>I am a PhD student in the Department of Compu...</td>\n",
              "    </tr>\n",
              "    <tr>\n",
              "      <th>2</th>\n",
              "      <td>What is COVID?</td>\n",
              "      <td>Coronavirus (COVID-19) is a new virus that ha...</td>\n",
              "    </tr>\n",
              "    <tr>\n",
              "      <th>3</th>\n",
              "      <td>I have a cough. Do I have corona?</td>\n",
              "      <td>Coronaviruses are a large family of viruses t...</td>\n",
              "    </tr>\n",
              "    <tr>\n",
              "      <th>4</th>\n",
              "      <td>Does my friend have COVID?</td>\n",
              "      <td>Yes, she has. \\n\\nHer symptoms are similar to...</td>\n",
              "    </tr>\n",
              "    <tr>\n",
              "      <th>5</th>\n",
              "      <td>How many people in USA have COVID?</td>\n",
              "      <td>The number of confirmed cases in the USA is c...</td>\n",
              "    </tr>\n",
              "    <tr>\n",
              "      <th>6</th>\n",
              "      <td>How many people in the world have covid19?</td>\n",
              "      <td>There are currently no known cases of COVID-1...</td>\n",
              "    </tr>\n",
              "  </tbody>\n",
              "</table>\n",
              "</div>"
            ],
            "text/plain": [
              "                                     Question                                   Predicted Answer\n",
              "0                        What is coronavirus?   Coronaviruses are a large family of viruses t...\n",
              "1                  What are symptoms of COVID   I am a PhD student in the Department of Compu...\n",
              "2                              What is COVID?   Coronavirus (COVID-19) is a new virus that ha...\n",
              "3           I have a cough. Do I have corona?   Coronaviruses are a large family of viruses t...\n",
              "4                  Does my friend have COVID?   Yes, she has. \\n\\nHer symptoms are similar to...\n",
              "5          How many people in USA have COVID?   The number of confirmed cases in the USA is c...\n",
              "6  How many people in the world have covid19?   There are currently no known cases of COVID-1..."
            ]
          },
          "metadata": {
            "tags": []
          },
          "execution_count": 73
        }
      ]
    },
    {
      "cell_type": "code",
      "metadata": {
        "colab": {
          "base_uri": "https://localhost:8080/",
          "height": 506
        },
        "id": "pegUe-bWsgTk",
        "outputId": "6c988c1f-d0b7-44ed-c565-7750ee31dd1b"
      },
      "source": [
        "results_custom['Predicted Answer'].iloc[0]"
      ],
      "execution_count": 74,
      "outputs": [
        {
          "output_type": "execute_result",
          "data": {
            "application/vnd.google.colaboratory.intrinsic+json": {
              "type": "string"
            },
            "text/plain": [
              "' Coronaviruses are a large family of viruses that cause a range of respiratory diseases including colds, flu, and severe acute respiratory syndrome (SARS-CoV-2).  \\n\\nThe virus that causes COVID-19 is called the \"common cold\", and is caused by the common cold adenovirus.  The virus causes about 80% of the world\\'s respiratory infections, according to the World Organisation for Animal Health (OIE), and it is thought to be mainly transmitted through respiratory droplets produced when an infected person coughs or sneezes.\\n\\n\\n  In the United States, the most common form of infection is respiratory syncytial fluid (RSD), which is a fluid-like fluid that is expelled from the upper respiratory tract when a respiratory infection occurs. This fluid is then expelled into the air, where it can be inhaled by people who are nearby or have close contact with someone who has the virus. However, there is no known way to precisely measure the amount of RSD in a person’s airways, or how much is in it, in order to determine whether the person is at higher risk of developing the disease. WHO is assessing ongoing research on the ways in which people can safely and effectively use respiratory steroids, including corticosteroids and antacids, to prevent, treat and prevent the spread of this potentially life-threatening illness. The most effective ways to protect yourself and others against the infection are to regularly clean your hands, cover your cough with the bend of elbow or tissue and maintain a distance of at least 1 meter (3 feet) from people you are close to. Follow the directions of your local health authority (WHO) on how to maintain good air quality in your home, workplace and community. If you have fever, cough and difficulty breathing, seek medical attention and call in advance. You can also take\\xa0proper respiratory hygiene precautions (e.g., covering your mouth and nose with a tissue or sleeve when you cough, avoiding touching your eyes, nose or mouth with your bent elbow).\\xa0Learn more about\\xa0how to stay healthy\\xa0and\\xa0stay healthy in\\xa0everywhere\\xa0you can.\\xa0Stay connected to people and\\xa0share your health\\xa0information\\xa0through\\xa0social media,\\xa0broadcast\\xa0online and in print, as well as through\\xa0digital platforms, such as\\xa0Facebook, Twitter, Google+, MySpace, MyEbola, Quora and MyHealthYahoo. Start\\xa0learning\\xa0about\\xa0the\\xa0health\\xa0of\\xa0COVID\\xa019\\xa0from\\xa0experience\\xa0in\\xa0a\\xa0country, region or\\xa0region where you live.\\nLearn how\\xa0to\\xa0help\\xa0your health care provider\\xa0provide\\xa0quality care\\xa0for you and your loved one\\xa0when you need it most. Learn\\xa0what\\xa0measures\\xa0can\\xa0be taken to help protect you\\xa0against the\\xa0current and future\\xa0spread of\\xa0Covid‐19.Learn\\xa0things you can do to reduce your chances of catching and transmitting the new virus\\xa0by\\xa0taking\\xa0steps\\xa0that are\\xa0easier\\xa0than\\xa0traditional\\xa0medicine\\xa0or\\xa0using\\xa0natural\\xa0immune\\xa0suppression\\xa0techniques.Practice social distancing and regular hand hygiene, which can help reduce the likelihood that you will be seen as a potential risk to others.Increase your\\xa0self-isolation and isolation\\xa0during this time by\\xa0following the advice of a health professional and a local\\xa0advice\\xa0based on your own personal\\xa0situations.Stay\\xa0healthy\\xa0with\\xa0regular exercise and good physical activity.Regularly and regularly rest and drink plenty of fluids, especially water, before, during and after work, school, daycare and other important social activities.If you feel unwell, talk to your healthcare provider to find out if you should be quarantined or restricted access to essential health services.<|endoftext|><|endoftext|><|endoftext|><|endoftext|><|endoftext|><|endoftext|><|endoftext|><|endoftext|><|endoftext|><|endoftext|><|endoftext|><|endoftext|><|endoftext|><|endoftext|><|endoftext|><|endoftext|><|endoftext|><|endoftext|><|endoftext|><|endoftext|><|endoftext|><|endoftext|><|endoftext|><|endoftext|><|endoftext|><|endoftext|><|endoftext|><|endoftext|><|endoftext|><|endoftext|><|endoftext|><|endoftext|><|endoftext|>'"
            ]
          },
          "metadata": {
            "tags": []
          },
          "execution_count": 74
        }
      ]
    },
    {
      "cell_type": "code",
      "metadata": {
        "id": "TaJNJbi63oSt",
        "colab": {
          "base_uri": "https://localhost:8080/"
        },
        "outputId": "ca91d410-142f-4ea7-aeb6-dfeced2a024c"
      },
      "source": [
        "predicted_answer = []\r\n",
        "for question in X_test['question'].iloc[:80]:   # Split processing across different systems. This system processes 1-80 rows\r\n",
        "  predicted_answer.append(predict(question))"
      ],
      "execution_count": 75,
      "outputs": [
        {
          "output_type": "stream",
          "text": [
            "Setting `pad_token_id` to 50256 (first `eos_token_id`) to generate sequence\n",
            "Setting `pad_token_id` to 50256 (first `eos_token_id`) to generate sequence\n",
            "Setting `pad_token_id` to 50256 (first `eos_token_id`) to generate sequence\n",
            "Setting `pad_token_id` to 50256 (first `eos_token_id`) to generate sequence\n",
            "Setting `pad_token_id` to 50256 (first `eos_token_id`) to generate sequence\n",
            "Setting `pad_token_id` to 50256 (first `eos_token_id`) to generate sequence\n",
            "Setting `pad_token_id` to 50256 (first `eos_token_id`) to generate sequence\n",
            "Setting `pad_token_id` to 50256 (first `eos_token_id`) to generate sequence\n",
            "Setting `pad_token_id` to 50256 (first `eos_token_id`) to generate sequence\n",
            "Setting `pad_token_id` to 50256 (first `eos_token_id`) to generate sequence\n",
            "Setting `pad_token_id` to 50256 (first `eos_token_id`) to generate sequence\n",
            "Setting `pad_token_id` to 50256 (first `eos_token_id`) to generate sequence\n",
            "Setting `pad_token_id` to 50256 (first `eos_token_id`) to generate sequence\n",
            "Setting `pad_token_id` to 50256 (first `eos_token_id`) to generate sequence\n",
            "Setting `pad_token_id` to 50256 (first `eos_token_id`) to generate sequence\n",
            "Setting `pad_token_id` to 50256 (first `eos_token_id`) to generate sequence\n",
            "Setting `pad_token_id` to 50256 (first `eos_token_id`) to generate sequence\n",
            "Setting `pad_token_id` to 50256 (first `eos_token_id`) to generate sequence\n",
            "Setting `pad_token_id` to 50256 (first `eos_token_id`) to generate sequence\n",
            "Setting `pad_token_id` to 50256 (first `eos_token_id`) to generate sequence\n",
            "Setting `pad_token_id` to 50256 (first `eos_token_id`) to generate sequence\n",
            "Setting `pad_token_id` to 50256 (first `eos_token_id`) to generate sequence\n",
            "Setting `pad_token_id` to 50256 (first `eos_token_id`) to generate sequence\n",
            "Setting `pad_token_id` to 50256 (first `eos_token_id`) to generate sequence\n",
            "Setting `pad_token_id` to 50256 (first `eos_token_id`) to generate sequence\n",
            "Setting `pad_token_id` to 50256 (first `eos_token_id`) to generate sequence\n",
            "Setting `pad_token_id` to 50256 (first `eos_token_id`) to generate sequence\n",
            "Setting `pad_token_id` to 50256 (first `eos_token_id`) to generate sequence\n",
            "Setting `pad_token_id` to 50256 (first `eos_token_id`) to generate sequence\n",
            "Setting `pad_token_id` to 50256 (first `eos_token_id`) to generate sequence\n",
            "Setting `pad_token_id` to 50256 (first `eos_token_id`) to generate sequence\n",
            "Setting `pad_token_id` to 50256 (first `eos_token_id`) to generate sequence\n",
            "Setting `pad_token_id` to 50256 (first `eos_token_id`) to generate sequence\n",
            "Setting `pad_token_id` to 50256 (first `eos_token_id`) to generate sequence\n",
            "Setting `pad_token_id` to 50256 (first `eos_token_id`) to generate sequence\n",
            "Setting `pad_token_id` to 50256 (first `eos_token_id`) to generate sequence\n",
            "Setting `pad_token_id` to 50256 (first `eos_token_id`) to generate sequence\n",
            "Setting `pad_token_id` to 50256 (first `eos_token_id`) to generate sequence\n",
            "Setting `pad_token_id` to 50256 (first `eos_token_id`) to generate sequence\n",
            "Setting `pad_token_id` to 50256 (first `eos_token_id`) to generate sequence\n",
            "Setting `pad_token_id` to 50256 (first `eos_token_id`) to generate sequence\n",
            "Setting `pad_token_id` to 50256 (first `eos_token_id`) to generate sequence\n",
            "Setting `pad_token_id` to 50256 (first `eos_token_id`) to generate sequence\n",
            "Setting `pad_token_id` to 50256 (first `eos_token_id`) to generate sequence\n",
            "Setting `pad_token_id` to 50256 (first `eos_token_id`) to generate sequence\n",
            "Setting `pad_token_id` to 50256 (first `eos_token_id`) to generate sequence\n",
            "Setting `pad_token_id` to 50256 (first `eos_token_id`) to generate sequence\n",
            "Setting `pad_token_id` to 50256 (first `eos_token_id`) to generate sequence\n",
            "Setting `pad_token_id` to 50256 (first `eos_token_id`) to generate sequence\n",
            "Setting `pad_token_id` to 50256 (first `eos_token_id`) to generate sequence\n",
            "Setting `pad_token_id` to 50256 (first `eos_token_id`) to generate sequence\n",
            "Setting `pad_token_id` to 50256 (first `eos_token_id`) to generate sequence\n",
            "Setting `pad_token_id` to 50256 (first `eos_token_id`) to generate sequence\n",
            "Setting `pad_token_id` to 50256 (first `eos_token_id`) to generate sequence\n",
            "Setting `pad_token_id` to 50256 (first `eos_token_id`) to generate sequence\n",
            "Setting `pad_token_id` to 50256 (first `eos_token_id`) to generate sequence\n",
            "Setting `pad_token_id` to 50256 (first `eos_token_id`) to generate sequence\n",
            "Setting `pad_token_id` to 50256 (first `eos_token_id`) to generate sequence\n",
            "Setting `pad_token_id` to 50256 (first `eos_token_id`) to generate sequence\n",
            "Setting `pad_token_id` to 50256 (first `eos_token_id`) to generate sequence\n",
            "Setting `pad_token_id` to 50256 (first `eos_token_id`) to generate sequence\n",
            "Setting `pad_token_id` to 50256 (first `eos_token_id`) to generate sequence\n",
            "Setting `pad_token_id` to 50256 (first `eos_token_id`) to generate sequence\n",
            "Setting `pad_token_id` to 50256 (first `eos_token_id`) to generate sequence\n",
            "Setting `pad_token_id` to 50256 (first `eos_token_id`) to generate sequence\n",
            "Setting `pad_token_id` to 50256 (first `eos_token_id`) to generate sequence\n",
            "Setting `pad_token_id` to 50256 (first `eos_token_id`) to generate sequence\n",
            "Setting `pad_token_id` to 50256 (first `eos_token_id`) to generate sequence\n",
            "Setting `pad_token_id` to 50256 (first `eos_token_id`) to generate sequence\n",
            "Setting `pad_token_id` to 50256 (first `eos_token_id`) to generate sequence\n",
            "Setting `pad_token_id` to 50256 (first `eos_token_id`) to generate sequence\n",
            "Setting `pad_token_id` to 50256 (first `eos_token_id`) to generate sequence\n",
            "Setting `pad_token_id` to 50256 (first `eos_token_id`) to generate sequence\n",
            "Setting `pad_token_id` to 50256 (first `eos_token_id`) to generate sequence\n",
            "Setting `pad_token_id` to 50256 (first `eos_token_id`) to generate sequence\n",
            "Setting `pad_token_id` to 50256 (first `eos_token_id`) to generate sequence\n",
            "Setting `pad_token_id` to 50256 (first `eos_token_id`) to generate sequence\n",
            "Setting `pad_token_id` to 50256 (first `eos_token_id`) to generate sequence\n",
            "Setting `pad_token_id` to 50256 (first `eos_token_id`) to generate sequence\n",
            "Setting `pad_token_id` to 50256 (first `eos_token_id`) to generate sequence\n"
          ],
          "name": "stderr"
        }
      ]
    },
    {
      "cell_type": "code",
      "metadata": {
        "id": "HxmkWiRf4pZH",
        "colab": {
          "base_uri": "https://localhost:8080/",
          "height": 402
        },
        "outputId": "127faea9-3fcb-4925-97ea-86dfb028088b"
      },
      "source": [
        "df = pd.DataFrame(predicted_answer, columns= ['predicted answer'])\r\n",
        "df"
      ],
      "execution_count": 76,
      "outputs": [
        {
          "output_type": "execute_result",
          "data": {
            "text/html": [
              "<div>\n",
              "<style scoped>\n",
              "    .dataframe tbody tr th:only-of-type {\n",
              "        vertical-align: middle;\n",
              "    }\n",
              "\n",
              "    .dataframe tbody tr th {\n",
              "        vertical-align: top;\n",
              "    }\n",
              "\n",
              "    .dataframe thead th {\n",
              "        text-align: right;\n",
              "    }\n",
              "</style>\n",
              "<table border=\"1\" class=\"dataframe\">\n",
              "  <thead>\n",
              "    <tr style=\"text-align: right;\">\n",
              "      <th></th>\n",
              "      <th>predicted answer</th>\n",
              "    </tr>\n",
              "  </thead>\n",
              "  <tbody>\n",
              "    <tr>\n",
              "      <th>0</th>\n",
              "      <td>There is a lot of misinformation out there ab...</td>\n",
              "    </tr>\n",
              "    <tr>\n",
              "      <th>1</th>\n",
              "      <td>The virus that causes COVID-19 is thought to ...</td>\n",
              "    </tr>\n",
              "    <tr>\n",
              "      <th>2</th>\n",
              "      <td>I am a PhD student in epidemiology at the Uni...</td>\n",
              "    </tr>\n",
              "    <tr>\n",
              "      <th>3</th>\n",
              "      <td>I am wondering if there is a legal basis for ...</td>\n",
              "    </tr>\n",
              "    <tr>\n",
              "      <th>4</th>\n",
              "      <td>I am a PhD student in bioinformatics at the U...</td>\n",
              "    </tr>\n",
              "    <tr>\n",
              "      <th>...</th>\n",
              "      <td>...</td>\n",
              "    </tr>\n",
              "    <tr>\n",
              "      <th>75</th>\n",
              "      <td>It’s possible that the virus that causes COVI...</td>\n",
              "    </tr>\n",
              "    <tr>\n",
              "      <th>76</th>\n",
              "      <td>Currently, there is no evidence to suggest th...</td>\n",
              "    </tr>\n",
              "    <tr>\n",
              "      <th>77</th>\n",
              "      <td>The virus that causes COVID-19 is thought to ...</td>\n",
              "    </tr>\n",
              "    <tr>\n",
              "      <th>78</th>\n",
              "      <td>I am a PhD student in the Department of Mecha...</td>\n",
              "    </tr>\n",
              "    <tr>\n",
              "      <th>79</th>\n",
              "      <td>Yes, but only if you are accompanied by a hea...</td>\n",
              "    </tr>\n",
              "  </tbody>\n",
              "</table>\n",
              "<p>80 rows × 1 columns</p>\n",
              "</div>"
            ],
            "text/plain": [
              "                                     predicted answer\n",
              "0    There is a lot of misinformation out there ab...\n",
              "1    The virus that causes COVID-19 is thought to ...\n",
              "2    I am a PhD student in epidemiology at the Uni...\n",
              "3    I am wondering if there is a legal basis for ...\n",
              "4    I am a PhD student in bioinformatics at the U...\n",
              "..                                                ...\n",
              "75   It’s possible that the virus that causes COVI...\n",
              "76   Currently, there is no evidence to suggest th...\n",
              "77   The virus that causes COVID-19 is thought to ...\n",
              "78   I am a PhD student in the Department of Mecha...\n",
              "79   Yes, but only if you are accompanied by a hea...\n",
              "\n",
              "[80 rows x 1 columns]"
            ]
          },
          "metadata": {
            "tags": []
          },
          "execution_count": 76
        }
      ]
    },
    {
      "cell_type": "code",
      "metadata": {
        "id": "tv8T-2AbUKvP"
      },
      "source": [
        "# Save all results to file\r\n",
        "df.to_csv('x_test_1.csv',index= False)"
      ],
      "execution_count": 77,
      "outputs": []
    },
    {
      "cell_type": "code",
      "metadata": {
        "id": "sqKY8xC_VzYh"
      },
      "source": [
        "# Remove row with tokens > 1024 since max_length = 1024\r\n",
        "X_test = X_test.drop(185)"
      ],
      "execution_count": 148,
      "outputs": []
    },
    {
      "cell_type": "code",
      "metadata": {
        "id": "__se5HRuUsVb"
      },
      "source": [
        "# Import all results from external file\r\n",
        "X_test_1 = pd.read_csv(\"/content/drive/My Drive/Data/output/x_test_1.csv\")\r\n",
        "X_test_2 = pd.read_csv(\"/content/drive/My Drive/Data/output/x_test_2.csv\")\r\n",
        "X_test_3 = pd.read_csv(\"/content/drive/My Drive/Data/output/x_test_3.csv\")\r\n",
        "X_test_4 = pd.read_csv(\"/content/drive/My Drive/Data/output/x_test_4.csv\")\r\n",
        "X_test_5 = pd.read_csv(\"/content/drive/My Drive/Data/output/x_test_5.csv\")\r\n",
        "X_test_6 = pd.read_csv(\"/content/drive/My Drive/Data/output/x_test_6.csv\")"
      ],
      "execution_count": 156,
      "outputs": []
    },
    {
      "cell_type": "code",
      "metadata": {
        "colab": {
          "base_uri": "https://localhost:8080/",
          "height": 1000
        },
        "id": "2Glz0BJFVWYH",
        "outputId": "5256e5b1-d550-4c5c-ea7a-7f869b4b1a9b"
      },
      "source": [
        "# Concat results and add them to dataframe\r\n",
        "frames = [X_test_1, X_test_2, X_test_3, X_test_4, X_test_5, X_test_6]\r\n",
        "X_test['predicted_answer'] = pd.concat(frames, ignore_index= True)\r\n",
        "X_test"
      ],
      "execution_count": 157,
      "outputs": [
        {
          "output_type": "execute_result",
          "data": {
            "text/html": [
              "<div>\n",
              "<style scoped>\n",
              "    .dataframe tbody tr th:only-of-type {\n",
              "        vertical-align: middle;\n",
              "    }\n",
              "\n",
              "    .dataframe tbody tr th {\n",
              "        vertical-align: top;\n",
              "    }\n",
              "\n",
              "    .dataframe thead th {\n",
              "        text-align: right;\n",
              "    }\n",
              "</style>\n",
              "<table border=\"1\" class=\"dataframe\">\n",
              "  <thead>\n",
              "    <tr style=\"text-align: right;\">\n",
              "      <th></th>\n",
              "      <th>Unnamed: 0</th>\n",
              "      <th>source</th>\n",
              "      <th>url</th>\n",
              "      <th>question</th>\n",
              "      <th>answer</th>\n",
              "      <th>wrong_answer</th>\n",
              "      <th>prep_answer</th>\n",
              "      <th>cluster</th>\n",
              "      <th>predicted_answer</th>\n",
              "    </tr>\n",
              "  </thead>\n",
              "  <tbody>\n",
              "    <tr>\n",
              "      <th>0</th>\n",
              "      <td>127</td>\n",
              "      <td>biomedical</td>\n",
              "      <td>health.stackexchange.com</td>\n",
              "      <td>As the German chancellor said today, by the en...</td>\n",
              "      <td>Some Canadian experts said 35% to 70% will be ...</td>\n",
              "      <td>This is a rough estimate based on how contagio...</td>\n",
              "      <td>some canadian experts said 35  to 70  will be ...</td>\n",
              "      <td>66</td>\n",
              "      <td>There is a lot of misinformation out there ab...</td>\n",
              "    </tr>\n",
              "    <tr>\n",
              "      <th>1</th>\n",
              "      <td>190</td>\n",
              "      <td>NDTV</td>\n",
              "      <td>https://www.ndtv.com/coronavirus/faq</td>\n",
              "      <td>How long does the virus survive on surfaces?</td>\n",
              "      <td>It is not certain how long the virus that caus...</td>\n",
              "      <td>Only wear a mask if you are ill with COVID-19 ...</td>\n",
              "      <td>it is not certain how long the virus that caus...</td>\n",
              "      <td>55</td>\n",
              "      <td>The virus that causes COVID-19 is thought to ...</td>\n",
              "    </tr>\n",
              "    <tr>\n",
              "      <th>2</th>\n",
              "      <td>631</td>\n",
              "      <td>general</td>\n",
              "      <td>travel.stackexchange.com</td>\n",
              "      <td>Someone I know booked a return flight on Air S...</td>\n",
              "      <td>The €250 compensation doesn't apply in extraor...</td>\n",
              "      <td>Technically possible, but in practice very dif...</td>\n",
              "      <td>the eur250 compensation does not apply in extr...</td>\n",
              "      <td>48</td>\n",
              "      <td>I am a PhD student in epidemiology at the Uni...</td>\n",
              "    </tr>\n",
              "    <tr>\n",
              "      <th>3</th>\n",
              "      <td>211</td>\n",
              "      <td>expert</td>\n",
              "      <td>law.stackexchange.com</td>\n",
              "      <td>Apparently, a new coronavirus related paid fam...</td>\n",
              "      <td>The Department of Labor has a page about the l...</td>\n",
              "      <td>It doesn’t even apply to the airline in curren...</td>\n",
              "      <td>the department of labor has a page about the l...</td>\n",
              "      <td>66</td>\n",
              "      <td>I am wondering if there is a legal basis for ...</td>\n",
              "    </tr>\n",
              "    <tr>\n",
              "      <th>4</th>\n",
              "      <td>120</td>\n",
              "      <td>biomedical</td>\n",
              "      <td>health.stackexchange.com</td>\n",
              "      <td>There's a ridiculous conspiracy theory spreadi...</td>\n",
              "      <td>I somewhat agree that it's difficult to debunk...</td>\n",
              "      <td>New York State\\n\\nYes, I know that you don't l...</td>\n",
              "      <td>i somewhat agree that it is difficult to debun...</td>\n",
              "      <td>66</td>\n",
              "      <td>I am a PhD student in bioinformatics at the U...</td>\n",
              "    </tr>\n",
              "    <tr>\n",
              "      <th>...</th>\n",
              "      <td>...</td>\n",
              "      <td>...</td>\n",
              "      <td>...</td>\n",
              "      <td>...</td>\n",
              "      <td>...</td>\n",
              "      <td>...</td>\n",
              "      <td>...</td>\n",
              "      <td>...</td>\n",
              "      <td>...</td>\n",
              "    </tr>\n",
              "    <tr>\n",
              "      <th>254</th>\n",
              "      <td>202</td>\n",
              "      <td>expert</td>\n",
              "      <td>law.stackexchange.com</td>\n",
              "      <td>Right now there are large American states whic...</td>\n",
              "      <td>US Constitutional law generally recognizes the...</td>\n",
              "      <td>The relevant law is trademark law. The basic q...</td>\n",
              "      <td>us constitutional law generally recognizes the...</td>\n",
              "      <td>66</td>\n",
              "      <td>There is a lot of misinformation out there ab...</td>\n",
              "    </tr>\n",
              "    <tr>\n",
              "      <th>255</th>\n",
              "      <td>1</td>\n",
              "      <td>biomedical</td>\n",
              "      <td>biology.stackexchange.com</td>\n",
              "      <td>It's my understanding that the majority of sym...</td>\n",
              "      <td>Can someone die of the common cold?\\n\\nNo. \\nT...</td>\n",
              "      <td>The dash (\"-\") does not represent a negative c...</td>\n",
              "      <td>can someone die of the common cold   no.  the ...</td>\n",
              "      <td>36</td>\n",
              "      <td>The main way the virus spreads is through res...</td>\n",
              "    </tr>\n",
              "    <tr>\n",
              "      <th>256</th>\n",
              "      <td>262</td>\n",
              "      <td>NY Times</td>\n",
              "      <td>https://www.nytimes.com/interactive/2020/world...</td>\n",
              "      <td>Want to give toward medical supplies?</td>\n",
              "      <td>[Relief International](https://www.ri.org/dona...</td>\n",
              "      <td>You can. Donor blood is not being used to trea...</td>\n",
              "      <td>relief international  http://www.ri.org/donat...</td>\n",
              "      <td>66</td>\n",
              "      <td>\\n  Medical supplies are essential to the hea...</td>\n",
              "    </tr>\n",
              "    <tr>\n",
              "      <th>257</th>\n",
              "      <td>587</td>\n",
              "      <td>WHO</td>\n",
              "      <td>https://www.who.int/news-room/q-a-detail/contr...</td>\n",
              "      <td>Why is providing contraception/ family plannin...</td>\n",
              "      <td>Contraception and family planning information ...</td>\n",
              "      <td>No. Waste produced during the health care or h...</td>\n",
              "      <td>contraception and family planning information ...</td>\n",
              "      <td>33</td>\n",
              "      <td>There is a lot of misinformation out there, a...</td>\n",
              "    </tr>\n",
              "    <tr>\n",
              "      <th>258</th>\n",
              "      <td>74</td>\n",
              "      <td>BBC</td>\n",
              "      <td>https://www.bbc.com/news/world-asia-china-5117...</td>\n",
              "      <td>How long does the virus live on different surf...</td>\n",
              "      <td>Covid-19 is primarily spread in tiny droplets ...</td>\n",
              "      <td>Covid-19 is primarily spread in tiny droplets ...</td>\n",
              "      <td>covid-19 is primarily spread in tiny droplets ...</td>\n",
              "      <td>55</td>\n",
              "      <td>The virus that causes COVID-19 is thought to ...</td>\n",
              "    </tr>\n",
              "  </tbody>\n",
              "</table>\n",
              "<p>258 rows × 9 columns</p>\n",
              "</div>"
            ],
            "text/plain": [
              "     Unnamed: 0  ...                                   predicted_answer\n",
              "0           127  ...   There is a lot of misinformation out there ab...\n",
              "1           190  ...   The virus that causes COVID-19 is thought to ...\n",
              "2           631  ...   I am a PhD student in epidemiology at the Uni...\n",
              "3           211  ...   I am wondering if there is a legal basis for ...\n",
              "4           120  ...   I am a PhD student in bioinformatics at the U...\n",
              "..          ...  ...                                                ...\n",
              "254         202  ...   There is a lot of misinformation out there ab...\n",
              "255           1  ...   The main way the virus spreads is through res...\n",
              "256         262  ...   \\n  Medical supplies are essential to the hea...\n",
              "257         587  ...   There is a lot of misinformation out there, a...\n",
              "258          74  ...   The virus that causes COVID-19 is thought to ...\n",
              "\n",
              "[258 rows x 9 columns]"
            ]
          },
          "metadata": {
            "tags": []
          },
          "execution_count": 157
        }
      ]
    },
    {
      "cell_type": "code",
      "metadata": {
        "colab": {
          "base_uri": "https://localhost:8080/"
        },
        "id": "kX1_8jD6XJ9k",
        "outputId": "63d64304-8977-4d9b-c47c-5cc5b7d805a6"
      },
      "source": [
        "# Compute Bleu score\r\n",
        "tk = WordPunctTokenizer() \r\n",
        "bleu_score = []\r\n",
        "for i in range(len(X_test)):\r\n",
        "  prep_answer = tk.tokenize(X_test['prep_answer'].iloc[i])\r\n",
        "  predicted_answer = tk.tokenize(X_test['predicted_answer'].iloc[i])\r\n",
        "  bleu_score.append(sentence_bleu(prep_answer, predicted_answer))"
      ],
      "execution_count": 159,
      "outputs": [
        {
          "output_type": "stream",
          "text": [
            "/usr/local/lib/python3.6/dist-packages/nltk/translate/bleu_score.py:490: UserWarning: \n",
            "Corpus/Sentence contains 0 counts of 2-gram overlaps.\n",
            "BLEU scores might be undesirable; use SmoothingFunction().\n",
            "  warnings.warn(_msg)\n",
            "/usr/local/lib/python3.6/dist-packages/nltk/translate/bleu_score.py:490: UserWarning: \n",
            "Corpus/Sentence contains 0 counts of 3-gram overlaps.\n",
            "BLEU scores might be undesirable; use SmoothingFunction().\n",
            "  warnings.warn(_msg)\n"
          ],
          "name": "stderr"
        }
      ]
    },
    {
      "cell_type": "code",
      "metadata": {
        "colab": {
          "base_uri": "https://localhost:8080/"
        },
        "id": "QYrpQnO3XP7b",
        "outputId": "1e94ad0c-5945-40ed-fd63-e9e3f8f1a7eb"
      },
      "source": [
        "## Compute bleu scores\r\n",
        "# Mean\r\n",
        "statistics.mean(bleu_score)"
      ],
      "execution_count": 160,
      "outputs": [
        {
          "output_type": "execute_result",
          "data": {
            "text/plain": [
              "0.3275430683833646"
            ]
          },
          "metadata": {
            "tags": []
          },
          "execution_count": 160
        }
      ]
    },
    {
      "cell_type": "code",
      "metadata": {
        "colab": {
          "base_uri": "https://localhost:8080/"
        },
        "id": "VQQcsN_YXYpr",
        "outputId": "9231b3cd-5d5b-45df-84a6-6bcd8f40bc6e"
      },
      "source": [
        "# Max\r\n",
        "max(bleu_score)"
      ],
      "execution_count": 161,
      "outputs": [
        {
          "output_type": "execute_result",
          "data": {
            "text/plain": [
              "0.49330550922616334"
            ]
          },
          "metadata": {
            "tags": []
          },
          "execution_count": 161
        }
      ]
    },
    {
      "cell_type": "code",
      "metadata": {
        "colab": {
          "base_uri": "https://localhost:8080/"
        },
        "id": "tukCQ8JlXZ-X",
        "outputId": "ca2cce27-63f1-4550-9327-f075bc5b8a5e"
      },
      "source": [
        "# Min\r\n",
        "min(bleu_score)"
      ],
      "execution_count": 162,
      "outputs": [
        {
          "output_type": "execute_result",
          "data": {
            "text/plain": [
              "0.05096423778824181"
            ]
          },
          "metadata": {
            "tags": []
          },
          "execution_count": 162
        }
      ]
    },
    {
      "cell_type": "code",
      "metadata": {
        "colab": {
          "base_uri": "https://localhost:8080/",
          "height": 295
        },
        "id": "JohKOdKUsroF",
        "outputId": "2595a1d6-19a1-4f7b-bdcb-0ea27abd4cd2"
      },
      "source": [
        "# Bleu score histogram\r\n",
        "\r\n",
        "plt.hist(bleu_score, alpha=0.5)\r\n",
        "plt.title('Bleu Scores')\r\n",
        "plt.xlabel('Bleu Scores')\r\n",
        "plt.ylabel('Count')\r\n",
        "\r\n",
        "plt.show()\r\n"
      ],
      "execution_count": 171,
      "outputs": [
        {
          "output_type": "display_data",
          "data": {
            "image/png": "[encoded data removed]",
            "text/plain": [
              "<Figure size 432x288 with 1 Axes>"
            ]
          },
          "metadata": {
            "tags": [],
            "needs_background": "light"
          }
        }
      ]
    },
    {
      "cell_type": "code",
      "metadata": {
        "colab": {
          "base_uri": "https://localhost:8080/"
        },
        "id": "v2RHbOEHXdB4",
        "outputId": "a16ea9cd-384e-4454-9361-7b409687a8e7"
      },
      "source": [
        "# Compute rogue scores\r\n",
        "references = list(X_test.prep_answer)\r\n",
        "candidates = list(X_test.predicted_answer)\r\n",
        "\r\n",
        "rouge = Rouge()\r\n",
        "scores = rouge.get_scores(candidates, references, avg=True)\r\n",
        "scores"
      ],
      "execution_count": 173,
      "outputs": [
        {
          "output_type": "execute_result",
          "data": {
            "text/plain": [
              "{'rouge-1': {'f': 0.18802168051490634,\n",
              "  'p': 0.18812238566293757,\n",
              "  'r': 0.32847448959945913},\n",
              " 'rouge-2': {'f': 0.024310414606680535,\n",
              "  'p': 0.02465121544290012,\n",
              "  'r': 0.045447602517570136},\n",
              " 'rouge-l': {'f': 0.15203930056145362,\n",
              "  'p': 0.14124431247139915,\n",
              "  'r': 0.25378533592157915}}"
            ]
          },
          "metadata": {
            "tags": []
          },
          "execution_count": 173
        }
      ]
    }
  ]
}