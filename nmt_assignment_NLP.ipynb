{
 "nbformat": 4,
 "nbformat_minor": 0,
 "metadata": {
  "kernelspec": {
   "display_name": "Python 3",
   "language": "python",
   "name": "python3"
  },
  "language_info": {
   "codemirror_mode": {
    "name": "ipython",
    "version": 3
   },
   "file_extension": ".py",
   "mimetype": "text/x-python",
   "name": "python",
   "nbconvert_exporter": "python",
   "pygments_lexer": "ipython3",
   "version": "3.7.4"
  },
  "colab": {
   "name": "nmt_assignment_NLP.ipynb",
   "provenance": []
  }
 },
 "cells": [
  {
   "cell_type": "markdown",
   "metadata": {
    "id": "vDMOF-H41xp4"
   },
   "source": [
    "# Assignment NMT: Intro to NLP\n",
    "\n",
    "The aim of this homework is to familiarize you with sequence-to-sequence language modeling, specifically using an encoder-decoder model. In this notebook, you are provided with pre-written code for a simple sequence-to-sequence model that already works and learns how to reverse short sequences of numbers.\n",
    "\n",
    "If you run this whole jupyter notebook, it will learn to reverse short sequences of numbers. Although much of this code you will not be modifying, we recommend reading through it to get a sense of how the model and training works.\n",
    "\n",
    "This starter code is based on [this tutorial](https://pytorch.org/tutorials/intermediate/seq2seq_translation_tutorial.html) by Sean Robertson from the PyTorch website and the COMS course at Columbia University by Professor Kathy McKeown. \n",
    "\n",
    "### Overview\n",
    "\n",
    "Your assignment is to:\n",
    " 1. adapt this notebook to work on the English-Italian language pair from Tataoeba website\n",
    " 2. Implement a beam search function\n",
    " \n",
    "\n",
    "Write all your code **in this jupyter notebook**. Cells are provided where you should be implementing your code. \n",
    "\n",
    "You do not need to modify any code to train the model. You may modify the `trainIters` function, if you would like to improve how you track progress, or change parameters while training. For example, it can be useful to decrease the teacher-forcing ratio as training progresses.\n",
    "\n",
    "\n",
    "I would recommend you run this notebook as it is, first. You should be able to run it with the dummy data provided without making ANY modifications (except the cell where the data are loaded). Then, start making your changes as requested.\n",
    "\n"
   ]
  },
  {
   "cell_type": "code",
   "metadata": {
    "id": "cQESKYGw1xp6"
   },
   "source": [
    "# You may modify this cell if you like\n",
    "\n",
    "import random\n",
    "import time\n",
    "\n",
    "import torch\n",
    "import torch.nn as nn\n",
    "from torch import optim\n",
    "import torch.nn.functional as F\n",
    "\n",
    "import torchtext\n",
    "\n",
    "from sklearn.model_selection import train_test_split\n",
    "import pandas as pd"
   ],
   "execution_count": 1,
   "outputs": []
  },
  {
   "cell_type": "code",
   "metadata": {
    "id": "b1F6op_f1xp9",
    "outputId": "e2fcb2c5-e90d-414e-9d2c-aa2d003a048f",
    "colab": {
     "base_uri": "https://localhost:8080/"
    }
   },
   "source": [
    "# DO NO MODIFY\n",
    "\n",
    "# this is useful for checking if your code is successfully using the GPU\n",
    "\n",
    "mydevice = torch.device(\"cuda\" if torch.cuda.is_available() else \"cpu\")\n",
    "mydevice"
   ],
   "execution_count": 2,
   "outputs": [
    {
     "data": {
      "text/plain": "device(type='cuda')"
     },
     "execution_count": 2,
     "metadata": {},
     "output_type": "execute_result"
    }
   ]
  },
  {
   "cell_type": "code",
   "metadata": {
    "id": "IbUybDZ91xp_"
   },
   "source": [
    "# DO NOT MODIFY\n",
    "\n",
    "SOS_TOKEN = '<sos>'\n",
    "EOS_TOKEN = '<eos>'\n",
    "\n",
    "MAX_LEN = 5000\n",
    "\n",
    "def len_filter(example):\n",
    "    return len(example.src) <= MAX_LEN and len(example.tgt) <= MAX_LEN"
   ],
   "execution_count": 3,
   "outputs": []
  },
  {
   "cell_type": "markdown",
   "metadata": {
    "id": "p3Z0rO701xqH"
   },
   "source": [
    "### 1. Load the data (10 points)\n",
    "\n",
    "Load in the en-it data from http://www.manythings.org/anki/ita-eng.zip\n",
    "\n",
    " similar to how the dummy number reversal dataset is loaded above. That is, use the same `torchtext.data.Field` and `torchtext.data.TabularDataset` classes."
   ]
  },
  {
   "cell_type": "code",
   "metadata": {
    "id": "3zr76n7W1xqI"
   },
   "source": [
    "# WRITE YOUR CODE FOR LOADING THE ITALIAN<->ENGLISH DATA HERE\n",
    "#TODO \n",
    "#create 6 files, English|Italian data for train|dev|test, one sentence per line.\n",
    "#you can ignore this cell when you are running the code the first time through on the dummy reversal dataset\n",
    "\n",
    "# Import from external file\n",
    "X_train = pd.read_csv(\"output/x_train.csv\")\n",
    "X_test = pd.read_csv(\"output/x_test.csv\")\n",
    "\n",
    "# Set paths\n",
    "train_path = 'output/x_train_nn.csv'\n",
    "test_path = 'output/x_test_nn.csv'\n",
    "\n",
    "# Save files\n",
    "X_train[['question', 'prep_answer', 'cluster']].to_csv(train_path, index=False, header=False)\n",
    "X_test[['question', 'prep_answer', 'cluster']].to_csv(test_path, index=False, header=False)\n",
    "\n",
    "# Create pytorch variables\n",
    "src = torchtext.data.Field(\n",
    "    batch_first=True,\n",
    "    include_lengths=True\n",
    "    )\n",
    "tgt = torchtext.data.Field(\n",
    "    batch_first=True,\n",
    "    preprocessing = lambda seq: [SOS_TOKEN] + seq + [EOS_TOKEN]\n",
    "    )\n",
    "\n",
    "data_train = torchtext.data.TabularDataset(\n",
    "        path=train_path, format='csv',\n",
    "        fields=[('src', src), ('tgt', tgt)],\n",
    "        filter_pred=len_filter\n",
    "    )\n",
    "data_test = torchtext.data.TabularDataset(\n",
    "        path=test_path, format='csv',\n",
    "        fields=[('src', src), ('tgt', tgt)],\n",
    "        filter_pred=len_filter\n",
    "    )"
   ],
   "execution_count": 4,
   "outputs": []
  },
  {
   "cell_type": "markdown",
   "metadata": {
    "id": "rqisn6dd1xqK"
   },
   "source": [
    "Have a look at the vocab and some example data points.\n",
    "\n",
    "*If you have loaded in the data correctly, the code in the cell below should work without any modification.*"
   ]
  },
  {
   "cell_type": "code",
   "metadata": {
    "id": "yw7eK-hj1xqL",
    "outputId": "39c054f1-7573-4ad0-c2ee-1d95ed05a81c",
    "colab": {
     "base_uri": "https://localhost:8080/"
    }
   },
   "source": [
    "# You may modify this cell if you like\n",
    "\n",
    "src.build_vocab(data_train, max_size=50000)\n",
    "tgt.build_vocab(data_train, max_size=50000)\n",
    "input_vocab = src.vocab\n",
    "output_vocab = tgt.vocab\n",
    "\n",
    "print('20 tokens from input vocab:\\n', list(input_vocab.stoi.keys())[:20])\n",
    "print('\\n20 tokens from output vocab:\\n', list(output_vocab.stoi.keys())[:20])\n",
    "\n",
    "print('\\nnum training examples:', len(data_train.examples))\n",
    "\n",
    "item = random.choice(data_train.examples)\n",
    "print('\\nexample train data:')\n",
    "print('src:\\n', item.src)\n",
    "print('tgt:\\n', item.tgt)\n",
    "\n",
    "#showing output below for toy dataset"
   ],
   "execution_count": 5,
   "outputs": [
    {
     "name": "stdout",
     "output_type": "stream",
     "text": [
      "20 tokens from input vocab:\n",
      " ['<unk>', '<pad>', 'the', 'to', 'of', 'a', 'I', 'and', 'in', 'is', 'that', 'for', 'be', 'have', 'it', 'this', 'are', 'on', 'with', 'my']\n",
      "\n",
      "20 tokens from output vocab:\n",
      " ['<unk>', '<pad>', 'the', 'to', 'of', 'and', 'a', 'is', 'in', 'that', 'for', 'you', 'not', 'are', 'be', 'it', 'or', 'with', 'have', 'as']\n",
      "\n",
      "num training examples: 1034\n",
      "\n",
      "example train data:\n",
      "src:\n",
      " ['What', 'about', 'my', 'summer', 'vacation?', 'Should', 'I', 'cancel', 'that?']\n",
      "tgt:\n",
      " ['<sos>', 'no', 'one', 'really', 'knows', 'what', 'the', 'course', 'of', 'the', 'outbreak', 'will', 'be.', 'some', 'airlines', 'have', 'already', 'announced', 'cuts', 'through', 'may,', 'and', 'president', 'trump', 'has', 'mentioned', 'isolation', 'measures', 'lasting', 'through', 'july', 'or', 'august.', 'the', 'prevailing', 'optimistic', 'guess', 'among', 'experts', 'for', 'when', 'the', 'outbreak', 'will', 'abate', 'hovers', 'at', 'about', 'two', 'months.', '<eos>']\n"
     ]
    }
   ]
  },
  {
   "cell_type": "markdown",
   "metadata": {
    "id": "R7ZGeEix1xqN"
   },
   "source": [
    "### Model definition and training functions"
   ]
  },
  {
   "cell_type": "code",
   "metadata": {
    "id": "IDN_VycQ1xqO"
   },
   "source": [
    "# DO NOT MODIFY\n",
    "\n",
    "class EncoderRNN(nn.Module):\n",
    "    def __init__(self, input_size, hidden_size):\n",
    "        super(EncoderRNN, self).__init__()\n",
    "        self.hidden_size = hidden_size\n",
    "\n",
    "        self.embedding = nn.Embedding(input_size, hidden_size)\n",
    "        self.gru = nn.GRU(hidden_size, hidden_size)\n",
    "\n",
    "    def forward(self, myinput, hidden):\n",
    "        embedded = self.embedding(myinput).view(1, 1, -1)\n",
    "        output = embedded\n",
    "        output, hidden = self.gru(output, hidden)\n",
    "        return output, hidden\n",
    "\n",
    "    def initHidden(self):\n",
    "        return torch.zeros(1, 1, self.hidden_size, device=mydevice)\n",
    "\n",
    "    \n",
    "class DecoderRNN(nn.Module):\n",
    "    def __init__(self, hidden_size, output_size):\n",
    "        super(DecoderRNN, self).__init__()\n",
    "        self.hidden_size = hidden_size\n",
    "\n",
    "        self.embedding = nn.Embedding(output_size, hidden_size)\n",
    "        self.gru = nn.GRU(hidden_size, hidden_size)\n",
    "        self.out = nn.Linear(hidden_size, output_size)\n",
    "        self.softmax = nn.LogSoftmax(dim=1)\n",
    "\n",
    "    def forward(self, input, hidden):\n",
    "        output = self.embedding(input).view(1, 1, -1)\n",
    "        output = F.relu(output)\n",
    "        output, hidden = self.gru(output, hidden)\n",
    "        output = self.softmax(self.out(output[0]))\n",
    "        return output, hidden\n",
    "\n",
    "    def initHidden(self):\n",
    "        return torch.zeros(1, 1, self.hidden_size, device=mydevice)"
   ],
   "execution_count": 6,
   "outputs": []
  },
  {
   "cell_type": "code",
   "metadata": {
    "id": "aA1Xp8Jb1xqR"
   },
   "source": [
    "# DO NOT MODIFY\n",
    "\n",
    "def train(input_tensor, target_tensor, encoder, decoder, encoder_optimizer, decoder_optimizer, criterion,\n",
    "          max_length=MAX_LEN, teacher_forcing_ratio=0.5):\n",
    "    \n",
    "    # get an initial hidden state for the encoder\n",
    "    encoder_hidden = encoder.initHidden()\n",
    "\n",
    "    # zero the gradients of the optimizers\n",
    "    encoder_optimizer.zero_grad()\n",
    "    decoder_optimizer.zero_grad()\n",
    "\n",
    "    # get the seq lengths, used for iterating through encoder/decoder\n",
    "    input_length = input_tensor.size(0)\n",
    "    target_length = target_tensor.size(0)\n",
    "\n",
    "    # create empty tensor to fill with encoder outputs\n",
    "    encoder_outputs = torch.zeros(max_length, encoder.hidden_size, device=mydevice)\n",
    "\n",
    "    # create a variable for loss\n",
    "    loss = 0\n",
    "    \n",
    "    # pass the inputs through the encoder\n",
    "    for ei in range(input_length):\n",
    "        encoder_output, encoder_hidden = encoder(input_tensor[ei], encoder_hidden)\n",
    "        encoder_outputs[ei] = encoder_output[0, 0]\n",
    "\n",
    "    # create a start-of-sequence tensor for the decoder\n",
    "    decoder_input = torch.tensor([[output_vocab.stoi[SOS_TOKEN]]], device=mydevice)\n",
    "\n",
    "    # set the decoder hidden state to the final encoder hidden state\n",
    "    decoder_hidden = encoder_hidden\n",
    "\n",
    "    # decide if we will use teacher forcing\n",
    "    use_teacher_forcing = True if random.random() < teacher_forcing_ratio else False\n",
    "\n",
    "    for di in range(target_length):\n",
    "        decoder_output, decoder_hidden = decoder(decoder_input, decoder_hidden)\n",
    "        \n",
    "        topv, topi = decoder_output.topk(1)\n",
    "        decoder_input = topi.squeeze().detach()  # detach from history as input\n",
    "                \n",
    "        loss += criterion(decoder_output, target_tensor[di].unsqueeze(0))\n",
    "        \n",
    "        if use_teacher_forcing:\n",
    "            decoder_input = target_tensor[di]\n",
    "        \n",
    "        if decoder_input.item() == output_vocab.stoi[EOS_TOKEN]:\n",
    "                break\n",
    "\n",
    "    loss.backward()\n",
    "\n",
    "    encoder_optimizer.step()\n",
    "    decoder_optimizer.step()\n",
    "\n",
    "    return loss.item() / target_length"
   ],
   "execution_count": 7,
   "outputs": []
  },
  {
   "cell_type": "code",
   "metadata": {
    "id": "_fvIGMXl1xqT"
   },
   "source": [
    "# You may modify this cell\n",
    "\n",
    "def trainIters(encoder, decoder, n_iters, print_every=10000, learning_rate=0.04, teacher_forcing_ratio=0.2):\n",
    "    print(f'Running {n_iters} epochs...')\n",
    "    print_loss_total = 0\n",
    "    print_loss_epoch = 0\n",
    "\n",
    "    encoder_optim = optim.SGD(encoder.parameters(), lr=learning_rate)\n",
    "    decoder_optim = optim.SGD(decoder.parameters(), lr=learning_rate)\n",
    "\n",
    "    # note batch size of 1, just for simplicity\n",
    "    # DO NOT INCREASE THE BATCH SIZE\n",
    "    batch_iterator = torchtext.data.Iterator(\n",
    "        dataset=data_train, batch_size=1,\n",
    "        sort=False, sort_within_batch=True,\n",
    "        sort_key=lambda x: len(x.src),\n",
    "        device=mydevice, repeat=False)\n",
    "    \n",
    "\n",
    "    criterion = nn.NLLLoss()\n",
    "\n",
    "    for e in range(n_iters):\n",
    "        batch_generator = batch_iterator.__iter__()\n",
    "        step = 0\n",
    "        start = time.time()\n",
    "        for batch in batch_generator:\n",
    "            step += 1\n",
    "            \n",
    "            # get the input and target from the batch iterator\n",
    "            input_tensor, input_lengths = getattr(batch, 'src')\n",
    "            target_tensor = getattr(batch, 'tgt')\n",
    "            \n",
    "            # this is because we're not actually using the batches.\n",
    "            # batch size is 1 and this just selects that first one\n",
    "            input_tensor = input_tensor[0]\n",
    "            target_tensor = target_tensor[0]\n",
    "\n",
    "            loss = train(input_tensor, target_tensor, encoder, decoder, encoder_optim, decoder_optim, criterion, teacher_forcing_ratio=teacher_forcing_ratio)\n",
    "            print_loss_total += loss\n",
    "            print_loss_epoch += loss\n",
    "            \n",
    "\n",
    "            if step % print_every == 0:\n",
    "                print_loss_avg = print_loss_total / print_every\n",
    "                print_loss_total = 0\n",
    "                t = (time.time() - start) / 60\n",
    "                print(f'step: {step}\\t avg loss: {print_loss_avg:.2f}\\t time for {print_every} steps: {t:.2f} min')\n",
    "                start = time.time()\n",
    "        \n",
    "        print_loss_avg = print_loss_epoch / step\n",
    "        print_loss_epoch = 0\n",
    "        print(f'End of epoch {e}, avg loss {print_loss_avg:.2f}')  "
   ],
   "execution_count": 8,
   "outputs": []
  },
  {
   "cell_type": "markdown",
   "metadata": {
    "id": "1CYrxT_n1xqV"
   },
   "source": [
    "###  Create and train a model"
   ]
  },
  {
   "cell_type": "code",
   "metadata": {
    "id": "bOBbHdMM1xqV"
   },
   "source": [
    "# You may modify this cell\n",
    "\n",
    "hidden_size = 128\n",
    "encoder1 = EncoderRNN(len(input_vocab), hidden_size).to(mydevice)\n",
    "decoder1 = DecoderRNN(hidden_size, len(output_vocab)).to(mydevice)"
   ],
   "execution_count": 9,
   "outputs": []
  },
  {
   "cell_type": "markdown",
   "metadata": {
    "id": "fCKVT2Y11xqX"
   },
   "source": [
    "Here are some guidelines for how much training to expect. Note that these *guidelines*; they are not exact.\n",
    "\n",
    "Only 1 epoch is needed for the number reversal dataset. This produces near-perfect results, and should take less than 5 minutes to run on a CPU.\n",
    "\n"
   ]
  },
  {
   "cell_type": "code",
   "metadata": {
    "id": "TCAZ8hbk1xqY",
    "outputId": "9d040289-4d0a-438e-8eed-1cf561d30bbf",
    "colab": {
     "base_uri": "https://localhost:8080/"
    }
   },
   "source": [
    "# You may modify this cell\n",
    "# but be sure that it prints some indication of how training is progressing\n",
    "\n",
    "trainIters(encoder1, decoder1, 1, print_every=10000)"
   ],
   "execution_count": 10,
   "outputs": [
    {
     "name": "stdout",
     "output_type": "stream",
     "text": [
      "Running 10 epochs...\n",
      "End of epoch 0, avg loss 375.16\n",
      "End of epoch 1, avg loss 438.55\n",
      "End of epoch 2, avg loss 528.41\n",
      "End of epoch 3, avg loss 493.59\n",
      "End of epoch 4, avg loss 561.61\n",
      "End of epoch 5, avg loss 521.60\n",
      "End of epoch 6, avg loss 498.38\n",
      "End of epoch 7, avg loss 466.56\n",
      "End of epoch 8, avg loss 505.29\n",
      "End of epoch 9, avg loss 519.03\n"
     ]
    }
   ]
  },
  {
   "cell_type": "code",
   "metadata": {
    "id": "m2G_5Uwx1xqg"
   },
   "source": [
    "# DO NOT MODIFY\n",
    "\n",
    "def evaluate(encoder, decoder, sentence, max_length=MAX_LEN):\n",
    "    with torch.no_grad():\n",
    "        input_tensor = torch.tensor([input_vocab.stoi[word] for word in sentence], device=mydevice)\n",
    "        input_length = input_tensor.size()[0]\n",
    "        encoder_hidden = encoder.initHidden()\n",
    "\n",
    "        encoder_outputs = torch.zeros(max_length, encoder.hidden_size, device=mydevice)\n",
    "\n",
    "        for ei in range(input_length):\n",
    "            encoder_output, encoder_hidden = encoder(input_tensor[ei], encoder_hidden)\n",
    "            encoder_outputs[ei] += encoder_output[0, 0]\n",
    "\n",
    "        decoder_input = torch.tensor([[output_vocab.stoi[SOS_TOKEN]]], device=mydevice)\n",
    "\n",
    "        decoder_hidden = encoder_hidden\n",
    "\n",
    "        decoded_words = []\n",
    "\n",
    "        for di in range(max_length):\n",
    "            decoder_output, decoder_hidden = decoder(decoder_input, decoder_hidden)\n",
    "            topv, topi = decoder_output.data.topk(1)\n",
    "            next_word = output_vocab.itos[topi.item()]\n",
    "            decoded_words.append(next_word)\n",
    "            if next_word == EOS_TOKEN:\n",
    "                break\n",
    "\n",
    "            decoder_input = topi.squeeze().detach()\n",
    "\n",
    "        return decoded_words"
   ],
   "execution_count": 11,
   "outputs": []
  },
  {
   "cell_type": "markdown",
   "metadata": {
    "id": "JDG-Sydz1xql"
   },
   "source": [
    "Have a look at some generated sequences! This is the fun part."
   ]
  },
  {
   "cell_type": "code",
   "metadata": {
    "id": "PWPksDgH1xqm",
    "outputId": "19ab0572-2a2c-4aa7-be91-88fdf1084386",
    "colab": {
     "base_uri": "https://localhost:8080/"
    }
   },
   "source": [
    "# You may modify this cell\n",
    "\n",
    "# This selects 5 random datapoints from the training data and shows the generated sequence\n",
    "\n",
    "for i in range(5):\n",
    "    item = random.choice(data_train.examples)\n",
    "    seq = item.src\n",
    "    print(seq)\n",
    "    words = evaluate(encoder1, decoder1, seq)\n",
    "    print(' '.join(words))\n",
    "    print()"
   ],
   "execution_count": 12,
   "outputs": [
    {
     "name": "stdout",
     "output_type": "stream",
     "text": [
      "['Can', 'I', 'step', 'out', 'to', 'withdraw', 'money', 'from', 'the', 'ATM?']\n",
      "national the reported which reported which reported which reported which reported which reported which reported which reported which reported which reported which reported which reported which reported which reported which reported which reported which reported which reported which reported which reported which reported which reported which reported which reported which reported which reported which reported which reported which reported which reported which reported which reported which reported which reported which reported which reported which reported which reported which reported which reported which reported which reported which reported which reported which reported which reported which reported which reported which reported which reported which reported which reported which reported which reported which reported which reported which reported which reported which reported which reported which reported which reported which reported which reported which reported which reported which reported which reported which reported which reported which reported which reported which reported which reported which reported which reported which reported which reported which reported which reported which reported which reported which reported which reported which reported which reported which reported which reported which reported which reported which reported which reported which reported which reported which reported which reported which reported which reported which reported which reported which reported which reported which reported which reported which reported which reported which reported which reported which reported which reported which reported which reported which reported which reported which reported which reported which reported which reported which reported which reported which reported which reported which reported which reported which reported which reported which reported which reported which reported which reported which reported which reported which reported which reported which reported which reported which reported which reported which reported which reported which reported which reported which reported which reported which reported which reported which reported which reported which reported which reported which reported which reported which reported which reported which reported which reported which reported which reported which reported which reported which reported which reported which reported which reported which reported which reported which reported which reported which reported which reported which reported which reported which reported which reported which reported which reported which reported which reported which reported which reported which reported which reported which reported which reported which reported which reported which reported which reported which reported which reported which reported which reported which reported which reported which reported which reported which reported which reported which reported which reported which reported which reported which reported which reported which reported which reported which reported which reported which reported which reported which reported which reported which reported which reported which reported which reported which reported which reported which reported which reported which reported which reported which reported which reported which reported which reported which reported which reported which reported which reported which reported which reported which reported which reported which reported which reported which reported which reported which reported which reported which reported which reported which reported which reported which reported which reported which reported which reported which reported which reported which reported which reported which reported which reported which reported which reported which reported which reported which reported which reported which reported which reported which reported which reported which reported which reported which reported which reported which reported which reported which reported which reported which reported which reported which reported which reported which reported which reported which reported which reported which reported which reported which reported which reported which reported which reported which reported which reported which reported which reported which reported which reported which reported which reported which reported which reported which reported which reported which reported which reported which reported which reported which reported which reported which reported which reported which reported which reported which reported which reported which reported which reported which reported which reported which reported which reported which reported which reported which reported which reported which reported which reported which reported which reported which reported which reported which reported which reported which reported which reported which reported which reported which reported which reported which reported which reported which reported which reported which reported which reported which reported which reported which reported which reported which reported which reported which reported which reported which reported which reported which reported which reported which reported which reported which reported which reported which reported which reported which reported which reported which reported which reported which reported which reported which reported which reported which reported which reported which reported which reported which reported which reported which reported which reported which reported which reported which reported which reported which reported which reported which reported which reported which reported which reported which reported which reported which reported which reported which reported which reported which reported which reported which reported which reported which reported which reported which reported which reported which reported which reported which reported which reported which reported which reported which reported which reported which reported which reported which reported which reported which reported which reported which reported which reported which reported which reported which reported which reported which reported which reported which reported which reported which reported which reported which reported which reported which reported which reported which reported which reported which reported which reported which reported which reported which reported which reported which reported which reported which reported which reported which reported which reported which reported which reported which reported which reported which reported which reported which reported which reported which reported which reported which reported which reported which reported which reported which reported which reported which reported which reported which reported which reported which reported which reported which reported which reported which reported which reported which reported which reported which reported which reported which reported which reported which reported which reported which reported which reported which reported which reported which reported which reported which reported which reported which reported which reported which reported which reported which reported which reported which reported which reported which reported which reported which reported which reported which reported which reported which reported which reported which reported which reported which reported which reported which reported which reported which reported which reported which reported which reported which reported which reported which reported which reported which reported which reported which reported which reported which reported which reported which reported which reported which reported which reported which reported which reported which reported which reported which reported which reported which reported which reported which reported which reported which reported which reported which reported which reported which reported which reported which reported which reported which reported which reported which reported which reported which reported which reported which reported which reported which reported which reported which reported which reported which reported which reported which reported which reported which reported which reported which reported which reported which reported which reported which reported which reported which reported which reported which reported which reported which reported which reported which reported which reported which reported which reported which reported which reported which reported which reported which reported which reported which reported which reported which reported which reported which reported which reported which reported which reported which reported which reported which reported which reported which reported which reported which reported which reported which reported which reported which reported which reported which reported which reported which reported which reported which reported which reported which reported which reported which reported which reported which reported which reported which reported which reported which reported which reported which reported which reported which reported which reported which reported which reported which reported which reported which reported which reported which reported which reported which reported which reported which reported which reported which reported which reported which reported which reported which reported which reported which reported which reported which reported which reported which reported which reported which reported which reported which reported which reported which reported which reported which reported which reported which reported which reported which reported which reported which reported which reported which reported which reported which reported which reported which reported which reported which reported which reported which reported which reported which reported which reported which reported which reported which reported which reported which reported which reported which reported which reported which reported which reported which reported which reported which reported which reported which reported which reported which reported which reported which reported which reported which reported which reported which reported which reported which reported which reported which reported which reported which reported which reported which reported which reported which reported which reported which reported which reported which reported which reported which reported which reported which reported which reported which reported which reported which reported which reported which reported which reported which reported which reported which reported which reported which reported which reported which reported which reported which reported which reported which reported which reported which reported which reported which reported which reported which reported which reported which reported which reported which reported which reported which reported which reported which reported which reported which reported which reported which reported which reported which reported which reported which reported which reported which reported which reported which reported which reported which reported which reported which reported which reported which reported which reported which reported which reported which reported which reported which reported which reported which reported which reported which reported which reported which reported which reported which reported which reported which reported which reported which reported which reported which reported which reported which reported which reported which reported which reported which reported which reported which reported which reported which reported which reported which reported which reported which reported which reported which reported which reported which reported which reported which reported which reported which reported which reported which reported which reported which reported which reported which reported which reported which reported which reported which reported which reported which reported which reported which reported which reported which reported which reported which reported which reported which reported which reported which reported which reported which reported which reported which reported which reported which reported which reported which reported which reported which reported which reported which reported which reported which reported which reported which reported which reported which reported which reported which reported which reported which reported which reported which reported which reported which reported which reported which reported which reported which reported which reported which reported which reported which reported which reported which reported which reported which reported which reported which reported which reported which reported which reported which reported which reported which reported which reported which reported which reported which reported which reported which reported which reported which reported which reported which reported which reported which reported which reported which reported which reported which reported which reported which reported which reported which reported which reported which reported which reported which reported which reported which reported which reported which reported which reported which reported which reported which reported which reported which reported which reported which reported which reported which reported which reported which reported which reported which reported which reported which reported which reported which reported which reported which reported which reported which reported which reported which reported which reported which reported which reported which reported which reported which reported which reported which reported which reported which reported which reported which reported which reported which reported which reported which reported which reported which reported which reported which reported which reported which reported which reported which reported which reported which reported which reported which reported which reported which reported which reported which reported which reported which reported which reported which reported which reported which reported which reported which reported which reported which reported which reported which reported which reported which reported which reported which reported which reported which reported which reported which reported which reported which reported which reported which reported which reported which reported which reported which reported which reported which reported which reported which reported which reported which reported which reported which reported which reported which reported which reported which reported which reported which reported which reported which reported which reported which reported which reported which reported which reported which reported which reported which reported which reported which reported which reported which reported which reported which reported which reported which reported which reported which reported which reported which reported which reported which reported which reported which reported which reported which reported which reported which reported which reported which reported which reported which reported which reported which reported which reported which reported which reported which reported which reported which reported which reported which reported which reported which reported which reported which reported which reported which reported which reported which reported which reported which reported which reported which reported which reported which reported which reported which reported which reported which reported which reported which reported which reported which reported which reported which reported which reported which reported which reported which reported which reported which reported which reported which reported which reported which reported which reported which reported which reported which reported which reported which reported which reported which reported which reported which reported which reported which reported which reported which reported which reported which reported which reported which reported which reported which reported which reported which reported which reported which reported which reported which reported which reported which reported which reported which reported which reported which reported which reported which reported which reported which reported which reported which reported which reported which reported which reported which reported which reported which reported which reported which reported which reported which reported which reported which reported which reported which reported which reported which reported which reported which reported which reported which reported which reported which reported which reported which reported which reported which reported which reported which reported which reported which reported which reported which reported which reported which reported which reported which reported which reported which reported which reported which reported which reported which reported which reported which reported which reported which reported which reported which reported which reported which reported which reported which reported which reported which reported which reported which reported which reported which reported which reported which reported which reported which reported which reported which reported which reported which reported which reported which reported which reported which reported which reported which reported which reported which reported which reported which reported which reported which reported which reported which reported which reported which reported which reported which reported which reported which reported which reported which reported which reported which reported which reported which reported which reported which reported which reported which reported which reported which reported which reported which reported which reported which reported which reported which reported which reported which reported which reported which reported which reported which reported which reported which reported which reported which reported which reported which reported which reported which reported which reported which reported which reported which reported which reported which reported which reported which reported which reported which reported which reported which reported which reported which reported which reported which reported which reported which reported which reported which reported which reported which reported which reported which reported which reported which reported which reported which reported which reported which reported which reported which reported which reported which reported which reported which reported which reported which reported which reported which reported which reported which reported which reported which reported which reported which reported which reported which reported which reported which reported which reported which reported which reported which reported which reported which reported which reported which reported which reported which reported which reported which reported which reported which reported which reported which reported which reported which reported which reported which reported which reported which reported which reported which reported which reported which reported which reported which reported which reported which reported which reported which reported which reported which reported which reported which reported which reported which reported which reported which reported which reported which reported which reported which reported which reported which reported which reported which reported which reported which reported which reported which reported which reported which reported which reported which reported which reported which reported which reported which reported which reported which reported which reported which reported which reported which reported which reported which reported which reported which reported which reported which reported which reported which reported which reported which reported which reported which reported which reported which reported which reported which reported which reported which reported which reported which reported which reported which reported which reported which reported which reported which reported which reported which reported which reported which reported which reported which reported which reported which reported which reported which reported which reported which reported which reported which reported which reported which reported which reported which reported which reported which reported which reported which reported which reported which reported which reported which reported which reported which reported which reported which reported which reported which reported which reported which reported which reported which reported which reported which reported which reported which reported which reported which reported which reported which reported which reported which reported which reported which reported which reported which reported which reported which reported which reported which reported which reported which reported which reported which reported which reported which reported which reported which reported which reported which reported which reported which reported which reported which reported which reported which reported which reported which reported which reported which reported which reported which reported which reported which reported which reported which reported which reported which reported which reported which reported which reported which reported which reported which reported which reported which reported which reported which reported which reported which reported which reported which reported which reported which reported which reported which reported which reported which reported which reported which reported which reported which reported which reported which reported which reported which reported which reported which reported which reported which reported which reported which reported which reported which reported which reported which reported which reported which reported which reported which reported which reported which reported which reported which reported which reported which reported which reported which reported which reported which reported which reported which reported which reported which reported which reported which reported which reported which reported which reported which reported which reported which reported which reported which reported which reported which reported which reported which reported which reported which reported which reported which reported which reported which reported which reported which reported which reported which reported which reported which reported which reported which reported which reported which reported which reported which reported which reported which reported which reported which reported which reported which reported which reported which reported which reported which reported which reported which reported which reported which reported which reported which reported which reported which reported which reported which reported which reported which reported which reported which reported which reported which reported which reported which reported which reported which reported which reported which reported which reported which reported which reported which reported which reported which reported which reported which reported which reported which reported which reported which reported which reported which reported which reported which reported which reported which reported which reported which reported which reported which reported which reported which reported which reported which reported which reported which reported which reported which reported which reported which reported which reported which reported which reported which reported which reported which reported which reported which reported which reported which reported which reported which reported which reported which reported which reported which reported which reported which reported which reported which reported which reported which reported which reported which reported which reported which reported which reported which reported which reported which reported which reported which reported which reported which reported which reported which reported which reported which reported which reported which reported which reported which reported which reported which reported which reported which reported which reported which reported which reported which reported which reported which reported which reported which reported which reported which reported which reported which reported which reported which reported which reported which reported which reported which reported which reported which reported which reported which reported which reported which reported which reported which reported which reported which reported which reported which reported which reported which reported which reported which reported which reported which reported which reported which reported which reported which reported which reported which reported which reported which reported which reported which reported which reported which reported which reported which reported which reported which reported which reported which reported which reported which reported which reported which reported which reported which reported which reported which reported which reported which reported which reported which reported which reported which reported which reported which reported which reported which reported which reported which reported which reported which reported which reported which reported which reported which reported which reported which reported which reported which reported which reported which reported which reported which reported which reported which reported which reported which reported which reported which reported which reported which reported which reported which reported which reported which reported which reported which reported which reported which reported which reported which reported which reported which reported which reported which reported which reported which reported which reported which reported which reported which reported which reported which reported which reported which reported which reported which reported which reported which reported which reported which reported which reported which reported which reported which reported which reported which reported which reported which reported which reported which reported which reported which reported which reported which reported which reported which reported which reported which reported which reported which reported which reported which reported which reported which reported which reported which reported which reported which reported which reported which reported which reported which reported which reported which reported which reported which reported which reported which reported which reported which reported which reported which reported which reported which reported which reported which reported which reported which reported which reported which reported which reported which reported which reported which reported which reported which reported which reported which reported which reported which reported which reported which reported which reported which reported which reported which reported which reported which reported which reported which reported which reported which reported which reported which reported which reported which reported which reported which reported which reported which reported which reported which reported which reported which reported which reported which reported which reported which reported which reported which reported which reported which reported which reported which reported which reported which reported which reported which reported which reported which reported which reported which reported which reported which reported which reported which reported which reported which reported which reported which reported which reported which reported which reported which reported which reported which reported which reported which reported which reported which reported which reported which reported which reported which reported which reported which reported which reported which reported which reported which reported which reported which reported which reported which reported which reported which reported which reported which reported which reported which reported which reported which reported which reported which reported which reported which reported which reported which reported which reported which reported which reported which reported which reported which reported which reported which reported which reported which reported which reported which reported which reported which reported which reported which reported which reported which reported which reported which reported which reported which reported which reported which reported which reported which reported which reported which reported which reported which reported which reported which reported which reported which reported which reported which reported which reported which reported which reported which reported which reported which reported which reported which reported which reported which reported which reported which reported which reported which reported which reported which reported which reported which reported which reported which reported which reported which reported which reported which reported which reported which reported which reported which reported which reported which reported which reported which reported which reported which reported which reported which reported which reported which reported which reported which reported which reported which reported which reported which reported which reported which reported which reported which reported which reported which reported which reported which reported which reported which reported which reported which reported which reported which reported which reported which reported which reported which reported which reported which reported which reported which reported which reported which reported which reported which reported which reported which reported which reported which reported which reported which reported which reported which reported which reported which reported which reported which reported which reported which reported which reported which reported which reported which reported which reported which reported which reported which reported which reported which reported which reported which reported which reported which reported which reported which reported which reported which reported which reported which reported which reported which reported which reported which reported which reported which reported which reported which reported which reported which reported which reported which reported which reported which reported which reported which reported which reported which reported which reported which reported which reported which reported which reported which reported which reported which reported which reported which reported which reported which reported which reported which reported which reported which reported which reported which reported which reported which reported which reported which reported which reported which reported which reported which reported which reported which reported which reported which reported which reported which reported which reported which reported which reported which reported which reported which reported which reported which reported which reported which reported which reported which reported which reported which reported which reported which reported which reported which reported which reported which reported which reported which reported which reported which reported which reported which reported which reported which reported which reported which reported which reported which reported which reported which reported which reported which reported which reported which reported which reported which reported which reported which reported which reported which reported which reported which reported which reported which reported which reported which reported which reported which reported which reported which reported which reported which reported which reported which reported which reported which reported which reported which reported which reported which reported which reported which reported which reported which reported which reported which reported which reported which reported which reported which reported which reported which reported which reported which reported which reported which reported which reported which reported which reported which reported which reported which reported which reported which reported which reported which reported which reported which reported which reported which reported which reported which reported which reported which reported which reported which reported which reported which reported which reported which reported which reported which reported which reported which reported which reported which reported which reported which reported which reported which reported which reported which reported which reported which reported which reported which reported which reported which reported which reported which reported which reported which reported which reported which reported which reported which reported which reported which reported which reported which reported which reported which reported which reported which reported which reported which reported which reported which reported which reported which reported which reported which reported which reported which reported which reported which reported which reported which reported which reported which reported which reported which reported which reported which reported which reported which reported which reported which reported which reported which reported which reported which reported which reported which reported which reported which reported which reported which reported which reported which reported which reported which reported which reported which reported which reported which reported which reported which reported which reported which reported which reported which reported which reported which reported which reported which reported which reported which reported which reported which reported which reported which reported which reported which reported which reported which reported which reported which reported which reported which reported which reported which reported which reported which reported which reported which reported which reported which reported which reported which reported which reported which reported which reported which reported which reported which reported which reported which reported which reported which reported which reported which reported which reported which reported which reported which reported which reported which reported which reported which reported which reported which reported which reported which reported which reported which reported which reported which reported which reported which reported which reported which reported which reported which reported which reported which reported which reported which reported which reported which reported which reported which reported which reported which reported which reported which reported which reported which reported which reported which reported which reported which reported which reported which reported which reported which reported which reported which reported which reported which reported which reported which reported which reported which reported which reported which reported which reported which reported which reported which reported which reported which reported which reported which reported which reported which reported which reported which reported which reported which reported which reported which reported which reported which reported which reported which reported which reported which reported which reported which reported which reported which reported which reported which reported which reported which reported which reported which reported which reported which reported which reported which reported which reported which reported which reported which reported which reported which reported which reported which reported which reported which reported which reported which reported which reported which reported which reported which reported which reported which reported which reported which reported which reported which reported which reported which reported which reported which reported which reported which reported which reported which reported which reported which reported which reported which reported which reported which reported which reported which reported which reported which reported which reported which reported which reported which reported which reported which reported which reported which reported which reported which reported which reported which reported which reported which reported which reported which reported which reported which reported which reported which reported which reported which reported which reported which reported which\n",
      "\n",
      "['How', 'long', 'does', 'coronavirus', 'stay', '“alive”', 'on', 'surfaces?']\n",
      "need the of x of x of x of x of x of x of x of x of x of x of x of x of x of x of x of x of x of x of x of x of x of x of x of x of x of x of x of x of x of x of x of x of x of x of x of x of x of x of x of x of x of x of x of x of x of x of x of x of x of x of x of x of x of x of x of x of x of x of x of x of x of x of x of x of x of x of x of x of x of x of x of x of x of x of x of x of x of x of x of x of x of x of x of x of x of x of x of x of x of x of x of x of x of x of x of x of x of x of x of x of x of x of x of x of x of x of x of x of x of x of x of x of x of x of x of x of x of x of x of x of x of x of x of x of x of x of x of x of x of x of x of x of x of x of x of x of x of x of x of x of x of x of x of x of x of x of x of x of x of x of x of x of x of x of x of x of x of x of x of x of x of x of x of x of x of x of x of x of x of x of x of x of x of x of x of x of x of x of x of x of x of x of x of x of x of x of x of x of x of x of x of x of x of x of x of x of x of x of x of x of x of x of x of x of x of x of x of x of x of x of x of x of x of x of x of x of x of x of x of x of x of x of x of x of x of x of x of x of x of x of x of x of x of x of x of x of x of x of x of x of x of x of x of x of x of x of x of x of x of x of x of x of x of x of x of x of x of x of x of x of x of x of x of x of x of x of x of x of x of x of x of x of x of x of x of x of x of x of x of x of x of x of x of x of x of x of x of x of x of x of x of x of x of x of x of x of x of x of x of x of x of x of x of x of x of x of x of x of x of x of x of x of x of x of x of x of x of x of x of x of x of x of x of x of x of x of x of x of x of x of x of x of x of x of x of x of x of x of x of x of x of x of x of x of x of x of x of x of x of x of x of x of x of x of x of x of x of x of x of x of x of x of x of x of x of x of x of x of x of x of x of x of x of x of x of x of x of x of x of x of x of x of x of x of x of x of x of x of x of x of x of x of x of x of x of x of x of x of x of x of x of x of x of x of x of x of x of x of x of x of x of x of x of x of x of x of x of x of x of x of x of x of x of x of x of x of x of x of x of x of x of x of x of x of x of x of x of x of x of x of x of x of x of x of x of x of x of x of x of x of x of x of x of x of x of x of x of x of x of x of x of x of x of x of x of x of x of x of x of x of x of x of x of x of x of x of x of x of x of x of x of x of x of x of x of x of x of x of x of x of x of x of x of x of x of x of x of x of x of x of x of x of x of x of x of x of x of x of x of x of x of x of x of x of x of x of x of x of x of x of x of x of x of x of x of x of x of x of x of x of x of x of x of x of x of x of x of x of x of x of x of x of x of x of x of x of x of x of x of x of x of x of x of x of x of x of x of x of x of x of x of x of x of x of x of x of x of x of x of x of x of x of x of x of x of x of x of x of x of x of x of x of x of x of x of x of x of x of x of x of x of x of x of x of x of x of x of x of x of x of x of x of x of x of x of x of x of x of x of x of x of x of x of x of x of x of x of x of x of x of x of x of x of x of x of x of x of x of x of x of x of x of x of x of x of x of x of x of x of x of x of x of x of x of x of x of x of x of x of x of x of x of x of x of x of x of x of x of x of x of x of x of x of x of x of x of x of x of x of x of x of x of x of x of x of x of x of x of x of x of x of x of x of x of x of x of x of x of x of x of x of x of x of x of x of x of x of x of x of x of x of x of x of x of x of x of x of x of x of x of x of x of x of x of x of x of x of x of x of x of x of x of x of x of x of x of x of x of x of x of x of x of x of x of x of x of x of x of x of x of x of x of x of x of x of x of x of x of x of x of x of x of x of x of x of x of x of x of x of x of x of x of x of x of x of x of x of x of x of x of x of x of x of x of x of x of x of x of x of x of x of x of x of x of x of x of x of x of x of x of x of x of x of x of x of x of x of x of x of x of x of x of x of x of x of x of x of x of x of x of x of x of x of x of x of x of x of x of x of x of x of x of x of x of x of x of x of x of x of x of x of x of x of x of x of x of x of x of x of x of x of x of x of x of x of x of x of x of x of x of x of x of x of x of x of x of x of x of x of x of x of x of x of x of x of x of x of x of x of x of x of x of x of x of x of x of x of x of x of x of x of x of x of x of x of x of x of x of x of x of x of x of x of x of x of x of x of x of x of x of x of x of x of x of x of x of x of x of x of x of x of x of x of x of x of x of x of x of x of x of x of x of x of x of x of x of x of x of x of x of x of x of x of x of x of x of x of x of x of x of x of x of x of x of x of x of x of x of x of x of x of x of x of x of x of x of x of x of x of x of x of x of x of x of x of x of x of x of x of x of x of x of x of x of x of x of x of x of x of x of x of x of x of x of x of x of x of x of x of x of x of x of x of x of x of x of x of x of x of x of x of x of x of x of x of x of x of x of x of x of x of x of x of x of x of x of x of x of x of x of x of x of x of x of x of x of x of x of x of x of x of x of x of x of x of x of x of x of x of x of x of x of x of x of x of x of x of x of x of x of x of x of x of x of x of x of x of x of x of x of x of x of x of x of x of x of x of x of x of x of x of x of x of x of x of x of x of x of x of x of x of x of x of x of x of x of x of x of x of x of x of x of x of x of x of x of x of x of x of x of x of x of x of x of x of x of x of x of x of x of x of x of x of x of x of x of x of x of x of x of x of x of x of x of x of x of x of x of x of x of x of x of x of x of x of x of x of x of x of x of x of x of x of x of x of x of x of x of x of x of x of x of x of x of x of x of x of x of x of x of x of x of x of x of x of x of x of x of x of x of x of x of x of x of x of x of x of x of x of x of x of x of x of x of x of x of x of x of x of x of x of x of x of x of x of x of x of x of x of x of x of x of x of x of x of x of x of x of x of x of x of x of x of x of x of x of x of x of x of x of x of x of x of x of x of x of x of x of x of x of x of x of x of x of x of x of x of x of x of x of x of x of x of x of x of x of x of x of x of x of x of x of x of x of x of x of x of x of x of x of x of x of x of x of x of x of x of x of x of x of x of x of x of x of x of x of x of x of x of x of x of x of x of x of x of x of x of x of x of x of x of x of x of x of x of x of x of x of x of x of x of x of x of x of x of x of x of x of x of x of x of x of x of x of x of x of x of x of x of x of x of x of x of x of x of x of x of x of x of x of x of x of x of x of x of x of x of x of x of x of x of x of x of x of x of x of x of x of x of x of x of x of x of x of x of x of x of x of x of x of x of x of x of x of x of x of x of x of x of x of x of x of x of x of x of x of x of x of x of x of x of x of x of x of x of x of x of x of x of x of x of x of x of x of x of x of x of x of x of x of x of x of x of x of x of x of x of x of x of x of x of x of x of x of x of x of x of x of x of x of x of x of x of x of x of x of x of x of x of x of x of x of x of x of x of x of x of x of x of x of x of x of x of x of x of x of x of x of x of x of x of x of x of x of x of x of x of x of x of x of x of x of x of x of x of x of x of x of x of x of x of x of x of x of x of x of x of x of x of x of x of x of x of x of x of x of x of x of x of x of x of x of x of x of x of x of x of x of x of x of x of x of x of x of x of x of x of x of x of x of x of x of x of x of x of x of x of x of x of x of x of x of x of x of x of x of x of x of x of x of x of x of x of x of x of x of x of x of x of x of x of x of x of x of x of x of x of x of x of x of x of x of x of x of x of x of x of x of x of x of x of x of x of x of x of x of x of x of x of x of x of x of x of x of x of x of x of x of x of x of x of x of x of x of x of x of x of x of x of x of x of x of x of x of x of x of x of x of x of x of x of x of x of x of x of x of x of x of x of x of x of x of x of x of x of x of x of x of x of x of x of x of x of x of x of x of x of x of x of x of x of x of x of x of x of x of x of x of x of x of x of x of x of x of x of x of x of x of x of x of x of x of x of x of x of x of x of x of x of x of x of x of x of x of x of x of x of x of x of x of x of x of x of x of x of x of x of x of x of x of x of x of x of x of x of x of x of x of x of x of x of x of x of x of x of x of x of x of x of x of x of x of x of x of x of x of x of x of x of x of x of x of x of x of x of x of x of x of x of x of x of x of x of x of x of x of x of x of x of x of x of x of x of x of x of x of x of x of x of x of x of x of x of x of x of x of x of x of x of x of x of x of x of x of x of x of x of x of x of x of x of x of x of x of x of x of x of x of x of x of x of x of x of x of x of x of x of x of x of x of x of x of x of x of x of x of x of x of x of x of x of x of x of x of x of x of x of x of x of x of x of x of x of x of x of x of x of x of x of x of x of x of x of x of x of x of x of x of x of x of x of x of x of x of x of x of x of x of x of x of x of x of x of x of x of x of x of x of x of x of x of x of x of x of x of x of x of x of x of x of x of x of x of x of x of x of x of x of x of x of x of x of x of x of x of x of x of x of x of x of x of x of x of x of x of x of x of x of x of x of x of x of x of x of x of x of x of x of x of x of x of x of x of x of x of x of x of x of x of x of x of x of x of x of x of x of x of x of x of x of x of x of x of x of x of x of x of x of x of x of x of x of x of x of x of x of x of x of x of x of x of x of x of x of x of x of x of x of x of x of x of x of x of x of x of x of x of x of x of x of x of x of x of x of x of x of x of x of x of x of x of x of x of x of x of x of x of x of x of x of x of x of x of x of x of x of x of x of x of x of x of x of x of x of x of x of x of x of x of x of x of x of x of x of x of x of x of x of x of x of x of x of x of x of x of x of x of x of x of x of x of x of x of x of x of x of x of x of x of x of x of x of x of x of x of x of x of x of x of x of x of x of x of x of x of x of x of x of x of x of x of x of x of x of x of x of x of x of x of x of x of x of x of x of x of x of x of x of x of x of x of x of x of x of x of x of x of x of x of x of x of x of x of x of x of x of x of x of x of x of x of x of x of x of x of x of x of x of x of x of x of x of x of x of x of x of x of x of x of x of x of x of x of x of x of x of x of x of x of x of x of x of x of x of x of x of x of x of x of x of x of x of x of x of x of x of x of x of x of x of x of x of x of x of x of x of x of x of x of x of x of x of x of x of x of x of x of x of x of x of x of x of x of x of x of x of x of x of x of x of x of x of x of x of x of x of x of x of x of x of x of x of x of x of x of x of x of x of x of x of x of x of x of x of x of x of x of x of x of x of x of x of x of x of x of x of x of x of x of x of x of x of x of x of x of x of x of x of x of x of x of x of x of x of x of x of x of x of x of x of x of x of x of x of x of x of x of x of x of x of x of x of x of x of x of x of x of x of x of x of x of x of x of x of x of x of x of x of x of x of x of x of x of x of x of x of x of x of x of x of x of x of x of x of x of x of x of x of x of x of x of x of x of x of x of x of x of x of x of x of x of x of x of x of x of x of x of x of x of x of x of x of x of x of x of x of x of x of x of x of x of x of x of x of x of x of x of x of x of x of x of x of x of x of x of x of x of x of x of x of x of x of x of x of x of x of x of x of x of x of x of x of x of x of x of x of x of x of x of x of x of x of x of x of x of x of x of x of x of x of x of x of x of x of x of x of x of x of x of x of x of x of x of x of x of x of x of x of x of x of x of x of x of x of x of x of x of x of x of x of x of x of x of x of x of x of x of x of x of x of x of x of x of x of x of x of x of x of x of x of x of x of x of x of x of x of x of x of x of x of x of x of x of x of x of x of x of x of x of x of x of x of x of x of x of x of x of x of x of x of x of x of x of x of x of x of x of x of x of x of x of x of x of x of x of x of x of x of x of x of x of x of x of x of x of x of x of x of x of x of x of x of x of x of x of x of x of x of x of x of x of x of x of x of x of x of x of x of x of x of x of x of x of x of x of x of x of x of x of x of x of x of x of x of x of x of x of x of x\n",
      "\n",
      "['E.g.', 'could', 'you', 'be', 'infected', 'by', 'COVID-19', 'as', 'well', 'as', 'a', 'different', 'strand', 'of', 'coronaviruses', '(e.g.', 'those', 'that', 'circulate', 'in', 'the', 'population', 'every', 'flu', 'season)?']\n",
      "well the determined determined determined determined determined determined determined determined determined determined determined determined determined determined determined determined determined determined determined determined determined determined determined determined determined determined determined determined determined determined determined determined determined determined determined determined determined determined determined determined determined determined determined determined determined determined determined determined determined determined determined determined determined determined determined determined determined determined determined determined determined determined determined determined determined determined determined determined determined determined determined determined determined determined determined determined determined determined determined determined determined determined determined determined determined determined determined determined determined determined determined determined determined determined determined determined determined determined determined determined determined determined determined determined determined determined determined determined determined determined determined determined determined determined determined determined determined determined determined determined determined determined determined determined determined determined determined determined determined determined determined determined determined determined determined determined determined determined determined determined determined determined determined determined determined determined determined determined determined determined determined determined determined determined determined determined determined determined determined determined determined determined determined determined determined determined determined determined determined determined determined determined determined determined determined determined determined determined determined determined determined determined determined determined determined determined determined determined determined determined determined determined determined determined determined determined determined determined determined determined determined determined determined determined determined determined determined determined determined determined determined determined determined determined determined determined determined determined determined determined determined determined determined determined determined determined determined determined determined determined determined determined determined determined determined determined determined determined determined determined determined determined determined determined determined determined determined determined determined determined determined determined determined determined determined determined determined determined determined determined determined determined determined determined determined determined determined determined determined determined determined determined determined determined determined determined determined determined determined determined determined determined determined determined determined determined determined determined determined determined determined determined determined determined determined determined determined determined determined determined determined determined determined determined determined determined determined determined determined determined determined determined determined determined determined determined determined determined determined determined determined determined determined determined determined determined determined determined determined determined determined determined determined determined determined determined determined determined determined determined determined determined determined determined determined determined determined determined determined determined determined determined determined determined determined determined determined determined determined determined determined determined determined determined determined determined determined determined determined determined determined determined determined determined determined determined determined determined determined determined determined determined determined determined determined determined determined determined determined determined determined determined determined determined determined determined determined determined determined determined determined determined determined determined determined determined determined determined determined determined determined determined determined determined determined determined determined determined determined determined determined determined determined determined determined determined determined determined determined determined determined determined determined determined determined determined determined determined determined determined determined determined determined determined determined determined determined determined determined determined determined determined determined determined determined determined determined determined determined determined determined determined determined determined determined determined determined determined determined determined determined determined determined determined determined determined determined determined determined determined determined determined determined determined determined determined determined determined determined determined determined determined determined determined determined determined determined determined determined determined determined determined determined determined determined determined determined determined determined determined determined determined determined determined determined determined determined determined determined determined determined determined determined determined determined determined determined determined determined determined determined determined determined determined determined determined determined determined determined determined determined determined determined determined determined determined determined determined determined determined determined determined determined determined determined determined determined determined determined determined determined determined determined determined determined determined determined determined determined determined determined determined determined determined determined determined determined determined determined determined determined determined determined determined determined determined determined determined determined determined determined determined determined determined determined determined determined determined determined determined determined determined determined determined determined determined determined determined determined determined determined determined determined determined determined determined determined determined determined determined determined determined determined determined determined determined determined determined determined determined determined determined determined determined determined determined determined determined determined determined determined determined determined determined determined determined determined determined determined determined determined determined determined determined determined determined determined determined determined determined determined determined determined determined determined determined determined determined determined determined determined determined determined determined determined determined determined determined determined determined determined determined determined determined determined determined determined determined determined determined determined determined determined determined determined determined determined determined determined determined determined determined determined determined determined determined determined determined determined determined determined determined determined determined determined determined determined determined determined determined determined determined determined determined determined determined determined determined determined determined determined determined determined determined determined determined determined determined determined determined determined determined determined determined determined determined determined determined determined determined determined determined determined determined determined determined determined determined determined determined determined determined determined determined determined determined determined determined determined determined determined determined determined determined determined determined determined determined determined determined determined determined determined determined determined determined determined determined determined determined determined determined determined determined determined determined determined determined determined determined determined determined determined determined determined determined determined determined determined determined determined determined determined determined determined determined determined determined determined determined determined determined determined determined determined determined determined determined determined determined determined determined determined determined determined determined determined determined determined determined determined determined determined determined determined determined determined determined determined determined determined determined determined determined determined determined determined determined determined determined determined determined determined determined determined determined determined determined determined determined determined determined determined determined determined determined determined determined determined determined determined determined determined determined determined determined determined determined determined determined determined determined determined determined determined determined determined determined determined determined determined determined determined determined determined determined determined determined determined determined determined determined determined determined determined determined determined determined determined determined determined determined determined determined determined determined determined determined determined determined determined determined determined determined determined determined determined determined determined determined determined determined determined determined determined determined determined determined determined determined determined determined determined determined determined determined determined determined determined determined determined determined determined determined determined determined determined determined determined determined determined determined determined determined determined determined determined determined determined determined determined determined determined determined determined determined determined determined determined determined determined determined determined determined determined determined determined determined determined determined determined determined determined determined determined determined determined determined determined determined determined determined determined determined determined determined determined determined determined determined determined determined determined determined determined determined determined determined determined determined determined determined determined determined determined determined determined determined determined determined determined determined determined determined determined determined determined determined determined determined determined determined determined determined determined determined determined determined determined determined determined determined determined determined determined determined determined determined determined determined determined determined determined determined determined determined determined determined determined determined determined determined determined determined determined determined determined determined determined determined determined determined determined determined determined determined determined determined determined determined determined determined determined determined determined determined determined determined determined determined determined determined determined determined determined determined determined determined determined determined determined determined determined determined determined determined determined determined determined determined determined determined determined determined determined determined determined determined determined determined determined determined determined determined determined determined determined determined determined determined determined determined determined determined determined determined determined determined determined determined determined determined determined determined determined determined determined determined determined determined determined determined determined determined determined determined determined determined determined determined determined determined determined determined determined determined determined determined determined determined determined determined determined determined determined determined determined determined determined determined determined determined determined determined determined determined determined determined determined determined determined determined determined determined determined determined determined determined determined determined determined determined determined determined determined determined determined determined determined determined determined determined determined determined determined determined determined determined determined determined determined determined determined determined determined determined determined determined determined determined determined determined determined determined determined determined determined determined determined determined determined determined determined determined determined determined determined determined determined determined determined determined determined determined determined determined determined determined determined determined determined determined determined determined determined determined determined determined determined determined determined determined determined determined determined determined determined determined determined determined determined determined determined determined determined determined determined determined determined determined determined determined determined determined determined determined determined determined determined determined determined determined determined determined determined determined determined determined determined determined determined determined determined determined determined determined determined determined determined determined determined determined determined determined determined determined determined determined determined determined determined determined determined determined determined determined determined determined determined determined determined determined determined determined determined determined determined determined determined determined determined determined determined determined determined determined determined determined determined determined determined determined determined determined determined determined determined determined determined determined determined determined determined determined determined determined determined determined determined determined determined determined determined determined determined determined determined determined determined determined determined determined determined determined determined determined determined determined determined determined determined determined determined determined determined determined determined determined determined determined determined determined determined determined determined determined determined determined determined determined determined determined determined determined determined determined determined determined determined determined determined determined determined determined determined determined determined determined determined determined determined determined determined determined determined determined determined determined determined determined determined determined determined determined determined determined determined determined determined determined determined determined determined determined determined determined determined determined determined determined determined determined determined determined determined determined determined determined determined determined determined determined determined determined determined determined determined determined determined determined determined determined determined determined determined determined determined determined determined determined determined determined determined determined determined determined determined determined determined determined determined determined determined determined determined determined determined determined determined determined determined determined determined determined determined determined determined determined determined determined determined determined determined determined determined determined determined determined determined determined determined determined determined determined determined determined determined determined determined determined determined determined determined determined determined determined determined determined determined determined determined determined determined determined determined determined determined determined determined determined determined determined determined determined determined determined determined determined determined determined determined determined determined determined determined determined determined determined determined determined determined determined determined determined determined determined determined determined determined determined determined determined determined determined determined determined determined determined determined determined determined determined determined determined determined determined determined determined determined determined determined determined determined determined determined determined determined determined determined determined determined determined determined determined determined determined determined determined determined determined determined determined determined determined determined determined determined determined determined determined determined determined determined determined determined determined determined determined determined determined determined determined determined determined determined determined determined determined determined determined determined determined determined determined determined determined determined determined determined determined determined determined determined determined determined determined determined determined determined determined determined determined determined determined determined determined determined determined determined determined determined determined determined determined determined determined determined determined determined determined determined determined determined determined determined determined determined determined determined determined determined determined determined determined determined determined determined determined determined determined determined determined determined determined determined determined determined determined determined determined determined determined determined determined determined determined determined determined determined determined determined determined determined determined determined determined determined determined determined determined determined determined determined determined determined determined determined determined determined determined determined determined determined determined determined determined determined determined determined determined determined determined determined determined determined determined determined determined determined determined determined determined determined determined determined determined determined determined determined determined determined determined determined determined determined determined determined determined determined determined determined determined determined determined determined determined determined determined determined determined determined determined determined determined determined determined determined determined determined determined determined determined determined determined determined determined determined determined determined determined determined determined determined determined determined determined determined determined determined determined determined determined determined determined determined determined determined determined determined determined determined determined determined determined determined determined determined determined determined determined determined determined determined determined determined determined determined determined determined determined determined determined determined determined determined determined determined determined determined determined determined determined determined determined determined determined determined determined determined determined determined determined determined determined determined determined determined determined determined determined determined determined determined determined determined determined determined determined determined determined determined determined determined determined determined determined determined determined determined determined determined determined determined determined determined determined determined determined determined determined determined determined determined determined determined determined determined determined determined determined determined determined determined determined determined determined determined determined determined determined determined determined determined determined determined determined determined determined determined determined determined determined determined determined determined determined determined determined determined determined determined determined determined determined determined determined determined determined determined determined determined determined determined determined determined determined determined determined determined determined determined determined determined determined determined determined determined determined determined determined determined determined determined determined determined determined determined determined determined determined determined determined determined determined determined determined determined determined determined determined determined determined determined determined determined determined determined determined determined determined determined determined determined determined determined determined determined determined determined determined determined determined determined determined determined determined determined determined determined determined determined determined determined determined determined determined determined determined determined determined determined determined determined determined determined determined determined determined determined determined determined determined determined determined determined determined determined determined determined determined determined determined determined determined determined determined determined determined determined determined determined determined determined determined determined determined determined determined determined determined determined determined determined determined determined determined determined determined determined determined determined determined determined determined determined determined determined determined determined determined determined determined determined determined determined determined determined determined determined determined determined determined determined determined determined determined determined determined determined determined determined determined determined determined determined determined determined determined determined determined determined determined determined determined determined determined determined determined determined determined determined determined determined determined determined determined determined determined determined determined determined determined determined determined determined determined determined determined determined determined determined determined determined determined determined determined determined determined determined determined determined determined determined determined determined determined determined determined determined determined determined determined determined determined determined determined determined determined determined determined determined determined determined determined determined determined determined determined determined determined determined determined determined determined determined determined determined determined determined determined determined determined determined determined determined determined determined determined determined determined determined determined determined determined determined determined determined determined determined determined determined determined determined determined determined determined determined determined determined determined determined determined determined determined determined determined determined determined determined determined determined determined determined determined determined determined determined determined determined determined determined determined determined determined determined determined determined determined determined determined determined determined determined determined determined determined determined determined determined determined determined determined determined determined determined determined determined determined determined determined determined determined determined determined determined determined determined determined determined determined determined determined determined determined determined determined determined determined determined determined determined determined determined determined determined determined determined determined determined determined determined determined determined determined determined determined determined determined determined determined determined determined determined determined determined determined determined determined determined determined determined determined determined determined determined determined determined determined determined determined determined determined determined determined determined determined determined determined determined determined determined determined determined determined determined determined determined determined determined determined determined determined determined determined determined determined determined determined determined determined determined determined determined determined determined determined determined determined determined determined determined determined determined determined determined determined determined determined determined determined determined determined determined determined determined determined determined determined determined determined determined determined determined determined determined determined determined determined determined determined determined determined determined determined determined determined determined determined determined determined determined determined determined determined determined determined determined determined determined determined determined determined determined determined determined determined determined determined determined determined determined determined determined determined determined determined determined determined determined determined determined determined determined determined determined determined determined determined determined determined determined determined determined determined determined determined determined determined determined determined determined determined determined determined determined determined determined determined determined determined determined determined determined determined determined determined determined determined determined determined determined determined determined determined determined determined determined determined determined determined determined determined determined determined determined determined determined determined determined determined determined determined determined determined determined determined determined determined determined determined determined determined determined determined determined determined determined determined determined determined determined determined determined determined determined determined determined determined determined determined determined determined determined determined determined determined determined determined determined determined determined determined determined determined determined determined determined determined determined determined determined determined determined determined determined determined determined determined determined determined determined determined determined determined determined determined determined determined determined determined determined determined determined determined determined determined determined determined determined determined determined determined determined determined determined determined determined determined determined determined determined determined determined determined determined determined determined determined determined determined determined determined determined determined determined determined determined determined determined determined determined determined determined determined determined determined determined determined determined determined determined determined determined determined determined determined determined determined determined determined determined determined determined determined determined determined determined determined determined determined determined determined determined determined determined determined determined determined determined determined determined determined determined determined determined determined determined determined determined determined determined determined determined determined determined determined determined determined determined determined determined determined determined determined determined determined determined determined determined determined determined determined determined determined determined determined determined determined determined determined determined determined determined determined determined determined determined determined determined determined determined determined determined determined determined determined determined determined determined determined determined determined determined determined determined determined determined determined determined determined determined determined determined determined determined determined determined determined determined determined determined determined determined determined determined determined determined determined determined determined determined determined determined determined determined determined determined determined determined determined determined determined determined determined determined determined determined determined determined determined determined determined determined determined determined determined determined determined determined determined determined determined determined determined determined determined determined determined determined determined determined determined determined determined determined determined determined determined determined determined determined determined determined determined determined determined determined determined determined determined determined determined determined determined determined determined determined determined determined determined determined determined determined determined determined determined determined determined determined determined determined determined determined determined determined determined determined determined determined determined determined determined determined determined determined determined determined determined determined determined determined determined determined determined determined determined determined determined determined determined determined determined determined determined determined determined determined determined determined determined determined determined determined determined determined determined determined determined determined determined determined determined determined determined determined determined determined determined determined determined determined determined determined determined determined determined determined determined determined determined determined determined determined determined determined determined determined determined determined determined determined determined determined determined determined determined determined determined determined determined determined determined determined determined determined determined determined determined determined determined determined determined determined determined determined determined determined determined determined determined determined determined determined determined determined determined determined determined determined determined determined determined determined determined determined determined determined determined determined determined determined determined determined determined determined determined determined determined determined determined determined determined determined determined determined determined determined determined determined determined determined determined determined determined determined determined determined determined determined determined determined determined determined determined determined determined determined determined determined determined determined determined determined determined determined determined determined determined determined determined determined determined determined determined determined determined determined determined determined determined determined determined determined determined determined determined determined determined determined determined determined determined determined determined determined determined determined determined determined determined determined determined determined determined determined determined determined determined determined determined determined determined determined determined determined determined determined determined determined determined determined determined determined determined determined determined determined determined determined determined determined determined determined determined determined determined determined determined determined determined determined determined determined determined determined determined determined determined determined determined determined determined determined determined determined determined determined determined determined determined determined determined determined determined determined determined determined determined determined determined determined determined determined determined determined determined determined determined determined determined determined determined determined determined determined determined determined determined determined determined determined determined determined determined determined determined determined determined determined determined determined determined determined determined determined determined determined determined determined determined determined determined determined determined determined determined determined determined determined determined determined determined determined determined determined determined determined determined determined determined determined determined determined determined determined determined determined determined determined determined determined determined determined determined determined determined determined determined determined determined determined determined determined determined determined determined determined determined determined determined determined determined determined determined determined determined determined determined determined determined determined determined determined determined determined determined determined determined determined determined determined determined determined determined determined determined determined determined determined determined determined determined determined determined determined determined determined determined determined determined determined determined determined determined determined determined determined determined determined determined determined determined determined determined determined determined determined determined determined determined determined determined determined determined determined determined determined determined determined determined determined determined determined determined determined determined determined determined determined determined determined determined determined determined determined determined determined determined determined determined determined determined determined determined determined determined determined determined determined determined determined determined determined determined determined determined determined determined determined determined determined determined determined determined determined determined determined determined determined determined determined determined determined determined determined determined determined determined determined determined determined determined determined determined determined determined determined determined determined determined determined determined determined determined determined determined determined determined determined determined determined determined determined determined determined determined determined determined determined determined determined determined determined determined determined determined determined determined determined determined determined determined determined determined determined determined determined determined determined determined determined determined determined determined determined determined determined determined determined determined determined determined determined determined determined determined determined determined determined determined determined determined determined determined determined determined determined determined determined determined determined determined determined determined determined determined determined determined determined determined determined determined determined determined determined determined determined determined determined determined determined determined determined determined determined determined determined determined determined determined determined determined determined determined determined determined determined determined determined determined determined determined determined determined determined determined determined determined determined determined determined determined determined determined determined determined determined determined determined determined determined determined determined determined determined determined determined determined determined determined determined determined determined determined determined determined determined determined determined determined determined determined determined determined determined determined determined determined determined determined determined determined determined determined determined determined determined determined determined determined determined determined determined determined determined determined determined determined determined determined determined determined determined determined determined determined determined determined determined determined determined determined determined determined determined determined determined determined determined determined determined determined determined determined determined determined determined determined determined determined determined determined determined determined determined determined determined determined determined determined determined determined determined determined determined determined determined determined determined determined determined determined determined determined determined determined determined determined determined determined determined determined determined determined determined determined determined determined determined determined determined determined determined determined determined determined determined determined determined determined determined determined determined determined determined determined determined determined determined determined determined determined determined determined determined determined determined determined determined determined determined determined determined determined determined determined determined determined determined determined determined determined determined determined determined determined determined determined determined determined determined determined determined determined determined determined determined determined determined determined determined determined determined determined determined determined determined determined determined determined determined determined determined determined determined determined determined determined determined determined determined determined determined determined determined determined determined determined determined determined determined determined determined determined determined determined determined determined determined determined determined determined determined determined determined determined determined determined determined determined determined determined determined determined determined determined determined determined determined determined determined determined determined determined determined determined determined determined determined determined determined determined determined determined determined determined determined determined determined determined determined determined determined determined determined determined determined determined determined determined determined determined determined determined determined determined determined determined determined determined determined determined determined determined determined determined determined determined determined determined determined determined determined determined determined determined determined determined determined determined determined determined determined determined determined determined determined determined determined determined determined determined determined determined determined determined determined determined determined determined determined determined determined determined determined determined determined determined determined determined determined determined determined determined determined determined determined determined determined determined determined determined determined determined determined determined determined determined determined determined determined determined determined determined determined determined determined determined determined determined determined determined determined determined determined determined determined determined determined determined determined determined determined determined determined determined determined determined determined determined determined determined determined determined determined determined determined determined determined determined determined determined determined determined determined determined determined determined determined determined determined determined determined determined determined determined determined determined determined determined determined determined determined determined determined determined determined determined determined determined determined determined determined determined determined determined determined determined determined determined determined determined determined determined determined determined determined determined determined determined determined determined determined determined determined determined determined determined determined determined determined determined determined determined determined determined determined determined determined determined determined determined determined determined determined determined determined determined determined determined determined determined determined determined determined determined determined determined determined determined determined determined determined determined determined determined determined determined determined determined determined determined determined determined determined determined determined determined determined determined determined determined determined determined determined determined determined determined determined determined determined determined determined determined determined determined determined determined determined determined determined determined determined determined determined determined determined determined determined determined determined determined determined determined determined determined determined determined determined determined determined determined determined determined determined determined determined determined determined determined determined determined determined determined determined determined determined determined determined determined determined determined determined determined determined determined determined determined determined determined determined determined determined determined determined determined determined determined determined determined determined determined determined determined determined determined determined determined determined determined determined determined determined determined determined determined determined determined determined determined determined determined determined determined determined determined determined determined determined determined determined determined determined determined determined determined determined determined determined determined determined determined determined determined determined determined determined determined determined determined determined determined determined determined determined determined determined determined determined determined determined determined determined determined determined determined determined determined determined determined determined determined determined determined determined determined determined determined determined determined determined determined determined determined determined determined determined determined determined determined determined determined determined determined determined determined determined determined determined determined determined determined determined determined determined determined determined determined determined determined determined determined determined determined determined determined determined determined determined determined determined determined determined determined determined determined determined determined determined determined determined determined determined determined determined determined determined determined determined determined determined determined determined determined determined determined determined determined determined determined determined determined determined determined determined determined determined determined determined determined determined determined determined determined determined determined determined determined determined determined determined determined determined determined determined determined determined determined determined determined determined determined determined determined determined determined determined determined determined determined determined determined determined determined determined determined determined determined determined determined determined determined determined determined determined determined determined determined determined determined determined determined determined determined determined determined determined determined determined determined determined determined determined determined determined determined determined determined determined determined determined determined determined determined determined determined determined determined determined determined determined determined determined determined determined determined determined determined determined determined determined determined determined determined determined determined determined determined determined determined determined determined determined determined determined determined determined determined determined determined determined determined determined determined determined determined determined determined determined determined determined determined determined determined determined determined determined determined determined determined determined determined determined determined determined determined determined determined determined determined determined determined determined determined determined determined determined determined determined determined determined determined determined determined determined determined determined determined determined determined determined determined determined determined determined determined determined determined determined determined determined determined determined determined determined determined determined determined determined determined determined determined determined determined determined determined determined determined determined determined determined determined determined determined determined determined determined determined determined determined determined determined determined determined determined determined determined determined determined determined determined determined determined determined determined determined determined determined determined determined determined determined determined determined determined determined determined determined determined determined determined determined determined determined determined determined determined determined determined determined determined determined determined determined determined determined determined determined determined determined determined determined determined determined determined determined determined determined determined determined determined determined determined determined determined determined determined determined determined determined determined determined determined determined determined determined determined determined determined determined determined determined determined determined determined determined determined determined determined determined determined determined determined determined determined determined determined determined determined determined determined determined determined determined determined determined determined determined determined determined determined determined determined determined determined determined determined determined determined determined determined determined determined determined determined determined determined determined determined determined determined determined determined determined determined determined determined determined determined determined determined determined determined determined determined determined determined determined determined determined determined determined determined determined determined determined determined determined determined determined determined determined determined determined determined determined determined determined determined determined determined determined determined determined determined determined determined determined determined determined determined determined determined determined determined determined determined determined determined determined determined determined determined determined determined determined determined determined determined determined determined determined determined determined determined determined determined determined determined determined determined determined determined determined determined determined determined determined determined determined determined determined determined determined determined determined determined determined determined determined determined determined determined determined determined determined determined determined determined determined determined determined determined determined determined determined determined determined determined determined determined determined determined determined determined determined determined determined determined determined determined determined determined determined determined determined determined determined determined determined determined determined determined determined determined determined determined determined determined determined determined determined determined determined determined determined determined determined determined determined determined determined determined determined determined determined determined determined determined determined determined determined determined determined determined determined determined determined determined determined determined determined determined determined determined determined determined determined determined determined determined determined determined determined determined determined determined determined determined determined determined determined determined determined determined determined determined determined determined determined determined determined determined determined determined determined determined determined determined determined determined determined determined determined determined determined determined determined determined determined determined determined determined determined determined determined determined determined determined determined determined determined determined determined determined determined determined determined determined determined determined determined determined determined determined determined determined determined determined determined determined determined determined determined determined determined determined determined determined determined determined determined determined determined determined determined determined determined determined determined determined determined determined determined determined determined determined determined determined determined determined determined determined determined determined determined determined determined determined determined determined determined determined determined determined determined determined determined determined determined determined determined determined determined determined determined determined determined determined determined determined determined determined determined determined determined determined determined determined determined determined determined determined determined determined determined determined determined determined determined determined determined determined determined determined determined determined determined determined determined determined determined determined determined determined determined determined determined determined determined determined determined determined determined determined determined determined determined determined determined determined determined determined determined determined determined determined determined determined determined determined determined determined determined determined determined determined determined determined determined determined determined determined determined determined determined determined determined\n",
      "\n",
      "['Lombardy,', 'a', 'region', 'of', 'Italy,', 'registered', 'many', 'severe', 'cases', 'of', 'COVID-19', 'in', 'the', 'last', 'few', 'months.', 'Unfortunately', 'the', 'available', 'data', \"don't\", 'allow', 'us', 'to', 'estimate', 'the', 'percentage', 'P', 'of', 'people', 'who', 'contracted', 'the', 'virus', 'in', 'Lombardy', '(please', \"don't\", 'dispute', 'this,', 'but', 'take', 'it', 'as', 'an', 'assumption).', 'Now,', 'suppose', 'we', 'have', 'a', 'medical', 'test', 'that', 'says', 'wether', 'a', 'person', 'contracted', 'the', 'virus', 'or', 'not', '(EDIT:', \"let's\", 'assume', 'that', 'the', 'test', 'always', 'gives', 'the', 'correct', 'answer).', 'How', 'many', 'people', 'should', 'we', 'test', 'to', 'estimate', 'P', 'with', 'sufficiently', 'small', 'error?', 'Data', 'are:', '10', 'million', 'people', 'live', 'in', 'Lombardy.', 'P', 'can', 'be', 'assumed', 'to', 'be', 'at', 'least', '4', '%.', 'No', 'assumption', 'can', 'be', 'made', 'about', 'the', 'uniform', 'distribution', 'of', 'P,', 'neither', 'geographically,', 'nor', 'by', 'age,', 'gender', 'or', 'whatever.', 'A', 'satisfactory', 'error', 'percent', 'on', 'P', 'would', 'be', '25%.', 'A', 'related', 'question', 'is:', 'how', 'could', 'we', 'confirm', 'the', 'estimated', 'error', 'on', 'P', 'once', 'we', 'have', 'the', 'data?', 'For', 'example,', 'could', 'we', 'bootstrap', 'the', 'data?', 'Thanks']\n",
      "lot z z z z z z z z z z z z z z z z z z z z z z z z z z z z z z z z z z z z z z z z z z z z z z z z z z z z z z z z z z z z z z z z z z z z z z z z z z z z z z z z z z z z z z z z z z z z z z z z z z z z z z z z z z z z z z z z z z z z z z z z z z z z z z z z z z z z z z z z z z z z z z z z z z z z z z z z z z z z z z z z z z z z z z z z z z z z z z z z z z z z z z z z z z z z z z z z z z z z z z z z z z z z z z z z z z z z z z z z z z z z z z z z z z z z z z z z z z z z z z z z z z z z z z z z z z z z z z z z z z z z z z z z z z z z z z z z z z z z z z z z z z z z z z z z z z z z z z z z z z z z z z z z z z z z z z z z z z z z z z z z z z z z z z z z z z z z z z z z z z z z z z z z z z z z z z z z z z z z z z z z z z z z z z z z z z z z z z z z z z z z z z z z z z z z z z z z z z z z z z z z z z z z z z z z z z z z z z z z z z z z z z z z z z z z z z z z z z z z z z z z z z z z z z z z z z z z z z z z z z z z z z z z z z z z z z z z z z z z z z z z z z z z z z z z z z z z z z z z z z z z z z z z z z z z z z z z z z z z z z z z z z z z z z z z z z z z z z z z z z z z z z z z z z z z z z z z z z z z z z z z z z z z z z z z z z z z z z z z z z z z z z z z z z z z z z z z z z z z z z z z z z z z z z z z z z z z z z z z z z z z z z z z z z z z z z z z z z z z z z z z z z z z z z z z z z z z z z z z z z z z z z z z z z z z z z z z z z z z z z z z z z z z z z z z z z z z z z z z z z z z z z z z z z z z z z z z z z z z z z z z z z z z z z z z z z z z z z z z z z z z z z z z z z z z z z z z z z z z z z z z z z z z z z z z z z z z z z z z z z z z z z z z z z z z z z z z z z z z z z z z z z z z z z z z z z z z z z z z z z z z z z z z z z z z z z z z z z z z z z z z z z z z z z z z z z z z z z z z z z z z z z z z z z z z z z z z z z z z z z z z z z z z z z z z z z z z z z z z z z z z z z z z z z z z z z z z z z z z z z z z z z z z z z z z z z z z z z z z z z z z z z z z z z z z z z z z z z z z z z z z z z z z z z z z z z z z z z z z z z z z z z z z z z z z z z z z z z z z z z z z z z z z z z z z z z z z z z z z z z z z z z z z z z z z z z z z z z z z z z z z z z z z z z z z z z z z z z z z z z z z z z z z z z z z z z z z z z z z z z z z z z z z z z z z z z z z z z z z z z z z z z z z z z z z z z z z z z z z z z z z z z z z z z z z z z z z z z z z z z z z z z z z z z z z z z z z z z z z z z z z z z z z z z z z z z z z z z z z z z z z z z z z z z z z z z z z z z z z z z z z z z z z z z z z z z z z z z z z z z z z z z z z z z z z z z z z z z z z z z z z z z z z z z z z z z z z z z z z z z z z z z z z z z z z z z z z z z z z z z z z z z z z z z z z z z z z z z z z z z z z z z z z z z z z z z z z z z z z z z z z z z z z z z z z z z z z z z z z z z z z z z z z z z z z z z z z z z z z z z z z z z z z z z z z z z z z z z z z z z z z z z z z z z z z z z z z z z z z z z z z z z z z z z z z z z z z z z z z z z z z z z z z z z z z z z z z z z z z z z z z z z z z z z z z z z z z z z z z z z z z z z z z z z z z z z z z z z z z z z z z z z z z z z z z z z z z z z z z z z z z z z z z z z z z z z z z z z z z z z z z z z z z z z z z z z z z z z z z z z z z z z z z z z z z z z z z z z z z z z z z z z z z z z z z z z z z z z z z z z z z z z z z z z z z z z z z z z z z z z z z z z z z z z z z z z z z z z z z z z z z z z z z z z z z z z z z z z z z z z z z z z z z z z z z z z z z z z z z z z z z z z z z z z z z z z z z z z z z z z z z z z z z z z z z z z z z z z z z z z z z z z z z z z z z z z z z z z z z z z z z z z z z z z z z z z z z z z z z z z z z z z z z z z z z z z z z z z z z z z z z z z z z z z z z z z z z z z z z z z z z z z z z z z z z z z z z z z z z z z z z z z z z z z z z z z z z z z z z z z z z z z z z z z z z z z z z z z z z z z z z z z z z z z z z z z z z z z z z z z z z z z z z z z z z z z z z z z z z z z z z z z z z z z z z z z z z z z z z z z z z z z z z z z z z z z z z z z z z z z z z z z z z z z z z z z z z z z z z z z z z z z z z z z z z z z z z z z z z z z z z z z z z z z z z z z z z z z z z z z z z z z z z z z z z z z z z z z z z z z z z z z z z z z z z z z z z z z z z z z z z z z z z z z z z z z z z z z z z z z z z z z z z z z z z z z z z z z z z z z z z z z z z z z z z z z z z z z z z z z z z z z z z z z z z z z z z z z z z z z z z z z z z z z z z z z z z z z z z z z z z z z z z z z z z z z z z z z z z z z z z z z z z z z z z z z z z z z z z z z z z z z z z z z z z z z z z z z z z z z z z z z z z z z z z z z z z z z z z z z z z z z z z z z z z z z z z z z z z z z z z z z z z z z z z z z z z z z z z z z z z z z z z z z z z z z z z z z z z z z z z z z z z z z z z z z z z z z z z z z z z z z z z z z z z z z z z z z z z z z z z z z z z z z z z z z z z z z z z z z z z z z z z z z z z z z z z z z z z z z z z z z z z z z z z z z z z z z z z z z z z z z z z z z z z z z z z z z z z z z z z z z z z z z z z z z z z z z z z z z z z z z z z z z z z z z z z z z z z z z z z z z z z z z z z z z z z z z z z z z z z z z z z z z z z z z z z z z z z z z z z z z z z z z z z z z z z z z z z z z z z z z z z z z z z z z z z z z z z z z z z z z z z z z z z z z z z z z z z z z z z z z z z z z z z z z z z z z z z z z z z z z z z z z z z z z z z z z z z z z z z z z z z z z z z z z z z z z z z z z z z z z z z z z z z z z z z z z z z z z z z z z z z z z z z z z z z z z z z z z z z z z z z z z z z z z z z z z z z z z z z z z z z z z z z z z z z z z z z z z z z z z z z z z z z z z z z z z z z z z z z z z z z z z z z z z z z z z z z z z z z z z z z z z z z z z z z z z z z z z z z z z z z z z z z z z z z z z z z z z z z z z z z z z z z z z z z z z z z z z z z z z z z z z z z z z z z z z z z z z z z z z z z z z z z z z z z z z z z z z z z z z z z z z z z z z z z z z z z z z z z z z z z z z z z z z z z z z z z z z z z z z z z z z z z z z z z z z z z z z z z z z z z z z z z z z z z z z z z z z z z z z z z z z z z z z z z z z z z z z z z z z z z z z z z z z z z z z z z z z z z z z z z z z z z z z z z z z z z z z z z z z z z z z z z z z z z z z z z z z z z z z z z z z z z z z z z z z z z z z z z z z z z z z z z z z z z z z z z z z z z z z z z z z z z z z z z z z z z z z z z z z z z z z z z z z z z z z z z z z z z z z z z z z z z z z z z z z z z z z z z z z z z z z z z z z z z z z z z z z z z z z z z z z z z z z z z z z z z z z z z z z z z z z z z z z z z z z z z z z z z z z z z z z z z z z z z z z z z z z z z z z z z z z z z z z z z z z z z z z z z z z z z z z z z z z z z z z z z z z z z z z z z z z z z z z z z z z z z z z z z z z z z z z z z z z z z z z z z z z z z z z z z z z z z z z z z z z z z z z z z z z z z z z z z z z z z z z z z z z z z z z z z z z z z z z z z z z z z z z z z z z z z z z z z z z z z z z z z z z z z z z z z z z z z z z z z z z z z z z z z z z z z z z z z z z z z z z z z z z z z z z z z z z z z z z z z z z z z z z z z z z z z z z z z z z z z z z z z z z z z z z z z z z z z z z z z z z z z z z z z z z z z z z z z z z z z z z z z z z z z z z z z z z z z z z z z z z z z z z z z z z z z z z z z z z z z z z z z z z z z z z z z z z z z z z z z z z z z z z z z z z z z z z z z z z z z z z z z z z z z z z z z z z z z z z z z z z z z z z z z z z z z z z z z z z z z z z z z z z z z z z z z z z z z z z z z z z z z z z z z z z z z z z z z z z z z z z z z z z z z z z z z z z z z z z z z z z z z z z z z z z z z z z z z z z z z z z z z z z z z z z z z z z z z z z z z z z z z z z z z z z z z z z z z z z z z z z z z z z z z z z z z z z z z z z z z z z z z z z z z z z z z z z z z z z z z z z z z z z z z z z z z z z z z z z z z z z z z z z z z z z z z z z z z z z z z z z z z z z z z z z z z z z z z z z z z z z z z z z z z z z z z z z z z z z z z z z z z z z z z z z z z z z z z z z z z z z z z z z z z z z z z z z z z z z z z z z z z z z z z z z z z z z z z z z z z z z z z z z z z z z z z z z z z z z z z z z z z z z z z z z z z z z z z z z z z z z z z z z z z z z z z z z z z z z z z z z z z z z z z z z z z z z z z z z z z z z z z z z z z z z z z z z z z z z z z z z z z z z z z z z z z z z z z z z z z z z z z z z z z z z z z z z z z z z z z z z z z z z z z z z z z z z z z z z z z z z z z z z z z z z z z z z z z z z z z z z z z z z z z z z z z z z z z z z z z z z z z z z z z z z z z z z z z z z z z z z z z z z z z z z z z z z z z z z z z z z z z z z z z z z z z z z z z z z z z z z z z z z z z z z z z z z z z z z z z z z z z z z z z z z z z z z z z z z z z z z z z z z z z z z z z z z z z z z z z z z z z z z z z z z z z z z z z z z z z z z z z z z z z z z z z z z z z z z z z z z z z z z z z z z z z z z z z z z z z z z z z z z z z z z z z z z z z z z z z z z z z z z z z z z z z z z z z z z z z z z z z z z z z z z z z z z z z z z z z z z z z z z z z z z z z z z z z z z z z z z z z z z z z z z z z z z z z z z z z z z z z z z z z z z z z z z z z z z z z z z z z z z z z z z z z z z z z z z z z z z z z z z z z z z z z z z z z z z z z z z z z z z z z z z z z z z z z z z z z z z z z z z z z z z z z z z z z z z z z z z z z z z z z z z z z z z z z z z z z z z z z z z z z z z z z z z z z z z z z z z z z z z z z z z z z z z z z z z z z z z z z z z z z z z z z z z z z z z z z z z z z z z z z z z z z z z z z z z z z z z z z z z z z z z z z z z z z z z z z z z z z z z z z z z z z z z z z z z z z z z z z z z z z z z z z z z z z z z z z z z z z z z z z z z z z z z z z z z z z z z z z z z z z z z z z z z z z z z z z z z z z z z z z z z z z z z z z z z z z z z z z z z z z z z z z z z z z z z z z z z z z z z z z z z z z z z z z z z z z z z z z z z z z z z z z z z z z z z z z z z z z z z z z z z z z z z z z z z z z z z z z z z z z z z z z z z z z z z z z z z z z z z z z z z z z z z z z z z z z z z z z z z z z z z z z z z z z z z z z z z z z z z z z z z z z z z z z z z z z z z z z z z z z z z z z z z z z z z z z z z z z z z z z z z z z z z z z z z z z z z z z z z z z z z z z z z z z z z z z z z z z z z z z z z z z z z z z z z z z z z z z z z z z z z z z z z z z z z z z z z z z z z z z z z z z z z z z z z z z z z z z z z z z z z z z z z z z z z z z z z z z z z z z z z z z z z z z z z z z z z z z z z z z z z z z z z z z z z z z z z z z z z z z z z z z z z z z z z z z z z z z z z z\n",
      "\n",
      "['What', 'is', 'WHO’s', 'position', 'on', 'the', 'use', 'of', 'chloroquine', 'and', 'hydroxychloroquine', 'in', 'the', 'context', 'of', 'the', 'COVID-19', 'response?']\n",
      "covid-19 notes notes notes notes notes notes notes notes notes notes notes notes notes notes notes notes notes notes notes notes notes notes notes notes notes notes notes notes notes notes notes notes notes notes notes notes notes notes notes notes notes notes notes notes notes notes notes notes notes notes notes notes notes notes notes notes notes notes notes notes notes notes notes notes notes notes notes notes notes notes notes notes notes notes notes notes notes notes notes notes notes notes notes notes notes notes notes notes notes notes notes notes notes notes notes notes notes notes notes notes notes notes notes notes notes notes notes notes notes notes notes notes notes notes notes notes notes notes notes notes notes notes notes notes notes notes notes notes notes notes notes notes notes notes notes notes notes notes notes notes notes notes notes notes notes notes notes notes notes notes notes notes notes notes notes notes notes notes notes notes notes notes notes notes notes notes notes notes notes notes notes notes notes notes notes notes notes notes notes notes notes notes notes notes notes notes notes notes notes notes notes notes notes notes notes notes notes notes notes notes notes notes notes notes notes notes notes notes notes notes notes notes notes notes notes notes notes notes notes notes notes notes notes notes notes notes notes notes notes notes notes notes notes notes notes notes notes notes notes notes notes notes notes notes notes notes notes notes notes notes notes notes notes notes notes notes notes notes notes notes notes notes notes notes notes notes notes notes notes notes notes notes notes notes notes notes notes notes notes notes notes notes notes notes notes notes notes notes notes notes notes notes notes notes notes notes notes notes notes notes notes notes notes notes notes notes notes notes notes notes notes notes notes notes notes notes notes notes notes notes notes notes notes notes notes notes notes notes notes notes notes notes notes notes notes notes notes notes notes notes notes notes notes notes notes notes notes notes notes notes notes notes notes notes notes notes notes notes notes notes notes notes notes notes notes notes notes notes notes notes notes notes notes notes notes notes notes notes notes notes notes notes notes notes notes notes notes notes notes notes notes notes notes notes notes notes notes notes notes notes notes notes notes notes notes notes notes notes notes notes notes notes notes notes notes notes notes notes notes notes notes notes notes notes notes notes notes notes notes notes notes notes notes notes notes notes notes notes notes notes notes notes notes notes notes notes notes notes notes notes notes notes notes notes notes notes notes notes notes notes notes notes notes notes notes notes notes notes notes notes notes notes notes notes notes notes notes notes notes notes notes notes notes notes notes notes notes notes notes notes notes notes notes notes notes notes notes notes notes notes notes notes notes notes notes notes notes notes notes notes notes notes notes notes notes notes notes notes notes notes notes notes notes notes notes notes notes notes notes notes notes notes notes notes notes notes notes notes notes notes notes notes notes notes notes notes notes notes notes notes notes notes notes notes notes notes notes notes notes notes notes notes notes notes notes notes notes notes notes notes notes notes notes notes notes notes notes notes notes notes notes notes notes notes notes notes notes notes notes notes notes notes notes notes notes notes notes notes notes notes notes notes notes notes notes notes notes notes notes notes notes notes notes notes notes notes notes notes notes notes notes notes notes notes notes notes notes notes notes notes notes notes notes notes notes notes notes notes notes notes notes notes notes notes notes notes notes notes notes notes notes notes notes notes notes notes notes notes notes notes notes notes notes notes notes notes notes notes notes notes notes notes notes notes notes notes notes notes notes notes notes notes notes notes notes notes notes notes notes notes notes notes notes notes notes notes notes notes notes notes notes notes notes notes notes notes notes notes notes notes notes notes notes notes notes notes notes notes notes notes notes notes notes notes notes notes notes notes notes notes notes notes notes notes notes notes notes notes notes notes notes notes notes notes notes notes notes notes notes notes notes notes notes notes notes notes notes notes notes notes notes notes notes notes notes notes notes notes notes notes notes notes notes notes notes notes notes notes notes notes notes notes notes notes notes notes notes notes notes notes notes notes notes notes notes notes notes notes notes notes notes notes notes notes notes notes notes notes notes notes notes notes notes notes notes notes notes notes notes notes notes notes notes notes notes notes notes notes notes notes notes notes notes notes notes notes notes notes notes notes notes notes notes notes notes notes notes notes notes notes notes notes notes notes notes notes notes notes notes notes notes notes notes notes notes notes notes notes notes notes notes notes notes notes notes notes notes notes notes notes notes notes notes notes notes notes notes notes notes notes notes notes notes notes notes notes notes notes notes notes notes notes notes notes notes notes notes notes notes notes notes notes notes notes notes notes notes notes notes notes notes notes notes notes notes notes notes notes notes notes notes notes notes notes notes notes notes notes notes notes notes notes notes notes notes notes notes notes notes notes notes notes notes notes notes notes notes notes notes notes notes notes notes notes notes notes notes notes notes notes notes notes notes notes notes notes notes notes notes notes notes notes notes notes notes notes notes notes notes notes notes notes notes notes notes notes notes notes notes notes notes notes notes notes notes notes notes notes notes notes notes notes notes notes notes notes notes notes notes notes notes notes notes notes notes notes notes notes notes notes notes notes notes notes notes notes notes notes notes notes notes notes notes notes notes notes notes notes notes notes notes notes notes notes notes notes notes notes notes notes notes notes notes notes notes notes notes notes notes notes notes notes notes notes notes notes notes notes notes notes notes notes notes notes notes notes notes notes notes notes notes notes notes notes notes notes notes notes notes notes notes notes notes notes notes notes notes notes notes notes notes notes notes notes notes notes notes notes notes notes notes notes notes notes notes notes notes notes notes notes notes notes notes notes notes notes notes notes notes notes notes notes notes notes notes notes notes notes notes notes notes notes notes notes notes notes notes notes notes notes notes notes notes notes notes notes notes notes notes notes notes notes notes notes notes notes notes notes notes notes notes notes notes notes notes notes notes notes notes notes notes notes notes notes notes notes notes notes notes notes notes notes notes notes notes notes notes notes notes notes notes notes notes notes notes notes notes notes notes notes notes notes notes notes notes notes notes notes notes notes notes notes notes notes notes notes notes notes notes notes notes notes notes notes notes notes notes notes notes notes notes notes notes notes notes notes notes notes notes notes notes notes notes notes notes notes notes notes notes notes notes notes notes notes notes notes notes notes notes notes notes notes notes notes notes notes notes notes notes notes notes notes notes notes notes notes notes notes notes notes notes notes notes notes notes notes notes notes notes notes notes notes notes notes notes notes notes notes notes notes notes notes notes notes notes notes notes notes notes notes notes notes notes notes notes notes notes notes notes notes notes notes notes notes notes notes notes notes notes notes notes notes notes notes notes notes notes notes notes notes notes notes notes notes notes notes notes notes notes notes notes notes notes notes notes notes notes notes notes notes notes notes notes notes notes notes notes notes notes notes notes notes notes notes notes notes notes notes notes notes notes notes notes notes notes notes notes notes notes notes notes notes notes notes notes notes notes notes notes notes notes notes notes notes notes notes notes notes notes notes notes notes notes notes notes notes notes notes notes notes notes notes notes notes notes notes notes notes notes notes notes notes notes notes notes notes notes notes notes notes notes notes notes notes notes notes notes notes notes notes notes notes notes notes notes notes notes notes notes notes notes notes notes notes notes notes notes notes notes notes notes notes notes notes notes notes notes notes notes notes notes notes notes notes notes notes notes notes notes notes notes notes notes notes notes notes notes notes notes notes notes notes notes notes notes notes notes notes notes notes notes notes notes notes notes notes notes notes notes notes notes notes notes notes notes notes notes notes notes notes notes notes notes notes notes notes notes notes notes notes notes notes notes notes notes notes notes notes notes notes notes notes notes notes notes notes notes notes notes notes notes notes notes notes notes notes notes notes notes notes notes notes notes notes notes notes notes notes notes notes notes notes notes notes notes notes notes notes notes notes notes notes notes notes notes notes notes notes notes notes notes notes notes notes notes notes notes notes notes notes notes notes notes notes notes notes notes notes notes notes notes notes notes notes notes notes notes notes notes notes notes notes notes notes notes notes notes notes notes notes notes notes notes notes notes notes notes notes notes notes notes notes notes notes notes notes notes notes notes notes notes notes notes notes notes notes notes notes notes notes notes notes notes notes notes notes notes notes notes notes notes notes notes notes notes notes notes notes notes notes notes notes notes notes notes notes notes notes notes notes notes notes notes notes notes notes notes notes notes notes notes notes notes notes notes notes notes notes notes notes notes notes notes notes notes notes notes notes notes notes notes notes notes notes notes notes notes notes notes notes notes notes notes notes notes notes notes notes notes notes notes notes notes notes notes notes notes notes notes notes notes notes notes notes notes notes notes notes notes notes notes notes notes notes notes notes notes notes notes notes notes notes notes notes notes notes notes notes notes notes notes notes notes notes notes notes notes notes notes notes notes notes notes notes notes notes notes notes notes notes notes notes notes notes notes notes notes notes notes notes notes notes notes notes notes notes notes notes notes notes notes notes notes notes notes notes notes notes notes notes notes notes notes notes notes notes notes notes notes notes notes notes notes notes notes notes notes notes notes notes notes notes notes notes notes notes notes notes notes notes notes notes notes notes notes notes notes notes notes notes notes notes notes notes notes notes notes notes notes notes notes notes notes notes notes notes notes notes notes notes notes notes notes notes notes notes notes notes notes notes notes notes notes notes notes notes notes notes notes notes notes notes notes notes notes notes notes notes notes notes notes notes notes notes notes notes notes notes notes notes notes notes notes notes notes notes notes notes notes notes notes notes notes notes notes notes notes notes notes notes notes notes notes notes notes notes notes notes notes notes notes notes notes notes notes notes notes notes notes notes notes notes notes notes notes notes notes notes notes notes notes notes notes notes notes notes notes notes notes notes notes notes notes notes notes notes notes notes notes notes notes notes notes notes notes notes notes notes notes notes notes notes notes notes notes notes notes notes notes notes notes notes notes notes notes notes notes notes notes notes notes notes notes notes notes notes notes notes notes notes notes notes notes notes notes notes notes notes notes notes notes notes notes notes notes notes notes notes notes notes notes notes notes notes notes notes notes notes notes notes notes notes notes notes notes notes notes notes notes notes notes notes notes notes notes notes notes notes notes notes notes notes notes notes notes notes notes notes notes notes notes notes notes notes notes notes notes notes notes notes notes notes notes notes notes notes notes notes notes notes notes notes notes notes notes notes notes notes notes notes notes notes notes notes notes notes notes notes notes notes notes notes notes notes notes notes notes notes notes notes notes notes notes notes notes notes notes notes notes notes notes notes notes notes notes notes notes notes notes notes notes notes notes notes notes notes notes notes notes notes notes notes notes notes notes notes notes notes notes notes notes notes notes notes notes notes notes notes notes notes notes notes notes notes notes notes notes notes notes notes notes notes notes notes notes notes notes notes notes notes notes notes notes notes notes notes notes notes notes notes notes notes notes notes notes notes notes notes notes notes notes notes notes notes notes notes notes notes notes notes notes notes notes notes notes notes notes notes notes notes notes notes notes notes notes notes notes notes notes notes notes notes notes notes notes notes notes notes notes notes notes notes notes notes notes notes notes notes notes notes notes notes notes notes notes notes notes notes notes notes notes notes notes notes notes notes notes notes notes notes notes notes notes notes notes notes notes notes notes notes notes notes notes notes notes notes notes notes notes notes notes notes notes notes notes notes notes notes notes notes notes notes notes notes notes notes notes notes notes notes notes notes notes notes notes notes notes notes notes notes notes notes notes notes notes notes notes notes notes notes notes notes notes notes notes notes notes notes notes notes notes notes notes notes notes notes notes notes notes notes notes notes notes notes notes notes notes notes notes notes notes notes notes notes notes notes notes notes notes notes notes notes notes notes notes notes notes notes notes notes notes notes notes notes notes notes notes notes notes notes notes notes notes notes notes notes notes notes notes notes notes notes notes notes notes notes notes notes notes notes notes notes notes notes notes notes notes notes notes notes notes notes notes notes notes notes notes notes notes notes notes notes notes notes notes notes notes notes notes notes notes notes notes notes notes notes notes notes notes notes notes notes notes notes notes notes notes notes notes notes notes notes notes notes notes notes notes notes notes notes notes notes notes notes notes notes notes notes notes notes notes notes notes notes notes notes notes notes notes notes notes notes notes notes notes notes notes notes notes notes notes notes notes notes notes notes notes notes notes notes notes notes notes notes notes notes notes notes notes notes notes notes notes notes notes notes notes notes notes notes notes notes notes notes notes notes notes notes notes notes notes notes notes notes notes notes notes notes notes notes notes notes notes notes notes notes notes notes notes notes notes notes notes notes notes notes notes notes notes notes notes notes notes notes notes notes notes notes notes notes notes notes notes notes notes notes notes notes notes notes notes notes notes notes notes notes notes notes notes notes notes notes notes notes notes notes notes notes notes notes notes notes notes notes notes notes notes notes notes notes notes notes notes notes notes notes notes notes notes notes notes notes notes notes notes notes notes notes notes notes notes notes notes notes notes notes notes notes notes notes notes notes notes notes notes notes notes notes notes notes notes notes notes notes notes notes notes notes notes notes notes notes notes notes notes notes notes notes notes notes notes notes notes notes notes notes notes notes notes notes notes notes notes notes notes notes notes notes notes notes notes notes notes notes notes notes notes notes notes notes notes notes notes notes notes notes notes notes notes notes notes notes notes notes notes notes notes notes notes notes notes notes notes notes notes notes notes notes notes notes notes notes notes notes notes notes notes notes notes notes notes notes notes notes notes notes notes notes notes notes notes notes notes notes notes notes notes notes notes notes notes notes notes notes notes notes notes notes notes notes notes notes notes notes notes notes notes notes notes notes notes notes notes notes notes notes notes notes notes notes notes notes notes notes notes notes notes notes notes notes notes notes notes notes notes notes notes notes notes notes notes notes notes notes notes notes notes notes notes notes notes notes notes notes notes notes notes notes notes notes notes notes notes notes notes notes notes notes notes notes notes notes notes notes notes notes notes notes notes notes notes notes notes notes notes notes notes notes notes notes notes notes notes notes notes notes notes notes notes notes notes notes notes notes notes notes notes notes notes notes notes notes notes notes notes notes notes notes notes notes notes notes notes notes notes notes notes notes notes notes notes notes notes notes notes notes notes notes notes notes notes notes notes notes notes notes notes notes notes notes notes notes notes notes notes notes notes notes notes notes notes notes notes notes notes notes notes notes notes notes notes notes notes notes notes notes notes notes notes notes notes notes notes notes notes notes notes notes notes notes notes notes notes notes notes notes notes notes notes notes notes notes notes notes notes notes notes notes notes notes notes notes notes notes notes notes notes notes notes notes notes notes notes notes notes notes notes notes notes notes notes notes notes notes notes notes notes notes notes notes notes notes notes notes notes notes notes notes notes notes notes notes notes notes notes notes notes notes notes notes notes notes notes notes notes notes notes notes notes notes notes notes notes notes notes notes notes notes notes notes notes notes notes notes notes notes notes notes notes notes notes notes notes notes notes notes notes notes notes notes notes notes notes notes notes notes notes notes notes notes notes notes notes notes notes notes notes notes notes notes notes notes notes notes notes notes notes notes notes notes notes notes notes notes notes notes notes notes notes notes notes notes notes notes notes notes notes notes notes notes notes notes notes notes notes notes notes notes notes notes notes notes notes notes notes notes notes notes notes notes notes notes notes notes notes notes notes notes notes notes notes notes notes notes notes notes notes notes notes notes notes notes notes notes notes notes notes notes notes notes notes notes notes notes notes notes notes notes notes notes notes notes notes notes notes notes notes notes notes notes notes notes notes notes notes notes notes notes notes notes notes notes notes notes notes notes notes notes notes notes notes notes notes notes notes notes notes notes notes notes notes notes notes notes notes notes notes notes notes notes notes notes notes notes notes notes notes notes notes notes notes notes notes notes notes notes notes notes notes notes notes notes notes notes notes notes notes notes notes notes notes notes notes notes notes notes notes notes notes notes notes notes notes notes notes notes notes notes notes notes notes notes notes notes notes notes notes notes notes notes notes notes notes notes notes notes notes notes notes notes notes notes notes notes notes notes notes notes notes notes notes notes notes notes notes notes notes notes notes notes notes notes notes notes notes notes notes notes notes notes notes notes notes notes notes notes notes notes notes notes notes notes notes notes notes notes notes notes notes notes notes notes notes notes notes notes notes notes notes notes notes notes notes notes notes notes notes notes notes notes notes notes notes notes notes notes notes notes notes notes notes notes notes notes notes notes notes notes notes notes notes notes notes notes notes notes notes notes notes notes notes notes notes notes notes notes notes notes notes notes notes notes notes notes notes notes notes notes notes notes notes notes notes notes notes notes notes notes notes notes notes notes notes notes notes notes notes notes notes notes notes notes notes notes notes notes notes notes notes notes notes notes notes notes notes notes notes notes notes notes notes notes notes notes notes notes notes notes notes notes notes notes notes notes notes notes notes notes notes notes notes notes notes notes notes notes notes notes notes notes notes notes notes notes notes notes notes notes notes notes notes notes notes notes notes notes notes notes notes notes notes notes notes notes notes notes notes notes notes notes notes notes notes notes notes notes notes notes notes notes notes notes notes notes notes notes notes notes notes notes notes notes notes notes notes notes notes notes notes notes notes notes notes notes notes notes notes notes notes notes notes notes notes notes notes notes notes notes notes notes notes notes notes notes notes notes notes notes notes notes notes notes notes notes notes notes notes notes notes notes notes notes notes notes notes notes notes notes notes notes notes notes notes notes notes notes notes notes notes notes notes notes notes notes notes notes notes notes notes notes notes notes notes notes notes notes notes notes notes notes notes notes notes notes notes notes notes notes notes notes notes notes notes notes notes notes notes notes notes notes notes notes notes notes notes notes notes notes notes notes notes notes notes notes notes notes notes notes notes notes notes notes notes notes notes notes notes notes notes notes notes notes notes notes notes notes notes notes notes notes notes notes notes notes notes notes notes notes notes notes notes notes notes notes notes notes notes notes notes notes notes notes notes notes notes notes notes notes notes notes notes notes notes notes notes notes notes notes notes notes notes notes notes notes notes notes notes notes notes notes notes notes notes notes notes notes notes notes notes notes notes notes notes notes notes notes notes notes notes notes notes notes notes notes notes notes notes notes notes notes notes notes notes notes notes notes notes notes notes notes notes notes notes notes notes notes notes notes notes notes notes notes notes notes notes notes notes notes notes notes notes notes notes notes notes notes notes notes notes notes notes notes notes notes notes notes notes notes notes notes notes notes notes notes notes notes notes notes notes notes notes notes notes notes notes notes notes notes notes notes notes notes notes notes notes notes notes notes notes notes notes notes notes notes notes notes notes notes notes notes notes notes notes notes notes notes notes notes notes notes notes notes notes notes notes notes notes notes notes notes notes notes notes notes notes notes notes notes notes notes notes notes notes notes notes notes notes notes notes notes notes notes notes notes notes notes notes notes notes notes notes notes notes notes notes notes notes notes notes notes notes notes notes notes notes notes notes notes notes notes notes notes notes notes notes notes notes notes notes notes notes notes notes notes notes notes notes notes notes notes notes notes notes notes notes notes notes notes notes notes notes notes notes notes notes notes notes notes notes notes notes notes notes notes notes notes notes notes notes notes notes notes notes notes notes notes notes notes notes notes notes notes notes notes notes notes notes notes notes notes notes notes notes notes notes notes notes notes notes notes notes notes notes notes notes notes notes notes notes notes notes notes notes notes notes notes notes notes notes notes notes notes notes notes notes notes notes notes notes notes notes notes notes notes notes notes notes notes notes notes notes notes notes notes notes notes notes notes notes notes notes notes notes notes notes notes notes notes notes notes notes notes notes notes notes notes notes notes notes notes notes notes notes notes notes notes notes notes notes notes notes notes notes notes notes notes notes notes notes notes notes notes notes notes notes notes notes notes notes notes notes notes notes notes notes notes notes notes notes notes notes notes notes notes notes notes notes notes notes notes notes notes notes notes notes notes notes notes notes notes notes notes notes notes notes notes notes notes notes notes notes notes notes notes notes notes notes notes notes notes notes notes notes notes notes notes notes notes notes notes notes notes notes notes notes notes notes notes notes notes notes notes notes notes notes notes notes notes notes notes notes notes notes notes notes notes notes notes notes notes notes notes notes notes notes notes notes notes notes notes notes notes notes notes notes notes notes notes notes notes notes notes notes notes notes notes notes notes notes notes notes notes notes notes notes notes notes notes notes notes notes notes notes notes notes notes notes notes notes notes notes notes notes notes notes notes notes notes notes notes notes notes notes notes notes notes notes notes notes notes notes notes notes notes notes notes notes notes notes notes notes notes notes notes notes notes notes notes notes notes notes notes notes notes notes notes notes notes notes notes notes notes notes notes notes notes notes notes notes notes notes notes notes notes notes notes notes notes notes notes notes notes notes notes notes notes notes notes notes notes notes notes notes notes notes notes notes notes notes notes notes notes notes notes notes notes notes notes notes notes notes notes notes notes notes notes notes notes notes notes notes notes notes notes notes notes notes notes notes notes notes notes notes notes notes notes notes notes notes notes notes notes notes notes notes notes notes notes notes notes notes notes notes notes notes notes notes notes notes notes notes notes notes notes notes notes notes notes notes notes notes notes notes notes notes notes notes notes notes notes notes notes notes notes notes notes notes notes notes notes notes notes notes notes notes notes notes notes notes notes notes notes notes notes notes notes notes notes notes notes notes notes notes notes notes notes notes notes notes notes notes notes notes notes notes notes notes notes notes notes notes notes notes notes notes notes notes notes notes notes notes notes notes notes notes notes notes notes notes notes notes notes notes notes notes notes notes notes notes notes notes notes notes notes notes notes notes notes notes notes notes notes notes notes notes notes notes notes notes notes notes notes notes notes notes notes notes notes notes notes notes notes notes notes notes notes notes notes notes notes notes notes notes notes notes notes notes notes notes notes notes notes notes notes notes notes notes notes notes notes notes notes notes notes notes notes notes notes notes notes notes notes notes notes notes notes notes notes notes notes notes notes notes notes notes notes notes notes notes notes notes notes notes notes notes notes notes notes notes notes notes notes notes notes notes notes notes notes notes notes notes notes notes notes notes notes notes notes notes notes notes notes notes notes notes notes notes notes notes notes notes notes notes notes notes notes notes notes notes notes notes notes notes notes notes notes notes notes notes notes notes notes notes notes notes notes notes notes notes notes notes notes notes notes notes notes notes notes notes notes notes notes notes notes notes notes notes notes notes notes notes notes notes notes notes notes notes notes notes notes notes notes notes notes notes notes notes notes notes notes notes notes notes notes notes notes notes notes notes notes notes notes notes notes notes notes notes notes notes notes notes notes notes notes notes notes notes notes notes notes notes notes notes notes notes notes notes notes notes notes notes notes notes notes notes notes notes notes notes notes notes notes notes notes notes notes notes notes notes notes notes notes notes notes notes notes notes notes notes notes notes notes notes notes notes notes notes notes notes notes notes notes notes notes notes notes notes notes notes notes notes notes notes notes notes notes notes notes notes notes notes notes notes notes notes notes notes notes notes notes notes notes notes notes notes notes notes notes notes notes notes notes notes notes notes notes notes notes notes notes notes notes notes notes notes notes notes notes notes notes notes notes notes notes notes notes notes notes notes notes notes notes notes notes notes notes notes notes notes notes notes notes notes notes notes notes notes notes notes notes notes notes notes notes notes notes notes notes notes notes notes notes notes notes notes notes notes notes notes notes notes notes notes notes notes notes notes notes notes notes notes notes notes notes notes notes notes notes notes notes notes notes notes notes notes notes notes notes notes\n",
      "\n"
     ]
    }
   ]
  },
  {
   "cell_type": "markdown",
   "metadata": {
    "id": "J-owLs3W1xqn"
   },
   "source": [
    "### Implement beam search (10 points for ITCS 4111 students, 15 points for the ITCS 5111/DSBA 6010 students)\n",
    "\n",
    "We provide an evaluation function that performs greedy decoding on any input sequence provided. \n",
    "\n",
    "(ITCS 4111 students) You must write a new  function that implements beam search for a beam size = 2. \n",
    "\n",
    "(ITCS 5111/DSBA 6010 students) You must write a new  function that implements beam search for an arbitrary beam size. Let the beam size be an input parameter to your function. \n",
    "\n",
    "In greedy decoding, at each decoding step the most likely word is selected, resulting in one decoded sequence output. \n",
    "\n",
    "In beam search, at each decoding step the top k most\n",
    "likely sequences are selected. Each of these k sequences is then used to generate the next step; the top k next words per sequence are considered (for a total of k ∗ k sequences)\n",
    "and the top k sequences are selected to take to the next decoding step. At the end, you have k decoded sequence outputs.\n"
   ]
  },
  {
   "cell_type": "code",
   "metadata": {
    "id": "RM53b6XE1xqo"
   },
   "source": [
    "# WRITE YOUR CODE FOR THE BEAM SEARCH HERE\n",
    "\n",
    "\n",
    "#there are several implementation of beam search on the web. You can adapt those for this assignment. \n",
    "#Please provide proper credit to the original source if you are doing so\n",
    "#one example is here: https://github.com/budzianowski/PyTorch-Beam-Search-Decoding/blob/master/decode_beam.py\n",
    "\n",
    "### The following code has been adapted from https://github.com/budzianowski/PyTorch-Beam-Search-Decoding/blob/master/decode_beam.py\n",
    "import operator\n",
    "from queue import PriorityQueue\n",
    "\n",
    "class DecoderRNN(nn.Module):\n",
    "    def __init__(self, hidden_size, output_size, embedding_size=7, dropout=0.1):\n",
    "        '''\n",
    "        Illustrative decoder\n",
    "        '''\n",
    "        super(DecoderRNN, self).__init__()\n",
    "        self.hidden_size = hidden_size\n",
    "        self.embedding = nn.Embedding(num_embeddings=output_size,\n",
    "                                      embedding_dim=embedding_size,\n",
    "                                      )\n",
    "\n",
    "        self.rnn = nn.GRU(embedding_size, hidden_size, dropout=dropout, batch_first=False)\n",
    "        self.dropout_rate = dropout\n",
    "        self.out = nn.Linear(hidden_size, output_size)\n",
    "\n",
    "    def forward(self, input, hidden):\n",
    "        embedded = self.embedding(input).transpose(0, 1)  # [B,1] -> [ 1, B, D]\n",
    "        embedded = F.dropout(embedded, self.dropout_rate)\n",
    "\n",
    "        output = embedded\n",
    "\n",
    "        output, hidden = self.rnn(output, hidden)\n",
    "\n",
    "        out = self.out(output.squeeze(0))\n",
    "        output = F.log_softmax(out, dim=1)\n",
    "        return output, hidden\n",
    "\n",
    "class BeamSearchNode(object):\n",
    "    def __init__(self, hiddenstate, previousNode, wordId, logProb, length):\n",
    "        '''\n",
    "        :param hiddenstate:\n",
    "        :param previousNode:\n",
    "        :param wordId:\n",
    "        :param logProb:\n",
    "        :param length:\n",
    "        '''\n",
    "        self.h = hiddenstate\n",
    "        self.prevNode = previousNode\n",
    "        self.wordid = wordId\n",
    "        self.logp = logProb\n",
    "        self.leng = length\n",
    "\n",
    "    def eval(self, alpha=1.0):\n",
    "        reward = 0\n",
    "        # Add here a function for shaping a reward\n",
    "\n",
    "        return self.logp / float(self.leng - 1 + 1e-6) + alpha * reward\n",
    "\n",
    "\n",
    "def beam_decode(target_tensor, decoder_hiddens, beam_width = 10):\n",
    "    '''\n",
    "    :param target_tensor: target indexes tensor of shape [B, T] where B is the batch size and T is the maximum length of the output sentence\n",
    "    :param decoder_hidden: input tensor of shape [1, B, H] for start of the decoding\n",
    "    :param encoder_outputs: if you are using attention mechanism you can pass encoder outputs, [T, B, H] where T is the maximum length of input sentence\n",
    "    :return: decoded_batch\n",
    "    '''\n",
    "\n",
    "    topk = 1  # how many sentence do you want to generate\n",
    "    decoded_batch = []\n",
    "\n",
    "    # decoding goes sentence by sentence\n",
    "    for idx in range(target_tensor.size(0)):\n",
    "        if isinstance(decoder_hiddens, tuple):  # LSTM case\n",
    "            decoder_hidden = (decoder_hiddens[0][:,idx, :].unsqueeze(0),decoder_hiddens[1][:,idx, :].unsqueeze(0))\n",
    "        else:\n",
    "            decoder_hidden = decoder_hiddens[:, idx, :].unsqueeze(0)\n",
    "        #encoder_output = encoder_outputs[:,idx, :].unsqueeze(1)\n",
    "\n",
    "        # Start with the start of the sentence token\n",
    "        decoder_input = torch.tensor([[output_vocab.stoi[SOS_TOKEN]]], device=mydevice)\n",
    "\n",
    "        # Number of sentence to generate\n",
    "        endnodes = []\n",
    "        number_required = min((topk + 1), topk - len(endnodes))\n",
    "\n",
    "        # starting node -  hidden vector, previous node, word id, logp, length\n",
    "        node = BeamSearchNode(decoder_hidden, None, decoder_input, 0, 1)\n",
    "        nodes = PriorityQueue()\n",
    "\n",
    "        # start the queue\n",
    "        nodes.put((-node.eval(), node))\n",
    "        qsize = 1\n",
    "\n",
    "        # start beam search\n",
    "        while True:\n",
    "            # give up when decoding takes too long\n",
    "            if qsize > 2000: break\n",
    "\n",
    "            # fetch the best node\n",
    "            score, n = nodes.get()\n",
    "            decoder_input = n.wordid\n",
    "            decoder_hidden = n.h\n",
    "\n",
    "            if n.wordid.item() == EOS_TOKEN and n.prevNode != None:\n",
    "                endnodes.append((score, n))\n",
    "                # if we reached maximum # of sentences required\n",
    "                if len(endnodes) >= number_required:\n",
    "                    break\n",
    "                else:\n",
    "                    continue\n",
    "\n",
    "            # decode for one step using decoder\n",
    "            decoder = DecoderRNN(hidden_size, len(output_vocab)).to(mydevice)\n",
    "            decoder_output, decoder_hidden = decoder(decoder_input, decoder_hidden)\n",
    "\n",
    "            # PUT HERE REAL BEAM SEARCH OF TOP\n",
    "            log_prob, indexes = torch.topk(decoder_output, beam_width)\n",
    "            nextnodes = []\n",
    "\n",
    "            for new_k in range(beam_width):\n",
    "                decoded_t = indexes[0][new_k].view(1, -1)\n",
    "                log_p = log_prob[0][new_k].item()\n",
    "\n",
    "                node = BeamSearchNode(decoder_hidden, n, decoded_t, n.logp + log_p, n.leng + 1)\n",
    "                score = -node.eval()\n",
    "                nextnodes.append((score, node))\n",
    "\n",
    "            # put them into queue\n",
    "            for i in range(len(nextnodes)):\n",
    "                score, nn = nextnodes[i]\n",
    "                nodes.put((score, nn))\n",
    "                # increase qsize\n",
    "            qsize += len(nextnodes) - 1\n",
    "\n",
    "        # choose nbest paths, back trace them\n",
    "        if len(endnodes) == 0:\n",
    "            endnodes = [nodes.get() for _ in range(topk)]\n",
    "\n",
    "        utterances = []\n",
    "        for score, n in sorted(endnodes, key=operator.itemgetter(0)):\n",
    "            utterance = []\n",
    "            utterance.append(n.wordid)\n",
    "            # back trace\n",
    "            while n.prevNode != None:\n",
    "                n = n.prevNode\n",
    "                utterance.append(n.wordid)\n",
    "\n",
    "            utterance = utterance[::-1]\n",
    "            utterances.append(utterance)\n",
    "\n",
    "        decoded_batch.append(utterances)\n",
    "\n",
    "    return decoded_batch\n",
    "\n",
    "#you may need to add a helper function to see if your implementation of beam search works\n",
    "#add that helper function below\n",
    "\n",
    "def gen_tensors(tab_data, n_iters=1):\n",
    "\n",
    "# note batch size of 1, just for simplicity\n",
    "    batch_iterator = torchtext.data.Iterator(\n",
    "        dataset=tab_data, batch_size=1,\n",
    "        sort=False, sort_within_batch=True,\n",
    "        sort_key=lambda x: len(x.src),\n",
    "        device=mydevice, repeat=False)\n",
    "\n",
    "    for e in range(n_iters):\n",
    "        batch_generator = batch_iterator.__iter__()\n",
    "        step = 0\n",
    "        for batch in batch_generator:\n",
    "            step += 1\n",
    "\n",
    "# get the input and target from the batch iterator\n",
    "            input_tensor, input_lengths = getattr(batch, 'src')\n",
    "            #target_tensor = getattr(batch, 'tgt')\n",
    "\n",
    " # this is because we're not actually using the batches.\n",
    "            # batch size is 1 and this just selects that first one\n",
    "            input_tensor = input_tensor[0]\n",
    "            #target_tensor = target_tensor[0]\n",
    "\n",
    "# reshape input and target tensors\n",
    "            #input_tensor.unsqueeze_(-1)\n",
    "            #input_tensor = input_tensor.expand(1,input_tensor.shape[0],1)\n",
    "            #input_tensor = torch.transpose(input_tensor, 1, 2)\n",
    "            target_tensor = torch.tensor([[output_vocab.stoi[SOS_TOKEN]]], device=mydevice)\n",
    "            target_tensor = target_tensor.expand(1, target_tensor.shape[0])\n",
    "\n",
    " # get an initial hidden state for the encoder\n",
    "    encoder_hidden = encoder1.initHidden()\n",
    "\n",
    "    # get the seq lengths, used for iterating through encoder/decoder\n",
    "    input_length = input_tensor.size(0)\n",
    "\n",
    "    # create empty tensor to fill with encoder outputs\n",
    "    encoder_outputs = torch.zeros(MAX_LEN, encoder1.hidden_size, device=mydevice)\n",
    "\n",
    "    # pass the inputs through the encoder\n",
    "    for ei in range(input_length):\n",
    "        encoder_output, encoder_hidden = encoder1(input_tensor[ei], encoder_hidden)\n",
    "        encoder_outputs[ei] = encoder_output[0, 0]\n",
    "\n",
    "    return encoder_hidden, target_tensor"
   ],
   "execution_count": 13,
   "outputs": []
  },
  {
   "cell_type": "code",
   "execution_count": 14,
   "outputs": [],
   "source": [
    "decoder_hidden, target_tensor = gen_tensors(data_train)"
   ],
   "metadata": {
    "collapsed": false,
    "pycharm": {
     "name": "#%%\n"
    }
   }
  },
  {
   "cell_type": "code",
   "execution_count": 15,
   "outputs": [
    {
     "name": "stderr",
     "output_type": "stream",
     "text": [
      "d:\\programdata\\venv\\lib\\site-packages\\torch\\nn\\modules\\rnn.py:58: UserWarning: dropout option adds dropout after all but last recurrent layer, so non-zero dropout expects num_layers greater than 1, but got dropout=0.1 and num_layers=1\n",
      "  warnings.warn(\"dropout option adds dropout after all but last \"\n"
     ]
    },
    {
     "ename": "TypeError",
     "evalue": "'<' not supported between instances of 'BeamSearchNode' and 'BeamSearchNode'",
     "output_type": "error",
     "traceback": [
      "\u001B[1;31m---------------------------------------------------------------------------\u001B[0m",
      "\u001B[1;31mTypeError\u001B[0m                                 Traceback (most recent call last)",
      "\u001B[1;32m<ipython-input-15-6df70811c999>\u001B[0m in \u001B[0;36m<module>\u001B[1;34m\u001B[0m\n\u001B[0;32m      1\u001B[0m \u001B[1;32mimport\u001B[0m \u001B[0mgc\u001B[0m\u001B[1;33m\u001B[0m\u001B[1;33m\u001B[0m\u001B[0m\n\u001B[0;32m      2\u001B[0m \u001B[0mgc\u001B[0m\u001B[1;33m.\u001B[0m\u001B[0mcollect\u001B[0m\u001B[1;33m(\u001B[0m\u001B[1;33m)\u001B[0m\u001B[1;33m\u001B[0m\u001B[1;33m\u001B[0m\u001B[0m\n\u001B[1;32m----> 3\u001B[1;33m \u001B[0mdecoded\u001B[0m \u001B[1;33m=\u001B[0m \u001B[0mbeam_decode\u001B[0m\u001B[1;33m(\u001B[0m\u001B[0mtarget_tensor\u001B[0m\u001B[1;33m,\u001B[0m \u001B[0mdecoder_hidden\u001B[0m\u001B[1;33m,\u001B[0m \u001B[0mbeam_width\u001B[0m \u001B[1;33m=\u001B[0m \u001B[1;36m2\u001B[0m\u001B[1;33m)\u001B[0m\u001B[1;33m\u001B[0m\u001B[1;33m\u001B[0m\u001B[0m\n\u001B[0m\u001B[0;32m      4\u001B[0m \u001B[1;33m\u001B[0m\u001B[0m\n",
      "\u001B[1;32m<ipython-input-13-58c27e112851>\u001B[0m in \u001B[0;36mbeam_decode\u001B[1;34m(target_tensor, decoder_hiddens, beam_width)\u001B[0m\n\u001B[0;32m     99\u001B[0m \u001B[1;33m\u001B[0m\u001B[0m\n\u001B[0;32m    100\u001B[0m             \u001B[1;31m# fetch the best node\u001B[0m\u001B[1;33m\u001B[0m\u001B[1;33m\u001B[0m\u001B[1;33m\u001B[0m\u001B[0m\n\u001B[1;32m--> 101\u001B[1;33m             \u001B[0mscore\u001B[0m\u001B[1;33m,\u001B[0m \u001B[0mn\u001B[0m \u001B[1;33m=\u001B[0m \u001B[0mnodes\u001B[0m\u001B[1;33m.\u001B[0m\u001B[0mget\u001B[0m\u001B[1;33m(\u001B[0m\u001B[1;33m)\u001B[0m\u001B[1;33m\u001B[0m\u001B[1;33m\u001B[0m\u001B[0m\n\u001B[0m\u001B[0;32m    102\u001B[0m             \u001B[0mdecoder_input\u001B[0m \u001B[1;33m=\u001B[0m \u001B[0mn\u001B[0m\u001B[1;33m.\u001B[0m\u001B[0mwordid\u001B[0m\u001B[1;33m\u001B[0m\u001B[1;33m\u001B[0m\u001B[0m\n\u001B[0;32m    103\u001B[0m             \u001B[0mdecoder_hidden\u001B[0m \u001B[1;33m=\u001B[0m \u001B[0mn\u001B[0m\u001B[1;33m.\u001B[0m\u001B[0mh\u001B[0m\u001B[1;33m\u001B[0m\u001B[1;33m\u001B[0m\u001B[0m\n",
      "\u001B[1;32mD:\\Program Files\\Python38\\lib\\queue.py\u001B[0m in \u001B[0;36mget\u001B[1;34m(self, block, timeout)\u001B[0m\n\u001B[0;32m    178\u001B[0m                         \u001B[1;32mraise\u001B[0m \u001B[0mEmpty\u001B[0m\u001B[1;33m\u001B[0m\u001B[1;33m\u001B[0m\u001B[0m\n\u001B[0;32m    179\u001B[0m                     \u001B[0mself\u001B[0m\u001B[1;33m.\u001B[0m\u001B[0mnot_empty\u001B[0m\u001B[1;33m.\u001B[0m\u001B[0mwait\u001B[0m\u001B[1;33m(\u001B[0m\u001B[0mremaining\u001B[0m\u001B[1;33m)\u001B[0m\u001B[1;33m\u001B[0m\u001B[1;33m\u001B[0m\u001B[0m\n\u001B[1;32m--> 180\u001B[1;33m             \u001B[0mitem\u001B[0m \u001B[1;33m=\u001B[0m \u001B[0mself\u001B[0m\u001B[1;33m.\u001B[0m\u001B[0m_get\u001B[0m\u001B[1;33m(\u001B[0m\u001B[1;33m)\u001B[0m\u001B[1;33m\u001B[0m\u001B[1;33m\u001B[0m\u001B[0m\n\u001B[0m\u001B[0;32m    181\u001B[0m             \u001B[0mself\u001B[0m\u001B[1;33m.\u001B[0m\u001B[0mnot_full\u001B[0m\u001B[1;33m.\u001B[0m\u001B[0mnotify\u001B[0m\u001B[1;33m(\u001B[0m\u001B[1;33m)\u001B[0m\u001B[1;33m\u001B[0m\u001B[1;33m\u001B[0m\u001B[0m\n\u001B[0;32m    182\u001B[0m             \u001B[1;32mreturn\u001B[0m \u001B[0mitem\u001B[0m\u001B[1;33m\u001B[0m\u001B[1;33m\u001B[0m\u001B[0m\n",
      "\u001B[1;32mD:\\Program Files\\Python38\\lib\\queue.py\u001B[0m in \u001B[0;36m_get\u001B[1;34m(self)\u001B[0m\n\u001B[0;32m    234\u001B[0m \u001B[1;33m\u001B[0m\u001B[0m\n\u001B[0;32m    235\u001B[0m     \u001B[1;32mdef\u001B[0m \u001B[0m_get\u001B[0m\u001B[1;33m(\u001B[0m\u001B[0mself\u001B[0m\u001B[1;33m)\u001B[0m\u001B[1;33m:\u001B[0m\u001B[1;33m\u001B[0m\u001B[1;33m\u001B[0m\u001B[0m\n\u001B[1;32m--> 236\u001B[1;33m         \u001B[1;32mreturn\u001B[0m \u001B[0mheappop\u001B[0m\u001B[1;33m(\u001B[0m\u001B[0mself\u001B[0m\u001B[1;33m.\u001B[0m\u001B[0mqueue\u001B[0m\u001B[1;33m)\u001B[0m\u001B[1;33m\u001B[0m\u001B[1;33m\u001B[0m\u001B[0m\n\u001B[0m\u001B[0;32m    237\u001B[0m \u001B[1;33m\u001B[0m\u001B[0m\n\u001B[0;32m    238\u001B[0m \u001B[1;33m\u001B[0m\u001B[0m\n",
      "\u001B[1;31mTypeError\u001B[0m: '<' not supported between instances of 'BeamSearchNode' and 'BeamSearchNode'"
     ]
    }
   ],
   "source": [
    "import gc\n",
    "gc.collect()\n",
    "decoded = beam_decode(target_tensor, decoder_hidden, beam_width = 2)"
   ],
   "metadata": {
    "collapsed": false,
    "pycharm": {
     "name": "#%%\n"
    }
   }
  },
  {
   "cell_type": "code",
   "execution_count": null,
   "outputs": [],
   "source": [
    "decoded[0][0][0]"
   ],
   "metadata": {
    "collapsed": false,
    "pycharm": {
     "name": "#%%\n"
    }
   }
  },
  {
   "cell_type": "code",
   "execution_count": null,
   "outputs": [],
   "source": [
    "decoded_words = []\n",
    "for di in range(decoded.shape[2]):\n",
    "            topi = decoded[0][0][di]\n",
    "            next_word = output_vocab.itos[topi.item()]\n",
    "            decoded_words.append(next_word)\n",
    "            if next_word == EOS_TOKEN:\n",
    "                break"
   ],
   "metadata": {
    "collapsed": false,
    "pycharm": {
     "name": "#%%\n"
    }
   }
  },
  {
   "cell_type": "code",
   "execution_count": null,
   "outputs": [],
   "source": [
    "decoded_words"
   ],
   "metadata": {
    "collapsed": false,
    "pycharm": {
     "name": "#%%\n"
    }
   }
  },
  {
   "cell_type": "code",
   "execution_count": null,
   "outputs": [],
   "source": [
    "mydevice = 'cpu'"
   ],
   "metadata": {
    "collapsed": false,
    "pycharm": {
     "name": "#%%\n"
    }
   }
  },
  {
   "cell_type": "code",
   "execution_count": null,
   "outputs": [],
   "source": [
    "mydevice = 'cuda'"
   ],
   "metadata": {
    "collapsed": false,
    "pycharm": {
     "name": "#%%\n"
    }
   }
  },
  {
   "cell_type": "code",
   "execution_count": null,
   "outputs": [],
   "source": [
    "import gc\n",
    "gc.get_count()"
   ],
   "metadata": {
    "collapsed": false,
    "pycharm": {
     "name": "#%%\n"
    }
   }
  }
 ]
}